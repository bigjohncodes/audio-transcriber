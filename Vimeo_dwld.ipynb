{
  "cells": [
    {
      "cell_type": "markdown",
      "metadata": {
        "id": "dmMHD1qOCU9k"
      },
      "source": [
        "Montamos el Drive"
      ]
    },
    {
      "cell_type": "code",
      "execution_count": null,
      "metadata": {
        "colab": {
          "base_uri": "https://localhost:8080/"
        },
        "id": "6GyKnXjhB_fw",
        "outputId": "87e765f8-9f85-4fd5-9351-770619e06565"
      },
      "outputs": [
        {
          "name": "stdout",
          "output_type": "stream",
          "text": [
            "Mounted at /content/drive\n"
          ]
        }
      ],
      "source": [
        "from google.colab import drive\n",
        "drive.mount('/content/drive')\n"
      ]
    },
    {
      "cell_type": "markdown",
      "metadata": {
        "id": "irfLr1E2CSet"
      },
      "source": [
        "Instalamos la dependencia necesaria"
      ]
    },
    {
      "cell_type": "code",
      "execution_count": null,
      "metadata": {
        "colab": {
          "base_uri": "https://localhost:8080/"
        },
        "id": "N3e7IXSwCSGR",
        "outputId": "5d971607-61dc-43b5-e5ae-6aca5be88c47"
      },
      "outputs": [
        {
          "name": "stdout",
          "output_type": "stream",
          "text": [
            "Collecting yt-dlp\n",
            "  Downloading yt_dlp-2025.2.19-py3-none-any.whl.metadata (171 kB)\n",
            "\u001b[?25l     \u001b[90m━━━━━━━━━━━━━━━━━━━━━━━━━━━━━━━━━━━━━━━━\u001b[0m \u001b[32m0.0/171.9 kB\u001b[0m \u001b[31m?\u001b[0m eta \u001b[36m-:--:--\u001b[0m\r\u001b[2K     \u001b[91m━━━━━━━━━━━━━━━━━━━━━━━━━━━━━━━━━━━━━━\u001b[0m\u001b[90m╺\u001b[0m\u001b[90m━\u001b[0m \u001b[32m163.8/171.9 kB\u001b[0m \u001b[31m5.4 MB/s\u001b[0m eta \u001b[36m0:00:01\u001b[0m\r\u001b[2K     \u001b[90m━━━━━━━━━━━━━━━━━━━━━━━━━━━━━━━━━━━━━━━━\u001b[0m \u001b[32m171.9/171.9 kB\u001b[0m \u001b[31m3.7 MB/s\u001b[0m eta \u001b[36m0:00:00\u001b[0m\n",
            "\u001b[?25hDownloading yt_dlp-2025.2.19-py3-none-any.whl (3.2 MB)\n",
            "\u001b[2K   \u001b[90m━━━━━━━━━━━━━━━━━━━━━━━━━━━━━━━━━━━━━━━━\u001b[0m \u001b[32m3.2/3.2 MB\u001b[0m \u001b[31m50.4 MB/s\u001b[0m eta \u001b[36m0:00:00\u001b[0m\n",
            "\u001b[?25hInstalling collected packages: yt-dlp\n",
            "Successfully installed yt-dlp-2025.2.19\n"
          ]
        }
      ],
      "source": [
        "!pip install yt-dlp\n"
      ]
    },
    {
      "cell_type": "code",
      "execution_count": null,
      "metadata": {
        "id": "zHAVQijgCbiq"
      },
      "outputs": [],
      "source": [
        "import os\n",
        "import yt_dlp\n",
        "\n",
        "# Definir la carpeta en Google Drive donde se guardarán los audios\n",
        "carpeta_drive = \"/content/drive/MyDrive/Audios_Vimeo\"\n",
        "\n",
        "# Crear la carpeta si no existe\n",
        "if not os.path.exists(carpeta_drive):\n",
        "    os.makedirs(carpeta_drive)\n",
        "\n",
        "def descargar_audio_vimeo(url, formato_audio=\"bestaudio\"):\n",
        "    \"\"\"Descarga solo el audio del vídeo de Vimeo y lo guarda en Google Drive\"\"\"\n",
        "\n",
        "    opciones = {\n",
        "        \"format\": formato_audio,  # Descargar solo el mejor audio disponible\n",
        "        \"outtmpl\": os.path.join(carpeta_drive, \"%(title)s.%(ext)s\"),\n",
        "        \"postprocessors\": [\n",
        "            {\"key\": \"FFmpegExtractAudio\", \"preferredcodec\": \"mp3\", \"preferredquality\": \"192\"}\n",
        "        ]\n",
        "    }\n",
        "\n",
        "    with yt_dlp.YoutubeDL(opciones) as ydl:\n",
        "        ydl.download([url])\n",
        "\n",
        "    print(f\"\\n✅ Audio descargado y guardado en: {carpeta_drive}\")\n",
        "\n"
      ]
    },
    {
      "cell_type": "markdown",
      "metadata": {
        "id": "IC1xGvu_EiWf"
      },
      "source": [
        "Cargar todas las urls"
      ]
    },
    {
      "cell_type": "code",
      "execution_count": null,
      "metadata": {
        "id": "wy1lRjMPEkBw"
      },
      "outputs": [],
      "source": [
        "# Ruta del archivo con las URLs\n",
        "archivo_urls = \"/content/drive/MyDrive/vimeo.txt\"\n",
        "\n",
        "# Leer las URLs del archivo\n",
        "with open(archivo_urls, \"r\") as f:\n",
        "    urls = [line.strip() for line in f.readlines() if line.strip()]\n"
      ]
    },
    {
      "cell_type": "code",
      "execution_count": null,
      "metadata": {
        "colab": {
          "base_uri": "https://localhost:8080/"
        },
        "id": "7p6N6BZBFbZA",
        "outputId": "0400b7b7-6d30-4697-ee61-2d89683e8a38"
      },
      "outputs": [
        {
          "data": {
            "text/plain": [
              "['https://vimeo.com/626568189/5126e0dcbe',\n",
              " 'https://vimeo.com/626574763/7307067ef0',\n",
              " 'https://vimeo.com/626583272/d4d3dc11e6',\n",
              " 'https://vimeo.com/644338816/3af09bca71',\n",
              " 'https://vimeo.com/626623899/b44469fa5c',\n",
              " 'https://vimeo.com/626624898/3394ccb82a',\n",
              " 'https://vimeo.com/626623393/ea4ccc035e',\n",
              " 'https://vimeo.com/632926646/4369f8a6dc',\n",
              " 'https://vimeo.com/632927359/153910aa2a',\n",
              " 'https://vimeo.com/632928055/d7bb9dd524',\n",
              " 'https://vimeo.com/632926967/d2c3c21087',\n",
              " 'https://vimeo.com/644477201/af41a85bf0',\n",
              " 'https://vimeo.com/632928596/6e0bd6e434',\n",
              " 'https://vimeo.com/636239527/634bc62528',\n",
              " 'https://vimeo.com/636274423/89560c6824',\n",
              " 'https://vimeo.com/636955929/7ad525245a',\n",
              " 'https://vimeo.com/637372328/d8dd2d6432',\n",
              " 'https://vimeo.com/644477293/e1b8ae92a9',\n",
              " 'https://vimeo.com/636375647/82ab6fd70e',\n",
              " 'https://vimeo.com/636376108/72eb523474',\n",
              " 'https://vimeo.com/636376528/227d2dffbf',\n",
              " 'https://vimeo.com/636376858/4ca08396e6',\n",
              " 'https://vimeo.com/636376983/aaa7881349',\n",
              " 'https://vimeo.com/644477367/5ae10a5474',\n",
              " 'https://vimeo.com/637867148/a7efebfe15',\n",
              " 'https://vimeo.com/637867318/f20a26ac33',\n",
              " 'https://vimeo.com/637867510/b7f5c70835',\n",
              " 'https://vimeo.com/644477450/2c7daeb713',\n",
              " 'https://vimeo.com/636963515/d383200b5f',\n",
              " 'https://vimeo.com/636963690/c8c005d90b',\n",
              " 'https://vimeo.com/636963898/ce2e97c94a',\n",
              " 'https://vimeo.com/636967445/1108831b03',\n",
              " 'https://vimeo.com/636969195/6d6242f68e',\n",
              " 'https://vimeo.com/644477509/279807580d',\n",
              " 'https://vimeo.com/637136966/eb073b7e60',\n",
              " 'https://vimeo.com/637148220/bf45365845',\n",
              " 'https://vimeo.com/637136581/6f55f5d237',\n",
              " 'https://vimeo.com/637811974/d8a1d53254',\n",
              " 'https://vimeo.com/637812172/ca442a2cb4',\n",
              " 'https://vimeo.com/644477562/7da53bf22b',\n",
              " 'https://vimeo.com/642696038/2552fd6449',\n",
              " 'https://vimeo.com/642696363/ef01abb0c2',\n",
              " 'https://vimeo.com/642696773/7eda886c06',\n",
              " 'https://vimeo.com/642697052/731a7da6f7',\n",
              " 'https://vimeo.com/642697321/b992a4ced6',\n",
              " 'https://vimeo.com/644477612/ed297341f1',\n",
              " 'https://vimeo.com/637825483/466a311b86',\n",
              " 'https://vimeo.com/637825660/4841692eba',\n",
              " 'https://vimeo.com/637841412/debe6e1d8b',\n",
              " 'https://vimeo.com/637841514/653406d8ee',\n",
              " 'https://vimeo.com/637842730/3694270745',\n",
              " 'https://vimeo.com/644732163/05948e8e34',\n",
              " 'https://vimeo.com/638720484/8ba9678999',\n",
              " 'https://vimeo.com/638720667/bb9f896a5e',\n",
              " 'https://vimeo.com/638720843/2302495aeb',\n",
              " 'https://vimeo.com/638985027/d7735939dd',\n",
              " 'https://vimeo.com/638985237/e25397966f',\n",
              " 'https://vimeo.com/644732196/d079f61473',\n",
              " 'https://vimeo.com/642697575/33f8ab80d5',\n",
              " 'https://vimeo.com/642697742/bcb2104512',\n",
              " 'https://vimeo.com/642698091/789b27e33a',\n",
              " 'https://vimeo.com/642698229/b6ade5297b',\n",
              " 'https://vimeo.com/644732723/cf1c1d9d90',\n",
              " 'https://vimeo.com/637870315/c25fc0c525',\n",
              " 'https://vimeo.com/637874057/670e19b449',\n",
              " 'https://vimeo.com/637870550/fe9f3a7c2c',\n",
              " 'https://vimeo.com/637874337/588824a832',\n",
              " 'https://vimeo.com/637874646/f564a854aa',\n",
              " 'https://vimeo.com/644732734/83c40d9deb',\n",
              " 'https://vimeo.com/638719454/d26eb234b4',\n",
              " 'https://vimeo.com/638719736/b569d649d8',\n",
              " 'https://vimeo.com/638720055/f64e0f0c8e',\n",
              " 'https://vimeo.com/638720260/d2cf44c210',\n",
              " 'https://vimeo.com/644732375/f0b3344786',\n",
              " 'https://vimeo.com/642776408/3a1a2a8a2c',\n",
              " 'https://vimeo.com/642776688/49593538de',\n",
              " 'https://vimeo.com/638644442/6badf1b0f9',\n",
              " 'https://vimeo.com/638644816/8bd7b51dcf',\n",
              " 'https://vimeo.com/642777060/1c3db385cf',\n",
              " 'https://vimeo.com/638644992/c85628976a',\n",
              " 'https://vimeo.com/638645155/75dfd1f6af',\n",
              " 'https://vimeo.com/638645348/794c098a46',\n",
              " 'https://vimeo.com/644732419/45476fe723',\n",
              " 'https://vimeo.com/639279710/def6678baa',\n",
              " 'https://vimeo.com/639279951/3c09046d42',\n",
              " 'https://vimeo.com/639280126/7d7a752cf6',\n",
              " 'https://vimeo.com/639280423/91e7afd7e6',\n",
              " 'https://vimeo.com/639280644/5818db5e42',\n",
              " 'https://vimeo.com/644732455/ed011ab64d',\n",
              " 'https://vimeo.com/639016657/efd7fee787',\n",
              " 'https://vimeo.com/639043217/d89e719b7a',\n",
              " 'https://vimeo.com/639017106/7ccc3a3dc3',\n",
              " 'https://vimeo.com/642782834/b3930bd981',\n",
              " 'https://vimeo.com/644732497/7bd1521707']"
            ]
          },
          "execution_count": 6,
          "metadata": {},
          "output_type": "execute_result"
        }
      ],
      "source": [
        "urls"
      ]
    },
    {
      "cell_type": "code",
      "execution_count": null,
      "metadata": {
        "id": "o_LGlzlHFdso"
      },
      "outputs": [],
      "source": [
        "from tqdm import tqdm"
      ]
    },
    {
      "cell_type": "code",
      "execution_count": null,
      "metadata": {
        "colab": {
          "background_save": true,
          "base_uri": "https://localhost:8080/"
        },
        "id": "JSjB12sSFZNd",
        "outputId": "3e870077-49a1-4e44-8b43-deff679bad81"
      },
      "outputs": [
        {
          "name": "stderr",
          "output_type": "stream",
          "text": [
            "\r  0%|          | 0/94 [00:00<?, ?it/s]"
          ]
        },
        {
          "name": "stdout",
          "output_type": "stream",
          "text": [
            "\n",
            "🔽 Descargando audio de: https://vimeo.com/626568189/5126e0dcbe\n",
            "[vimeo] Extracting URL: https://vimeo.com/626568189/5126e0dcbe\n",
            "[vimeo] 626568189: Downloading viewer info\n",
            "[vimeo] 626568189: Downloading API JSON\n",
            "[vimeo] 626568189: Downloading JSON metadata\n",
            "[vimeo] 626568189: Downloading akfire_interconnect_quic m3u8 information\n",
            "[vimeo] 626568189: Downloading fastly_skyfire m3u8 information\n",
            "[vimeo] 626568189: Downloading akfire_interconnect_quic MPD information\n"
          ]
        },
        {
          "name": "stderr",
          "output_type": "stream",
          "text": [
            "WARNING: [vimeo] 626568189: Failed to parse XML: not well-formed (invalid token): line 1, column 0\n"
          ]
        },
        {
          "name": "stdout",
          "output_type": "stream",
          "text": [
            "[vimeo] 626568189: Downloading fastly_skyfire MPD information\n"
          ]
        },
        {
          "name": "stderr",
          "output_type": "stream",
          "text": [
            "WARNING: [vimeo] 626568189: Failed to parse XML: not well-formed (invalid token): line 1, column 0\n"
          ]
        },
        {
          "name": "stdout",
          "output_type": "stream",
          "text": [
            "[info] 626568189: Downloading 1 format(s): hls-fastly_skyfire-audio-high-Original\n",
            "[hlsnative] Downloading m3u8 manifest\n",
            "[hlsnative] Total fragments: 138\n",
            "[download] Destination: /content/drive/MyDrive/Audios_Vimeo/Excel basics.mp4\n",
            "[download] 100% of   26.25MiB in 00:00:11 at 2.37MiB/s                   \n",
            "[FixupM3u8] Fixing MPEG-TS in MP4 container of \"/content/drive/MyDrive/Audios_Vimeo/Excel basics.mp4\"\n",
            "[ExtractAudio] Destination: /content/drive/MyDrive/Audios_Vimeo/Excel basics.mp3\n",
            "Deleting original file /content/drive/MyDrive/Audios_Vimeo/Excel basics.mp4 (pass -k to keep)\n"
          ]
        },
        {
          "name": "stderr",
          "output_type": "stream",
          "text": [
            "\r  1%|          | 1/94 [00:24<38:41, 24.96s/it]"
          ]
        },
        {
          "name": "stdout",
          "output_type": "stream",
          "text": [
            "\n",
            "✅ Audio descargado y guardado en: /content/drive/MyDrive/Audios_Vimeo\n",
            "\n",
            "🔽 Descargando audio de: https://vimeo.com/626574763/7307067ef0\n",
            "[vimeo] Extracting URL: https://vimeo.com/626574763/7307067ef0\n",
            "[vimeo] 626574763: Downloading viewer info\n",
            "[vimeo] 626574763: Downloading API JSON\n",
            "[vimeo] 626574763: Downloading JSON metadata\n",
            "[vimeo] 626574763: Downloading akfire_interconnect_quic m3u8 information\n",
            "[vimeo] 626574763: Downloading fastly_skyfire m3u8 information\n",
            "[vimeo] 626574763: Downloading akfire_interconnect_quic MPD information\n"
          ]
        },
        {
          "name": "stderr",
          "output_type": "stream",
          "text": [
            "WARNING: [vimeo] 626574763: Failed to parse XML: not well-formed (invalid token): line 1, column 0\n"
          ]
        },
        {
          "name": "stdout",
          "output_type": "stream",
          "text": [
            "[vimeo] 626574763: Downloading fastly_skyfire MPD information\n"
          ]
        },
        {
          "name": "stderr",
          "output_type": "stream",
          "text": [
            "WARNING: [vimeo] 626574763: Failed to parse XML: not well-formed (invalid token): line 1, column 0\n"
          ]
        },
        {
          "name": "stdout",
          "output_type": "stream",
          "text": [
            "[info] 626574763: Downloading 1 format(s): hls-fastly_skyfire-audio-high-Original\n",
            "[hlsnative] Downloading m3u8 manifest\n",
            "[hlsnative] Total fragments: 157\n",
            "[download] Destination: /content/drive/MyDrive/Audios_Vimeo/Herramientas básicas de Excel.mp4\n",
            "[download] 100% of   29.87MiB in 00:00:41 at 737.41KiB/s                 \n",
            "[FixupM3u8] Fixing MPEG-TS in MP4 container of \"/content/drive/MyDrive/Audios_Vimeo/Herramientas básicas de Excel.mp4\"\n",
            "[ExtractAudio] Destination: /content/drive/MyDrive/Audios_Vimeo/Herramientas básicas de Excel.mp3\n",
            "Deleting original file /content/drive/MyDrive/Audios_Vimeo/Herramientas básicas de Excel.mp4 (pass -k to keep)\n"
          ]
        },
        {
          "name": "stderr",
          "output_type": "stream",
          "text": [
            "\r  2%|▏         | 2/94 [01:24<1:09:04, 45.05s/it]"
          ]
        },
        {
          "name": "stdout",
          "output_type": "stream",
          "text": [
            "\n",
            "✅ Audio descargado y guardado en: /content/drive/MyDrive/Audios_Vimeo\n",
            "\n",
            "🔽 Descargando audio de: https://vimeo.com/626583272/d4d3dc11e6\n",
            "[vimeo] Extracting URL: https://vimeo.com/626583272/d4d3dc11e6\n",
            "[vimeo] 626583272: Downloading viewer info\n",
            "[vimeo] 626583272: Downloading API JSON\n",
            "[vimeo] 626583272: Downloading JSON metadata\n",
            "[vimeo] 626583272: Downloading akfire_interconnect_quic m3u8 information\n",
            "[vimeo] 626583272: Downloading fastly_skyfire m3u8 information\n",
            "[vimeo] 626583272: Downloading akfire_interconnect_quic MPD information\n"
          ]
        },
        {
          "name": "stderr",
          "output_type": "stream",
          "text": [
            "WARNING: [vimeo] 626583272: Failed to parse XML: not well-formed (invalid token): line 1, column 0\n"
          ]
        },
        {
          "name": "stdout",
          "output_type": "stream",
          "text": [
            "[vimeo] 626583272: Downloading fastly_skyfire MPD information\n"
          ]
        },
        {
          "name": "stderr",
          "output_type": "stream",
          "text": [
            "WARNING: [vimeo] 626583272: Failed to parse XML: not well-formed (invalid token): line 1, column 0\n"
          ]
        },
        {
          "name": "stdout",
          "output_type": "stream",
          "text": [
            "[info] 626583272: Downloading 1 format(s): hls-fastly_skyfire-audio-high-Original\n",
            "[hlsnative] Downloading m3u8 manifest\n",
            "[hlsnative] Total fragments: 161\n",
            "[download] Destination: /content/drive/MyDrive/Audios_Vimeo/Lo qué no se te puede escapar.mp4\n",
            "[download] 100% of   30.58MiB in 00:00:42 at 739.25KiB/s                 \n",
            "[FixupM3u8] Fixing MPEG-TS in MP4 container of \"/content/drive/MyDrive/Audios_Vimeo/Lo qué no se te puede escapar.mp4\"\n",
            "[ExtractAudio] Destination: /content/drive/MyDrive/Audios_Vimeo/Lo qué no se te puede escapar.mp3\n",
            "Deleting original file /content/drive/MyDrive/Audios_Vimeo/Lo qué no se te puede escapar.mp4 (pass -k to keep)\n"
          ]
        },
        {
          "name": "stderr",
          "output_type": "stream",
          "text": [
            "\r  3%|▎         | 3/94 [02:24<1:19:09, 52.19s/it]"
          ]
        },
        {
          "name": "stdout",
          "output_type": "stream",
          "text": [
            "\n",
            "✅ Audio descargado y guardado en: /content/drive/MyDrive/Audios_Vimeo\n",
            "\n",
            "🔽 Descargando audio de: https://vimeo.com/644338816/3af09bca71\n",
            "[vimeo] Extracting URL: https://vimeo.com/644338816/3af09bca71\n",
            "[vimeo] 644338816: Downloading viewer info\n",
            "[vimeo] 644338816: Downloading API JSON\n",
            "[vimeo] 644338816: Downloading JSON metadata\n",
            "[vimeo] 644338816: Downloading akfire_interconnect_quic m3u8 information\n",
            "[vimeo] 644338816: Downloading fastly_skyfire m3u8 information\n",
            "[vimeo] 644338816: Downloading akfire_interconnect_quic MPD information\n"
          ]
        },
        {
          "name": "stderr",
          "output_type": "stream",
          "text": [
            "WARNING: [vimeo] 644338816: Failed to parse XML: not well-formed (invalid token): line 1, column 0\n"
          ]
        },
        {
          "name": "stdout",
          "output_type": "stream",
          "text": [
            "[vimeo] 644338816: Downloading fastly_skyfire MPD information\n"
          ]
        },
        {
          "name": "stderr",
          "output_type": "stream",
          "text": [
            "WARNING: [vimeo] 644338816: Failed to parse XML: not well-formed (invalid token): line 1, column 0\n"
          ]
        },
        {
          "name": "stdout",
          "output_type": "stream",
          "text": [
            "[info] 644338816: Downloading 1 format(s): hls-fastly_skyfire-audio-high-Original\n",
            "[hlsnative] Downloading m3u8 manifest\n",
            "[hlsnative] Total fragments: 27\n",
            "[download] Destination: /content/drive/MyDrive/Audios_Vimeo/Test - Excel Basics.mp4\n",
            "[download] 100% of    5.14MiB in 00:00:07 at 730.24KiB/s               \n",
            "[FixupM3u8] Fixing MPEG-TS in MP4 container of \"/content/drive/MyDrive/Audios_Vimeo/Test - Excel Basics.mp4\"\n",
            "[ExtractAudio] Destination: /content/drive/MyDrive/Audios_Vimeo/Test - Excel Basics.mp3\n",
            "Deleting original file /content/drive/MyDrive/Audios_Vimeo/Test - Excel Basics.mp4 (pass -k to keep)\n"
          ]
        },
        {
          "name": "stderr",
          "output_type": "stream",
          "text": [
            "\r  4%|▍         | 4/94 [02:37<54:58, 36.65s/it]  "
          ]
        },
        {
          "name": "stdout",
          "output_type": "stream",
          "text": [
            "\n",
            "✅ Audio descargado y guardado en: /content/drive/MyDrive/Audios_Vimeo\n",
            "\n",
            "🔽 Descargando audio de: https://vimeo.com/626623899/b44469fa5c\n",
            "[vimeo] Extracting URL: https://vimeo.com/626623899/b44469fa5c\n",
            "[vimeo] 626623899: Downloading viewer info\n",
            "[vimeo] 626623899: Downloading API JSON\n",
            "[vimeo] 626623899: Downloading JSON metadata\n",
            "[vimeo] 626623899: Downloading akfire_interconnect_quic m3u8 information\n",
            "[vimeo] 626623899: Downloading fastly_skyfire m3u8 information\n",
            "[vimeo] 626623899: Downloading akfire_interconnect_quic MPD information\n"
          ]
        },
        {
          "name": "stderr",
          "output_type": "stream",
          "text": [
            "WARNING: [vimeo] 626623899: Failed to parse XML: not well-formed (invalid token): line 1, column 0\n"
          ]
        },
        {
          "name": "stdout",
          "output_type": "stream",
          "text": [
            "[vimeo] 626623899: Downloading fastly_skyfire MPD information\n"
          ]
        },
        {
          "name": "stderr",
          "output_type": "stream",
          "text": [
            "WARNING: [vimeo] 626623899: Failed to parse XML: not well-formed (invalid token): line 1, column 0\n"
          ]
        },
        {
          "name": "stdout",
          "output_type": "stream",
          "text": [
            "[info] 626623899: Downloading 1 format(s): hls-fastly_skyfire-audio-high-Original\n",
            "[hlsnative] Downloading m3u8 manifest\n",
            "[hlsnative] Total fragments: 147\n",
            "[download] Destination: /content/drive/MyDrive/Audios_Vimeo/Lo más básico de las tablas dinámicas.mp4\n",
            "[download] 100% of   27.85MiB in 00:00:40 at 712.74KiB/s                 \n",
            "[FixupM3u8] Fixing MPEG-TS in MP4 container of \"/content/drive/MyDrive/Audios_Vimeo/Lo más básico de las tablas dinámicas.mp4\"\n",
            "[ExtractAudio] Destination: /content/drive/MyDrive/Audios_Vimeo/Lo más básico de las tablas dinámicas.mp3\n",
            "Deleting original file /content/drive/MyDrive/Audios_Vimeo/Lo más básico de las tablas dinámicas.mp4 (pass -k to keep)\n"
          ]
        },
        {
          "name": "stderr",
          "output_type": "stream",
          "text": [
            "\r  5%|▌         | 5/94 [03:34<1:05:02, 43.84s/it]"
          ]
        },
        {
          "name": "stdout",
          "output_type": "stream",
          "text": [
            "\n",
            "✅ Audio descargado y guardado en: /content/drive/MyDrive/Audios_Vimeo\n",
            "\n",
            "🔽 Descargando audio de: https://vimeo.com/626624898/3394ccb82a\n",
            "[vimeo] Extracting URL: https://vimeo.com/626624898/3394ccb82a\n",
            "[vimeo] 626624898: Downloading viewer info\n",
            "[vimeo] 626624898: Downloading API JSON\n",
            "[vimeo] 626624898: Downloading JSON metadata\n",
            "[vimeo] 626624898: Downloading akfire_interconnect_quic m3u8 information\n",
            "[vimeo] 626624898: Downloading fastly_skyfire m3u8 information\n",
            "[vimeo] 626624898: Downloading akfire_interconnect_quic MPD information\n"
          ]
        },
        {
          "name": "stderr",
          "output_type": "stream",
          "text": [
            "WARNING: [vimeo] 626624898: Failed to parse XML: not well-formed (invalid token): line 1, column 0\n"
          ]
        },
        {
          "name": "stdout",
          "output_type": "stream",
          "text": [
            "[vimeo] 626624898: Downloading fastly_skyfire MPD information\n"
          ]
        },
        {
          "name": "stderr",
          "output_type": "stream",
          "text": [
            "WARNING: [vimeo] 626624898: Failed to parse XML: not well-formed (invalid token): line 1, column 0\n"
          ]
        },
        {
          "name": "stdout",
          "output_type": "stream",
          "text": [
            "[info] 626624898: Downloading 1 format(s): hls-fastly_skyfire-audio-high-Original\n",
            "[hlsnative] Downloading m3u8 manifest\n",
            "[hlsnative] Total fragments: 96\n",
            "[download] Destination: /content/drive/MyDrive/Audios_Vimeo/Trucos con tablas dinámicas.mp4\n",
            "[download] 100% of   18.20MiB in 00:00:28 at 648.46KiB/s               \n",
            "[FixupM3u8] Fixing MPEG-TS in MP4 container of \"/content/drive/MyDrive/Audios_Vimeo/Trucos con tablas dinámicas.mp4\"\n",
            "[ExtractAudio] Destination: /content/drive/MyDrive/Audios_Vimeo/Trucos con tablas dinámicas.mp3\n",
            "Deleting original file /content/drive/MyDrive/Audios_Vimeo/Trucos con tablas dinámicas.mp4 (pass -k to keep)\n"
          ]
        },
        {
          "name": "stderr",
          "output_type": "stream",
          "text": [
            "\r  6%|▋         | 6/94 [04:15<1:02:52, 42.87s/it]"
          ]
        },
        {
          "name": "stdout",
          "output_type": "stream",
          "text": [
            "\n",
            "✅ Audio descargado y guardado en: /content/drive/MyDrive/Audios_Vimeo\n",
            "\n",
            "🔽 Descargando audio de: https://vimeo.com/626623393/ea4ccc035e\n",
            "[vimeo] Extracting URL: https://vimeo.com/626623393/ea4ccc035e\n",
            "[vimeo] 626623393: Downloading viewer info\n",
            "[vimeo] 626623393: Downloading API JSON\n",
            "[vimeo] 626623393: Downloading JSON metadata\n",
            "[vimeo] 626623393: Downloading akfire_interconnect_quic m3u8 information\n",
            "[vimeo] 626623393: Downloading fastly_skyfire m3u8 information\n",
            "[vimeo] 626623393: Downloading akfire_interconnect_quic MPD information\n"
          ]
        },
        {
          "name": "stderr",
          "output_type": "stream",
          "text": [
            "WARNING: [vimeo] 626623393: Failed to parse XML: not well-formed (invalid token): line 1, column 0\n"
          ]
        },
        {
          "name": "stdout",
          "output_type": "stream",
          "text": [
            "[vimeo] 626623393: Downloading fastly_skyfire MPD information\n"
          ]
        },
        {
          "name": "stderr",
          "output_type": "stream",
          "text": [
            "WARNING: [vimeo] 626623393: Failed to parse XML: not well-formed (invalid token): line 1, column 0\n"
          ]
        },
        {
          "name": "stdout",
          "output_type": "stream",
          "text": [
            "[info] 626623393: Downloading 1 format(s): hls-fastly_skyfire-audio-high-Original\n",
            "[hlsnative] Downloading m3u8 manifest\n",
            "[hlsnative] Total fragments: 147\n",
            "[download] Destination: /content/drive/MyDrive/Audios_Vimeo/Como potenciar tus tablas dinámicas.mp4\n",
            "[download] 100% of   27.91MiB in 00:00:37 at 766.71KiB/s                 \n",
            "[FixupM3u8] Fixing MPEG-TS in MP4 container of \"/content/drive/MyDrive/Audios_Vimeo/Como potenciar tus tablas dinámicas.mp4\"\n",
            "[ExtractAudio] Destination: /content/drive/MyDrive/Audios_Vimeo/Como potenciar tus tablas dinámicas.mp3\n",
            "Deleting original file /content/drive/MyDrive/Audios_Vimeo/Como potenciar tus tablas dinámicas.mp4 (pass -k to keep)\n"
          ]
        },
        {
          "name": "stderr",
          "output_type": "stream",
          "text": [
            "\r  7%|▋         | 7/94 [05:08<1:07:11, 46.34s/it]"
          ]
        },
        {
          "name": "stdout",
          "output_type": "stream",
          "text": [
            "\n",
            "✅ Audio descargado y guardado en: /content/drive/MyDrive/Audios_Vimeo\n",
            "\n",
            "🔽 Descargando audio de: https://vimeo.com/632926646/4369f8a6dc\n",
            "[vimeo] Extracting URL: https://vimeo.com/632926646/4369f8a6dc\n",
            "[vimeo] 632926646: Downloading viewer info\n",
            "[vimeo] 632926646: Downloading API JSON\n",
            "[vimeo] 632926646: Downloading JSON metadata\n",
            "[vimeo] 632926646: Downloading akfire_interconnect_quic m3u8 information\n",
            "[vimeo] 632926646: Downloading fastly_skyfire m3u8 information\n",
            "[vimeo] 632926646: Downloading akfire_interconnect_quic MPD information\n"
          ]
        },
        {
          "name": "stderr",
          "output_type": "stream",
          "text": [
            "WARNING: [vimeo] 632926646: Failed to parse XML: not well-formed (invalid token): line 1, column 0\n"
          ]
        },
        {
          "name": "stdout",
          "output_type": "stream",
          "text": [
            "[vimeo] 632926646: Downloading fastly_skyfire MPD information\n"
          ]
        },
        {
          "name": "stderr",
          "output_type": "stream",
          "text": [
            "WARNING: [vimeo] 632926646: Failed to parse XML: not well-formed (invalid token): line 1, column 0\n"
          ]
        },
        {
          "name": "stdout",
          "output_type": "stream",
          "text": [
            "[info] 632926646: Downloading 1 format(s): hls-fastly_skyfire-audio-high-Original\n",
            "[hlsnative] Downloading m3u8 manifest\n",
            "[hlsnative] Total fragments: 132\n",
            "[download] Destination: /content/drive/MyDrive/Audios_Vimeo/Analizar y dinamizar datos con tablas dinámicas.mp4\n",
            "[download] 100% of   25.06MiB in 00:00:37 at 678.97KiB/s                 \n",
            "[FixupM3u8] Fixing MPEG-TS in MP4 container of \"/content/drive/MyDrive/Audios_Vimeo/Analizar y dinamizar datos con tablas dinámicas.mp4\"\n",
            "[ExtractAudio] Destination: /content/drive/MyDrive/Audios_Vimeo/Analizar y dinamizar datos con tablas dinámicas.mp3\n",
            "Deleting original file /content/drive/MyDrive/Audios_Vimeo/Analizar y dinamizar datos con tablas dinámicas.mp4 (pass -k to keep)\n"
          ]
        },
        {
          "name": "stderr",
          "output_type": "stream",
          "text": [
            "\r  9%|▊         | 8/94 [06:00<1:09:01, 48.16s/it]"
          ]
        },
        {
          "name": "stdout",
          "output_type": "stream",
          "text": [
            "\n",
            "✅ Audio descargado y guardado en: /content/drive/MyDrive/Audios_Vimeo\n",
            "\n",
            "🔽 Descargando audio de: https://vimeo.com/632927359/153910aa2a\n",
            "[vimeo] Extracting URL: https://vimeo.com/632927359/153910aa2a\n",
            "[vimeo] 632927359: Downloading viewer info\n",
            "[vimeo] 632927359: Downloading API JSON\n",
            "[vimeo] 632927359: Downloading JSON metadata\n",
            "[vimeo] 632927359: Downloading akfire_interconnect_quic m3u8 information\n",
            "[vimeo] 632927359: Downloading fastly_skyfire m3u8 information\n",
            "[vimeo] 632927359: Downloading akfire_interconnect_quic MPD information\n"
          ]
        },
        {
          "name": "stderr",
          "output_type": "stream",
          "text": [
            "WARNING: [vimeo] 632927359: Failed to parse XML: not well-formed (invalid token): line 1, column 0\n"
          ]
        },
        {
          "name": "stdout",
          "output_type": "stream",
          "text": [
            "[vimeo] 632927359: Downloading fastly_skyfire MPD information\n"
          ]
        },
        {
          "name": "stderr",
          "output_type": "stream",
          "text": [
            "WARNING: [vimeo] 632927359: Failed to parse XML: not well-formed (invalid token): line 1, column 0\n"
          ]
        },
        {
          "name": "stdout",
          "output_type": "stream",
          "text": [
            "[info] 632927359: Downloading 1 format(s): hls-fastly_skyfire-audio-high-Original\n",
            "[hlsnative] Downloading m3u8 manifest\n",
            "[hlsnative] Total fragments: 120\n",
            "[download] Destination: /content/drive/MyDrive/Audios_Vimeo/Porcentajes con tablas dinámicas.mp4\n",
            "[download] 100% of   22.85MiB in 00:00:30 at 776.57KiB/s                 \n",
            "[FixupM3u8] Fixing MPEG-TS in MP4 container of \"/content/drive/MyDrive/Audios_Vimeo/Porcentajes con tablas dinámicas.mp4\"\n",
            "[ExtractAudio] Destination: /content/drive/MyDrive/Audios_Vimeo/Porcentajes con tablas dinámicas.mp3\n",
            "Deleting original file /content/drive/MyDrive/Audios_Vimeo/Porcentajes con tablas dinámicas.mp4 (pass -k to keep)\n"
          ]
        },
        {
          "name": "stderr",
          "output_type": "stream",
          "text": [
            "\r 10%|▉         | 9/94 [06:45<1:06:50, 47.18s/it]"
          ]
        },
        {
          "name": "stdout",
          "output_type": "stream",
          "text": [
            "\n",
            "✅ Audio descargado y guardado en: /content/drive/MyDrive/Audios_Vimeo\n",
            "\n",
            "🔽 Descargando audio de: https://vimeo.com/632928055/d7bb9dd524\n",
            "[vimeo] Extracting URL: https://vimeo.com/632928055/d7bb9dd524\n",
            "[vimeo] 632928055: Downloading viewer info\n",
            "[vimeo] 632928055: Downloading API JSON\n",
            "[vimeo] 632928055: Downloading JSON metadata\n",
            "[vimeo] 632928055: Downloading akfire_interconnect_quic m3u8 information\n",
            "[vimeo] 632928055: Downloading fastly_skyfire m3u8 information\n",
            "[vimeo] 632928055: Downloading akfire_interconnect_quic MPD information\n"
          ]
        },
        {
          "name": "stderr",
          "output_type": "stream",
          "text": [
            "WARNING: [vimeo] 632928055: Failed to parse XML: not well-formed (invalid token): line 1, column 0\n"
          ]
        },
        {
          "name": "stdout",
          "output_type": "stream",
          "text": [
            "[vimeo] 632928055: Downloading fastly_skyfire MPD information\n"
          ]
        },
        {
          "name": "stderr",
          "output_type": "stream",
          "text": [
            "WARNING: [vimeo] 632928055: Failed to parse XML: not well-formed (invalid token): line 1, column 0\n"
          ]
        },
        {
          "name": "stdout",
          "output_type": "stream",
          "text": [
            "[info] 632928055: Downloading 1 format(s): hls-fastly_skyfire-audio-high-Original\n",
            "[hlsnative] Downloading m3u8 manifest\n",
            "[hlsnative] Total fragments: 107\n",
            "[download] Destination: /content/drive/MyDrive/Audios_Vimeo/Tablas dinámicas desde diferentes hojas.mp4\n",
            "[download] 100% of   20.35MiB in 00:00:28 at 721.89KiB/s                 \n",
            "[FixupM3u8] Fixing MPEG-TS in MP4 container of \"/content/drive/MyDrive/Audios_Vimeo/Tablas dinámicas desde diferentes hojas.mp4\"\n",
            "[ExtractAudio] Destination: /content/drive/MyDrive/Audios_Vimeo/Tablas dinámicas desde diferentes hojas.mp3\n",
            "Deleting original file /content/drive/MyDrive/Audios_Vimeo/Tablas dinámicas desde diferentes hojas.mp4 (pass -k to keep)\n"
          ]
        },
        {
          "name": "stderr",
          "output_type": "stream",
          "text": [
            "\r 11%|█         | 10/94 [07:27<1:03:30, 45.37s/it]"
          ]
        },
        {
          "name": "stdout",
          "output_type": "stream",
          "text": [
            "\n",
            "✅ Audio descargado y guardado en: /content/drive/MyDrive/Audios_Vimeo\n",
            "\n",
            "🔽 Descargando audio de: https://vimeo.com/632926967/d2c3c21087\n",
            "[vimeo] Extracting URL: https://vimeo.com/632926967/d2c3c21087\n",
            "[vimeo] 632926967: Downloading viewer info\n",
            "[vimeo] 632926967: Downloading API JSON\n",
            "[vimeo] 632926967: Downloading JSON metadata\n",
            "[vimeo] 632926967: Downloading akfire_interconnect_quic m3u8 information\n",
            "[vimeo] 632926967: Downloading fastly_skyfire m3u8 information\n",
            "[vimeo] 632926967: Downloading akfire_interconnect_quic MPD information\n"
          ]
        },
        {
          "name": "stderr",
          "output_type": "stream",
          "text": [
            "WARNING: [vimeo] 632926967: Failed to parse XML: not well-formed (invalid token): line 1, column 0\n"
          ]
        },
        {
          "name": "stdout",
          "output_type": "stream",
          "text": [
            "[vimeo] 632926967: Downloading fastly_skyfire MPD information\n"
          ]
        },
        {
          "name": "stderr",
          "output_type": "stream",
          "text": [
            "WARNING: [vimeo] 632926967: Failed to parse XML: not well-formed (invalid token): line 1, column 0\n"
          ]
        },
        {
          "name": "stdout",
          "output_type": "stream",
          "text": [
            "[info] 632926967: Downloading 1 format(s): hls-fastly_skyfire-audio-high-Original\n",
            "[hlsnative] Downloading m3u8 manifest\n",
            "[hlsnative] Total fragments: 116\n",
            "[download] Destination: /content/drive/MyDrive/Audios_Vimeo/Elementos calculados y valores únicos en tablas dinámicas.mp4\n",
            "[download] 100% of   22.07MiB in 00:00:31 at 728.68KiB/s                 \n",
            "[FixupM3u8] Fixing MPEG-TS in MP4 container of \"/content/drive/MyDrive/Audios_Vimeo/Elementos calculados y valores únicos en tablas dinámicas.mp4\"\n",
            "[ExtractAudio] Destination: /content/drive/MyDrive/Audios_Vimeo/Elementos calculados y valores únicos en tablas dinámicas.mp3\n",
            "Deleting original file /content/drive/MyDrive/Audios_Vimeo/Elementos calculados y valores únicos en tablas dinámicas.mp4 (pass -k to keep)\n"
          ]
        },
        {
          "name": "stderr",
          "output_type": "stream",
          "text": [
            "\r 12%|█▏        | 11/94 [08:12<1:02:38, 45.28s/it]"
          ]
        },
        {
          "name": "stdout",
          "output_type": "stream",
          "text": [
            "\n",
            "✅ Audio descargado y guardado en: /content/drive/MyDrive/Audios_Vimeo\n",
            "\n",
            "🔽 Descargando audio de: https://vimeo.com/644477201/af41a85bf0\n",
            "[vimeo] Extracting URL: https://vimeo.com/644477201/af41a85bf0\n",
            "[vimeo] 644477201: Downloading viewer info\n",
            "[vimeo] 644477201: Downloading API JSON\n",
            "[vimeo] 644477201: Downloading JSON metadata\n",
            "[vimeo] 644477201: Downloading akfire_interconnect_quic m3u8 information\n",
            "[vimeo] 644477201: Downloading fastly_skyfire m3u8 information\n",
            "[vimeo] 644477201: Downloading akfire_interconnect_quic MPD information\n"
          ]
        },
        {
          "name": "stderr",
          "output_type": "stream",
          "text": [
            "WARNING: [vimeo] 644477201: Failed to parse XML: not well-formed (invalid token): line 1, column 0\n"
          ]
        },
        {
          "name": "stdout",
          "output_type": "stream",
          "text": [
            "[vimeo] 644477201: Downloading fastly_skyfire MPD information\n"
          ]
        },
        {
          "name": "stderr",
          "output_type": "stream",
          "text": [
            "WARNING: [vimeo] 644477201: Failed to parse XML: not well-formed (invalid token): line 1, column 0\n"
          ]
        },
        {
          "name": "stdout",
          "output_type": "stream",
          "text": [
            "[info] 644477201: Downloading 1 format(s): hls-fastly_skyfire-audio-high-Original\n",
            "[hlsnative] Downloading m3u8 manifest\n",
            "[hlsnative] Total fragments: 33\n",
            "[download] Destination: /content/drive/MyDrive/Audios_Vimeo/Test - Excel Tablas Dinámicas.mp4\n",
            "[download] 100% of    6.30MiB in 00:00:08 at 747.66KiB/s               \n",
            "[FixupM3u8] Fixing MPEG-TS in MP4 container of \"/content/drive/MyDrive/Audios_Vimeo/Test - Excel Tablas Dinámicas.mp4\"\n",
            "[ExtractAudio] Destination: /content/drive/MyDrive/Audios_Vimeo/Test - Excel Tablas Dinámicas.mp3\n",
            "Deleting original file /content/drive/MyDrive/Audios_Vimeo/Test - Excel Tablas Dinámicas.mp4 (pass -k to keep)\n"
          ]
        },
        {
          "name": "stderr",
          "output_type": "stream",
          "text": [
            "\r 13%|█▎        | 12/94 [08:28<49:53, 36.51s/it]  "
          ]
        },
        {
          "name": "stdout",
          "output_type": "stream",
          "text": [
            "\n",
            "✅ Audio descargado y guardado en: /content/drive/MyDrive/Audios_Vimeo\n",
            "\n",
            "🔽 Descargando audio de: https://vimeo.com/632928596/6e0bd6e434\n",
            "[vimeo] Extracting URL: https://vimeo.com/632928596/6e0bd6e434\n",
            "[vimeo] 632928596: Downloading viewer info\n",
            "[vimeo] 632928596: Downloading API JSON\n",
            "[vimeo] 632928596: Downloading JSON metadata\n",
            "[vimeo] 632928596: Downloading akfire_interconnect_quic m3u8 information\n",
            "[vimeo] 632928596: Downloading fastly_skyfire m3u8 information\n",
            "[vimeo] 632928596: Downloading akfire_interconnect_quic MPD information\n"
          ]
        },
        {
          "name": "stderr",
          "output_type": "stream",
          "text": [
            "WARNING: [vimeo] 632928596: Failed to parse XML: not well-formed (invalid token): line 1, column 0\n"
          ]
        },
        {
          "name": "stdout",
          "output_type": "stream",
          "text": [
            "[vimeo] 632928596: Downloading fastly_skyfire MPD information\n"
          ]
        },
        {
          "name": "stderr",
          "output_type": "stream",
          "text": [
            "WARNING: [vimeo] 632928596: Failed to parse XML: not well-formed (invalid token): line 1, column 0\n"
          ]
        },
        {
          "name": "stdout",
          "output_type": "stream",
          "text": [
            "[info] 632928596: Downloading 1 format(s): hls-fastly_skyfire-audio-high-Original\n",
            "[hlsnative] Downloading m3u8 manifest\n",
            "[hlsnative] Total fragments: 154\n",
            "[download] Destination: /content/drive/MyDrive/Audios_Vimeo/Que es cruzar tablas y tu primera vez.mp4\n",
            "[download] 100% of   29.19MiB in 00:00:40 at 737.70KiB/s                 \n",
            "[FixupM3u8] Fixing MPEG-TS in MP4 container of \"/content/drive/MyDrive/Audios_Vimeo/Que es cruzar tablas y tu primera vez.mp4\"\n",
            "[ExtractAudio] Destination: /content/drive/MyDrive/Audios_Vimeo/Que es cruzar tablas y tu primera vez.mp3\n",
            "Deleting original file /content/drive/MyDrive/Audios_Vimeo/Que es cruzar tablas y tu primera vez.mp4 (pass -k to keep)\n"
          ]
        },
        {
          "name": "stderr",
          "output_type": "stream",
          "text": [
            "\r 14%|█▍        | 13/94 [09:26<57:54, 42.90s/it]"
          ]
        },
        {
          "name": "stdout",
          "output_type": "stream",
          "text": [
            "\n",
            "✅ Audio descargado y guardado en: /content/drive/MyDrive/Audios_Vimeo\n",
            "\n",
            "🔽 Descargando audio de: https://vimeo.com/636239527/634bc62528\n",
            "[vimeo] Extracting URL: https://vimeo.com/636239527/634bc62528\n",
            "[vimeo] 636239527: Downloading viewer info\n",
            "[vimeo] 636239527: Downloading API JSON\n",
            "[vimeo] 636239527: Downloading JSON metadata\n",
            "[vimeo] 636239527: Downloading akfire_interconnect_quic m3u8 information\n",
            "[vimeo] 636239527: Downloading fastly_skyfire m3u8 information\n",
            "[vimeo] 636239527: Downloading akfire_interconnect_quic MPD information\n"
          ]
        },
        {
          "name": "stderr",
          "output_type": "stream",
          "text": [
            "WARNING: [vimeo] 636239527: Failed to parse XML: not well-formed (invalid token): line 1, column 0\n"
          ]
        },
        {
          "name": "stdout",
          "output_type": "stream",
          "text": [
            "[vimeo] 636239527: Downloading fastly_skyfire MPD information\n"
          ]
        },
        {
          "name": "stderr",
          "output_type": "stream",
          "text": [
            "WARNING: [vimeo] 636239527: Failed to parse XML: not well-formed (invalid token): line 1, column 0\n"
          ]
        },
        {
          "name": "stdout",
          "output_type": "stream",
          "text": [
            "[info] 636239527: Downloading 1 format(s): hls-fastly_skyfire-audio-high-Original\n",
            "[hlsnative] Downloading m3u8 manifest\n",
            "[hlsnative] Total fragments: 132\n",
            "[download] Destination: /content/drive/MyDrive/Audios_Vimeo/Dominar BuscarV y errores comunes.mp4\n",
            "[download] 100% of   25.08MiB in 00:00:36 at 702.86KiB/s                 \n",
            "[FixupM3u8] Fixing MPEG-TS in MP4 container of \"/content/drive/MyDrive/Audios_Vimeo/Dominar BuscarV y errores comunes.mp4\"\n",
            "[ExtractAudio] Destination: /content/drive/MyDrive/Audios_Vimeo/Dominar BuscarV y errores comunes.mp3\n",
            "Deleting original file /content/drive/MyDrive/Audios_Vimeo/Dominar BuscarV y errores comunes.mp4 (pass -k to keep)\n"
          ]
        },
        {
          "name": "stderr",
          "output_type": "stream",
          "text": [
            "\r 15%|█▍        | 14/94 [10:18<1:01:07, 45.84s/it]"
          ]
        },
        {
          "name": "stdout",
          "output_type": "stream",
          "text": [
            "\n",
            "✅ Audio descargado y guardado en: /content/drive/MyDrive/Audios_Vimeo\n",
            "\n",
            "🔽 Descargando audio de: https://vimeo.com/636274423/89560c6824\n",
            "[vimeo] Extracting URL: https://vimeo.com/636274423/89560c6824\n",
            "[vimeo] 636274423: Downloading viewer info\n",
            "[vimeo] 636274423: Downloading API JSON\n",
            "[vimeo] 636274423: Downloading JSON metadata\n",
            "[vimeo] 636274423: Downloading akfire_interconnect_quic m3u8 information\n",
            "[vimeo] 636274423: Downloading fastly_skyfire m3u8 information\n",
            "[vimeo] 636274423: Downloading akfire_interconnect_quic MPD information\n"
          ]
        },
        {
          "name": "stderr",
          "output_type": "stream",
          "text": [
            "WARNING: [vimeo] 636274423: Failed to parse XML: not well-formed (invalid token): line 1, column 0\n"
          ]
        },
        {
          "name": "stdout",
          "output_type": "stream",
          "text": [
            "[vimeo] 636274423: Downloading fastly_skyfire MPD information\n"
          ]
        },
        {
          "name": "stderr",
          "output_type": "stream",
          "text": [
            "WARNING: [vimeo] 636274423: Failed to parse XML: not well-formed (invalid token): line 1, column 0\n"
          ]
        },
        {
          "name": "stdout",
          "output_type": "stream",
          "text": [
            "[info] 636274423: Downloading 1 format(s): hls-fastly_skyfire-audio-high-Original\n",
            "[hlsnative] Downloading m3u8 manifest\n",
            "[hlsnative] Total fragments: 149\n",
            "[download] Destination: /content/drive/MyDrive/Audios_Vimeo/Cómo potenciar BuscarV con otras funciones.mp4\n",
            "[download] 100% of   28.19MiB in 00:00:39 at 738.02KiB/s                 \n",
            "[FixupM3u8] Fixing MPEG-TS in MP4 container of \"/content/drive/MyDrive/Audios_Vimeo/Cómo potenciar BuscarV con otras funciones.mp4\"\n",
            "[ExtractAudio] Destination: /content/drive/MyDrive/Audios_Vimeo/Cómo potenciar BuscarV con otras funciones.mp3\n",
            "Deleting original file /content/drive/MyDrive/Audios_Vimeo/Cómo potenciar BuscarV con otras funciones.mp4 (pass -k to keep)\n"
          ]
        },
        {
          "name": "stderr",
          "output_type": "stream",
          "text": [
            "\r 16%|█▌        | 15/94 [11:15<1:04:38, 49.09s/it]"
          ]
        },
        {
          "name": "stdout",
          "output_type": "stream",
          "text": [
            "\n",
            "✅ Audio descargado y guardado en: /content/drive/MyDrive/Audios_Vimeo\n",
            "\n",
            "🔽 Descargando audio de: https://vimeo.com/636955929/7ad525245a\n",
            "[vimeo] Extracting URL: https://vimeo.com/636955929/7ad525245a\n",
            "[vimeo] 636955929: Downloading viewer info\n",
            "[vimeo] 636955929: Downloading API JSON\n",
            "[vimeo] 636955929: Downloading JSON metadata\n",
            "[vimeo] 636955929: Downloading akfire_interconnect_quic m3u8 information\n",
            "[vimeo] 636955929: Downloading fastly_skyfire m3u8 information\n",
            "[vimeo] 636955929: Downloading akfire_interconnect_quic MPD information\n"
          ]
        },
        {
          "name": "stderr",
          "output_type": "stream",
          "text": [
            "WARNING: [vimeo] 636955929: Failed to parse XML: not well-formed (invalid token): line 1, column 0\n"
          ]
        },
        {
          "name": "stdout",
          "output_type": "stream",
          "text": [
            "[vimeo] 636955929: Downloading fastly_skyfire MPD information\n"
          ]
        },
        {
          "name": "stderr",
          "output_type": "stream",
          "text": [
            "WARNING: [vimeo] 636955929: Failed to parse XML: not well-formed (invalid token): line 1, column 0\n"
          ]
        },
        {
          "name": "stdout",
          "output_type": "stream",
          "text": [
            "[info] 636955929: Downloading 1 format(s): hls-fastly_skyfire-audio-high-Original\n",
            "[hlsnative] Downloading m3u8 manifest\n",
            "[hlsnative] Total fragments: 143\n",
            "[download] Destination: /content/drive/MyDrive/Audios_Vimeo/El poder de BuscarV y Coincidir.mp4\n",
            "[download] 100% of   27.19MiB in 00:00:35 at 778.62KiB/s                 \n",
            "[FixupM3u8] Fixing MPEG-TS in MP4 container of \"/content/drive/MyDrive/Audios_Vimeo/El poder de BuscarV y Coincidir.mp4\"\n",
            "[ExtractAudio] Destination: /content/drive/MyDrive/Audios_Vimeo/El poder de BuscarV y Coincidir.mp3\n",
            "Deleting original file /content/drive/MyDrive/Audios_Vimeo/El poder de BuscarV y Coincidir.mp4 (pass -k to keep)\n"
          ]
        },
        {
          "name": "stderr",
          "output_type": "stream",
          "text": [
            "\r 17%|█▋        | 16/94 [12:09<1:05:40, 50.52s/it]"
          ]
        },
        {
          "name": "stdout",
          "output_type": "stream",
          "text": [
            "\n",
            "✅ Audio descargado y guardado en: /content/drive/MyDrive/Audios_Vimeo\n",
            "\n",
            "🔽 Descargando audio de: https://vimeo.com/637372328/d8dd2d6432\n",
            "[vimeo] Extracting URL: https://vimeo.com/637372328/d8dd2d6432\n",
            "[vimeo] 637372328: Downloading viewer info\n",
            "[vimeo] 637372328: Downloading API JSON\n",
            "[vimeo] 637372328: Downloading JSON metadata\n",
            "[vimeo] 637372328: Downloading akfire_interconnect_quic m3u8 information\n",
            "[vimeo] 637372328: Downloading fastly_skyfire m3u8 information\n",
            "[vimeo] 637372328: Downloading akfire_interconnect_quic MPD information\n"
          ]
        },
        {
          "name": "stderr",
          "output_type": "stream",
          "text": [
            "WARNING: [vimeo] 637372328: Failed to parse XML: not well-formed (invalid token): line 1, column 0\n"
          ]
        },
        {
          "name": "stdout",
          "output_type": "stream",
          "text": [
            "[vimeo] 637372328: Downloading fastly_skyfire MPD information\n"
          ]
        },
        {
          "name": "stderr",
          "output_type": "stream",
          "text": [
            "WARNING: [vimeo] 637372328: Failed to parse XML: not well-formed (invalid token): line 1, column 0\n"
          ]
        },
        {
          "name": "stdout",
          "output_type": "stream",
          "text": [
            "[info] 637372328: Downloading 1 format(s): hls-fastly_skyfire-audio-high-Original\n",
            "[hlsnative] Downloading m3u8 manifest\n",
            "[hlsnative] Total fragments: 202\n",
            "[download] Destination: /content/drive/MyDrive/Audios_Vimeo/Función BuscarX.mp4\n",
            "[download] 100% of   38.24MiB in 00:00:58 at 665.26KiB/s                 \n",
            "[FixupM3u8] Fixing MPEG-TS in MP4 container of \"/content/drive/MyDrive/Audios_Vimeo/Función BuscarX.mp4\"\n",
            "[ExtractAudio] Destination: /content/drive/MyDrive/Audios_Vimeo/Función BuscarX.mp3\n",
            "Deleting original file /content/drive/MyDrive/Audios_Vimeo/Función BuscarX.mp4 (pass -k to keep)\n"
          ]
        },
        {
          "name": "stderr",
          "output_type": "stream",
          "text": [
            "\r 18%|█▊        | 17/94 [13:29<1:16:16, 59.44s/it]"
          ]
        },
        {
          "name": "stdout",
          "output_type": "stream",
          "text": [
            "\n",
            "✅ Audio descargado y guardado en: /content/drive/MyDrive/Audios_Vimeo\n",
            "\n",
            "🔽 Descargando audio de: https://vimeo.com/644477293/e1b8ae92a9\n",
            "[vimeo] Extracting URL: https://vimeo.com/644477293/e1b8ae92a9\n",
            "[vimeo] 644477293: Downloading viewer info\n",
            "[vimeo] 644477293: Downloading API JSON\n",
            "[vimeo] 644477293: Downloading JSON metadata\n",
            "[vimeo] 644477293: Downloading akfire_interconnect_quic m3u8 information\n",
            "[vimeo] 644477293: Downloading fastly_skyfire m3u8 information\n",
            "[vimeo] 644477293: Downloading akfire_interconnect_quic MPD information\n"
          ]
        },
        {
          "name": "stderr",
          "output_type": "stream",
          "text": [
            "WARNING: [vimeo] 644477293: Failed to parse XML: not well-formed (invalid token): line 1, column 0\n"
          ]
        },
        {
          "name": "stdout",
          "output_type": "stream",
          "text": [
            "[vimeo] 644477293: Downloading fastly_skyfire MPD information\n"
          ]
        },
        {
          "name": "stderr",
          "output_type": "stream",
          "text": [
            "WARNING: [vimeo] 644477293: Failed to parse XML: not well-formed (invalid token): line 1, column 0\n"
          ]
        },
        {
          "name": "stdout",
          "output_type": "stream",
          "text": [
            "[info] 644477293: Downloading 1 format(s): hls-fastly_skyfire-audio-high-Original\n",
            "[hlsnative] Downloading m3u8 manifest\n",
            "[hlsnative] Total fragments: 27\n",
            "[download] Destination: /content/drive/MyDrive/Audios_Vimeo/Test - Excel Cruzar Tablas.mp4\n",
            "[download] 100% of    5.07MiB in 00:00:07 at 735.49KiB/s               \n",
            "[FixupM3u8] Fixing MPEG-TS in MP4 container of \"/content/drive/MyDrive/Audios_Vimeo/Test - Excel Cruzar Tablas.mp4\"\n",
            "[ExtractAudio] Destination: /content/drive/MyDrive/Audios_Vimeo/Test - Excel Cruzar Tablas.mp3\n",
            "Deleting original file /content/drive/MyDrive/Audios_Vimeo/Test - Excel Cruzar Tablas.mp4 (pass -k to keep)\n"
          ]
        },
        {
          "name": "stderr",
          "output_type": "stream",
          "text": [
            "\r 19%|█▉        | 18/94 [13:42<57:40, 45.53s/it]  "
          ]
        },
        {
          "name": "stdout",
          "output_type": "stream",
          "text": [
            "\n",
            "✅ Audio descargado y guardado en: /content/drive/MyDrive/Audios_Vimeo\n",
            "\n",
            "🔽 Descargando audio de: https://vimeo.com/636375647/82ab6fd70e\n",
            "[vimeo] Extracting URL: https://vimeo.com/636375647/82ab6fd70e\n",
            "[vimeo] 636375647: Downloading viewer info\n",
            "[vimeo] 636375647: Downloading API JSON\n",
            "[vimeo] 636375647: Downloading JSON metadata\n",
            "[vimeo] 636375647: Downloading akfire_interconnect_quic m3u8 information\n",
            "[vimeo] 636375647: Downloading fastly_skyfire m3u8 information\n",
            "[vimeo] 636375647: Downloading akfire_interconnect_quic MPD information\n"
          ]
        },
        {
          "name": "stderr",
          "output_type": "stream",
          "text": [
            "WARNING: [vimeo] 636375647: Failed to parse XML: not well-formed (invalid token): line 1, column 0\n"
          ]
        },
        {
          "name": "stdout",
          "output_type": "stream",
          "text": [
            "[vimeo] 636375647: Downloading fastly_skyfire MPD information\n"
          ]
        },
        {
          "name": "stderr",
          "output_type": "stream",
          "text": [
            "WARNING: [vimeo] 636375647: Failed to parse XML: not well-formed (invalid token): line 1, column 0\n"
          ]
        },
        {
          "name": "stdout",
          "output_type": "stream",
          "text": [
            "[info] 636375647: Downloading 1 format(s): hls-fastly_skyfire-audio-high-Original\n",
            "[hlsnative] Downloading m3u8 manifest\n",
            "[hlsnative] Total fragments: 130\n",
            "[download] Destination: /content/drive/MyDrive/Audios_Vimeo/Cómo hacer un gráfico en Excel.mp4\n",
            "[download] 100% of   24.59MiB in 00:00:32 at 765.74KiB/s                 \n",
            "[FixupM3u8] Fixing MPEG-TS in MP4 container of \"/content/drive/MyDrive/Audios_Vimeo/Cómo hacer un gráfico en Excel.mp4\"\n",
            "[ExtractAudio] Destination: /content/drive/MyDrive/Audios_Vimeo/Cómo hacer un gráfico en Excel.mp3\n",
            "Deleting original file /content/drive/MyDrive/Audios_Vimeo/Cómo hacer un gráfico en Excel.mp4 (pass -k to keep)\n"
          ]
        },
        {
          "name": "stderr",
          "output_type": "stream",
          "text": [
            "\r 20%|██        | 19/94 [14:33<58:55, 47.15s/it]"
          ]
        },
        {
          "name": "stdout",
          "output_type": "stream",
          "text": [
            "\n",
            "✅ Audio descargado y guardado en: /content/drive/MyDrive/Audios_Vimeo\n",
            "\n",
            "🔽 Descargando audio de: https://vimeo.com/636376108/72eb523474\n",
            "[vimeo] Extracting URL: https://vimeo.com/636376108/72eb523474\n",
            "[vimeo] 636376108: Downloading viewer info\n",
            "[vimeo] 636376108: Downloading API JSON\n",
            "[vimeo] 636376108: Downloading JSON metadata\n",
            "[vimeo] 636376108: Downloading akfire_interconnect_quic m3u8 information\n",
            "[vimeo] 636376108: Downloading fastly_skyfire m3u8 information\n",
            "[vimeo] 636376108: Downloading akfire_interconnect_quic MPD information\n"
          ]
        },
        {
          "name": "stderr",
          "output_type": "stream",
          "text": [
            "WARNING: [vimeo] 636376108: Failed to parse XML: not well-formed (invalid token): line 1, column 0\n"
          ]
        },
        {
          "name": "stdout",
          "output_type": "stream",
          "text": [
            "[vimeo] 636376108: Downloading fastly_skyfire MPD information\n"
          ]
        },
        {
          "name": "stderr",
          "output_type": "stream",
          "text": [
            "WARNING: [vimeo] 636376108: Failed to parse XML: not well-formed (invalid token): line 1, column 0\n"
          ]
        },
        {
          "name": "stdout",
          "output_type": "stream",
          "text": [
            "[info] 636376108: Downloading 1 format(s): hls-fastly_skyfire-audio-high-Original\n",
            "[hlsnative] Downloading m3u8 manifest\n",
            "[hlsnative] Total fragments: 125\n",
            "[download] Destination: /content/drive/MyDrive/Audios_Vimeo/Tipos de gráficos básicos.mp4\n",
            "[download] 100% of   23.68MiB in 00:00:32 at 739.51KiB/s                 \n",
            "[FixupM3u8] Fixing MPEG-TS in MP4 container of \"/content/drive/MyDrive/Audios_Vimeo/Tipos de gráficos básicos.mp4\"\n",
            "[ExtractAudio] Destination: /content/drive/MyDrive/Audios_Vimeo/Tipos de gráficos básicos.mp3\n",
            "Deleting original file /content/drive/MyDrive/Audios_Vimeo/Tipos de gráficos básicos.mp4 (pass -k to keep)\n"
          ]
        },
        {
          "name": "stderr",
          "output_type": "stream",
          "text": [
            "\r 21%|██▏       | 20/94 [15:22<58:43, 47.61s/it]"
          ]
        },
        {
          "name": "stdout",
          "output_type": "stream",
          "text": [
            "\n",
            "✅ Audio descargado y guardado en: /content/drive/MyDrive/Audios_Vimeo\n",
            "\n",
            "🔽 Descargando audio de: https://vimeo.com/636376528/227d2dffbf\n",
            "[vimeo] Extracting URL: https://vimeo.com/636376528/227d2dffbf\n",
            "[vimeo] 636376528: Downloading viewer info\n",
            "[vimeo] 636376528: Downloading API JSON\n",
            "[vimeo] 636376528: Downloading JSON metadata\n",
            "[vimeo] 636376528: Downloading akfire_interconnect_quic m3u8 information\n",
            "[vimeo] 636376528: Downloading fastly_skyfire m3u8 information\n",
            "[vimeo] 636376528: Downloading akfire_interconnect_quic MPD information\n"
          ]
        },
        {
          "name": "stderr",
          "output_type": "stream",
          "text": [
            "WARNING: [vimeo] 636376528: Failed to parse XML: not well-formed (invalid token): line 1, column 0\n"
          ]
        },
        {
          "name": "stdout",
          "output_type": "stream",
          "text": [
            "[vimeo] 636376528: Downloading fastly_skyfire MPD information\n"
          ]
        },
        {
          "name": "stderr",
          "output_type": "stream",
          "text": [
            "WARNING: [vimeo] 636376528: Failed to parse XML: not well-formed (invalid token): line 1, column 0\n"
          ]
        },
        {
          "name": "stdout",
          "output_type": "stream",
          "text": [
            "[info] 636376528: Downloading 1 format(s): hls-fastly_skyfire-audio-high-Original\n",
            "[hlsnative] Downloading m3u8 manifest\n",
            "[hlsnative] Total fragments: 140\n",
            "[download] Destination: /content/drive/MyDrive/Audios_Vimeo/Gráficos que no conoces.mp4\n",
            "[download] 100% of   26.46MiB in 00:00:36 at 737.21KiB/s                 \n",
            "[FixupM3u8] Fixing MPEG-TS in MP4 container of \"/content/drive/MyDrive/Audios_Vimeo/Gráficos que no conoces.mp4\"\n",
            "[ExtractAudio] Destination: /content/drive/MyDrive/Audios_Vimeo/Gráficos que no conoces.mp3\n",
            "Deleting original file /content/drive/MyDrive/Audios_Vimeo/Gráficos que no conoces.mp4 (pass -k to keep)\n"
          ]
        },
        {
          "name": "stderr",
          "output_type": "stream",
          "text": [
            "\r 22%|██▏       | 21/94 [16:15<59:51, 49.19s/it]"
          ]
        },
        {
          "name": "stdout",
          "output_type": "stream",
          "text": [
            "\n",
            "✅ Audio descargado y guardado en: /content/drive/MyDrive/Audios_Vimeo\n",
            "\n",
            "🔽 Descargando audio de: https://vimeo.com/636376858/4ca08396e6\n",
            "[vimeo] Extracting URL: https://vimeo.com/636376858/4ca08396e6\n",
            "[vimeo] 636376858: Downloading viewer info\n",
            "[vimeo] 636376858: Downloading API JSON\n",
            "[vimeo] 636376858: Downloading JSON metadata\n",
            "[vimeo] 636376858: Downloading akfire_interconnect_quic m3u8 information\n",
            "[vimeo] 636376858: Downloading fastly_skyfire m3u8 information\n",
            "[vimeo] 636376858: Downloading akfire_interconnect_quic MPD information\n"
          ]
        },
        {
          "name": "stderr",
          "output_type": "stream",
          "text": [
            "WARNING: [vimeo] 636376858: Failed to parse XML: not well-formed (invalid token): line 1, column 0\n"
          ]
        },
        {
          "name": "stdout",
          "output_type": "stream",
          "text": [
            "[vimeo] 636376858: Downloading fastly_skyfire MPD information\n"
          ]
        },
        {
          "name": "stderr",
          "output_type": "stream",
          "text": [
            "WARNING: [vimeo] 636376858: Failed to parse XML: not well-formed (invalid token): line 1, column 0\n"
          ]
        },
        {
          "name": "stdout",
          "output_type": "stream",
          "text": [
            "[info] 636376858: Downloading 1 format(s): hls-fastly_skyfire-audio-high-Original\n",
            "[hlsnative] Downloading m3u8 manifest\n",
            "[hlsnative] Total fragments: 103\n",
            "[download] Destination: /content/drive/MyDrive/Audios_Vimeo/Formato de impacto a un gráfico.mp4\n",
            "[download] 100% of   19.44MiB in 00:00:28 at 689.06KiB/s                 \n",
            "[FixupM3u8] Fixing MPEG-TS in MP4 container of \"/content/drive/MyDrive/Audios_Vimeo/Formato de impacto a un gráfico.mp4\"\n",
            "[ExtractAudio] Destination: /content/drive/MyDrive/Audios_Vimeo/Formato de impacto a un gráfico.mp3\n",
            "Deleting original file /content/drive/MyDrive/Audios_Vimeo/Formato de impacto a un gráfico.mp4 (pass -k to keep)\n"
          ]
        },
        {
          "name": "stderr",
          "output_type": "stream",
          "text": [
            "\r 23%|██▎       | 22/94 [16:57<56:37, 47.19s/it]"
          ]
        },
        {
          "name": "stdout",
          "output_type": "stream",
          "text": [
            "\n",
            "✅ Audio descargado y guardado en: /content/drive/MyDrive/Audios_Vimeo\n",
            "\n",
            "🔽 Descargando audio de: https://vimeo.com/636376983/aaa7881349\n",
            "[vimeo] Extracting URL: https://vimeo.com/636376983/aaa7881349\n",
            "[vimeo] 636376983: Downloading viewer info\n",
            "[vimeo] 636376983: Downloading API JSON\n",
            "[vimeo] 636376983: Downloading JSON metadata\n",
            "[vimeo] 636376983: Downloading akfire_interconnect_quic m3u8 information\n",
            "[vimeo] 636376983: Downloading fastly_skyfire m3u8 information\n",
            "[vimeo] 636376983: Downloading akfire_interconnect_quic MPD information\n"
          ]
        },
        {
          "name": "stderr",
          "output_type": "stream",
          "text": [
            "WARNING: [vimeo] 636376983: Failed to parse XML: not well-formed (invalid token): line 1, column 0\n"
          ]
        },
        {
          "name": "stdout",
          "output_type": "stream",
          "text": [
            "[vimeo] 636376983: Downloading fastly_skyfire MPD information\n"
          ]
        },
        {
          "name": "stderr",
          "output_type": "stream",
          "text": [
            "WARNING: [vimeo] 636376983: Failed to parse XML: not well-formed (invalid token): line 1, column 0\n"
          ]
        },
        {
          "name": "stdout",
          "output_type": "stream",
          "text": [
            "[info] 636376983: Downloading 1 format(s): hls-fastly_skyfire-audio-high-Original\n",
            "[hlsnative] Downloading m3u8 manifest\n",
            "[hlsnative] Total fragments: 143\n",
            "[download] Destination: /content/drive/MyDrive/Audios_Vimeo/Gráficos para mejorar tus datos y presentaciones.mp4\n",
            "[download] 100% of   27.19MiB in 00:00:38 at 716.03KiB/s                 \n",
            "[FixupM3u8] Fixing MPEG-TS in MP4 container of \"/content/drive/MyDrive/Audios_Vimeo/Gráficos para mejorar tus datos y presentaciones.mp4\"\n",
            "[ExtractAudio] Destination: /content/drive/MyDrive/Audios_Vimeo/Gráficos para mejorar tus datos y presentaciones.mp3\n",
            "Deleting original file /content/drive/MyDrive/Audios_Vimeo/Gráficos para mejorar tus datos y presentaciones.mp4 (pass -k to keep)\n"
          ]
        },
        {
          "name": "stderr",
          "output_type": "stream",
          "text": [
            "\r 24%|██▍       | 23/94 [17:52<58:39, 49.58s/it]"
          ]
        },
        {
          "name": "stdout",
          "output_type": "stream",
          "text": [
            "\n",
            "✅ Audio descargado y guardado en: /content/drive/MyDrive/Audios_Vimeo\n",
            "\n",
            "🔽 Descargando audio de: https://vimeo.com/644477367/5ae10a5474\n",
            "[vimeo] Extracting URL: https://vimeo.com/644477367/5ae10a5474\n",
            "[vimeo] 644477367: Downloading viewer info\n",
            "[vimeo] 644477367: Downloading API JSON\n",
            "[vimeo] 644477367: Downloading JSON metadata\n",
            "[vimeo] 644477367: Downloading akfire_interconnect_quic m3u8 information\n",
            "[vimeo] 644477367: Downloading fastly_skyfire m3u8 information\n",
            "[vimeo] 644477367: Downloading akfire_interconnect_quic MPD information\n"
          ]
        },
        {
          "name": "stderr",
          "output_type": "stream",
          "text": [
            "WARNING: [vimeo] 644477367: Failed to parse XML: not well-formed (invalid token): line 1, column 0\n"
          ]
        },
        {
          "name": "stdout",
          "output_type": "stream",
          "text": [
            "[vimeo] 644477367: Downloading fastly_skyfire MPD information\n"
          ]
        },
        {
          "name": "stderr",
          "output_type": "stream",
          "text": [
            "WARNING: [vimeo] 644477367: Failed to parse XML: not well-formed (invalid token): line 1, column 0\n"
          ]
        },
        {
          "name": "stdout",
          "output_type": "stream",
          "text": [
            "[info] 644477367: Downloading 1 format(s): hls-fastly_skyfire-audio-high-Original\n",
            "[hlsnative] Downloading m3u8 manifest\n",
            "[hlsnative] Total fragments: 33\n",
            "[download] Destination: /content/drive/MyDrive/Audios_Vimeo/Test： Excel Diseño de Gráficos ES.mp4\n",
            "[download] 100% of    4.63MiB in 00:00:08 at 537.38KiB/s               \n",
            "[FixupM3u8] Fixing MPEG-TS in MP4 container of \"/content/drive/MyDrive/Audios_Vimeo/Test： Excel Diseño de Gráficos ES.mp4\"\n",
            "[ExtractAudio] Destination: /content/drive/MyDrive/Audios_Vimeo/Test： Excel Diseño de Gráficos ES.mp3\n",
            "Deleting original file /content/drive/MyDrive/Audios_Vimeo/Test： Excel Diseño de Gráficos ES.mp4 (pass -k to keep)\n"
          ]
        },
        {
          "name": "stderr",
          "output_type": "stream",
          "text": [
            "\r 26%|██▌       | 24/94 [18:08<45:59, 39.42s/it]"
          ]
        },
        {
          "name": "stdout",
          "output_type": "stream",
          "text": [
            "\n",
            "✅ Audio descargado y guardado en: /content/drive/MyDrive/Audios_Vimeo\n",
            "\n",
            "🔽 Descargando audio de: https://vimeo.com/637867148/a7efebfe15\n",
            "[vimeo] Extracting URL: https://vimeo.com/637867148/a7efebfe15\n",
            "[vimeo] 637867148: Downloading viewer info\n",
            "[vimeo] 637867148: Downloading API JSON\n",
            "[vimeo] 637867148: Downloading JSON metadata\n",
            "[vimeo] 637867148: Downloading akfire_interconnect_quic m3u8 information\n",
            "[vimeo] 637867148: Downloading fastly_skyfire m3u8 information\n",
            "[vimeo] 637867148: Downloading akfire_interconnect_quic MPD information\n"
          ]
        },
        {
          "name": "stderr",
          "output_type": "stream",
          "text": [
            "WARNING: [vimeo] 637867148: Failed to parse XML: not well-formed (invalid token): line 1, column 0\n"
          ]
        },
        {
          "name": "stdout",
          "output_type": "stream",
          "text": [
            "[vimeo] 637867148: Downloading fastly_skyfire MPD information\n"
          ]
        },
        {
          "name": "stderr",
          "output_type": "stream",
          "text": [
            "WARNING: [vimeo] 637867148: Failed to parse XML: not well-formed (invalid token): line 1, column 0\n"
          ]
        },
        {
          "name": "stdout",
          "output_type": "stream",
          "text": [
            "[info] 637867148: Downloading 1 format(s): hls-fastly_skyfire-audio-high-Original\n",
            "[hlsnative] Downloading m3u8 manifest\n",
            "[hlsnative] Total fragments: 126\n",
            "[download] Destination: /content/drive/MyDrive/Audios_Vimeo/Introducción y alarmas visuales básicas.mp4\n",
            "[download] 100% of   23.97MiB in 00:00:35 at 686.70KiB/s                 \n",
            "[FixupM3u8] Fixing MPEG-TS in MP4 container of \"/content/drive/MyDrive/Audios_Vimeo/Introducción y alarmas visuales básicas.mp4\"\n",
            "[ExtractAudio] Destination: /content/drive/MyDrive/Audios_Vimeo/Introducción y alarmas visuales básicas.mp3\n",
            "Deleting original file /content/drive/MyDrive/Audios_Vimeo/Introducción y alarmas visuales básicas.mp4 (pass -k to keep)\n"
          ]
        },
        {
          "name": "stderr",
          "output_type": "stream",
          "text": [
            "\r 27%|██▋       | 25/94 [18:58<49:03, 42.66s/it]"
          ]
        },
        {
          "name": "stdout",
          "output_type": "stream",
          "text": [
            "\n",
            "✅ Audio descargado y guardado en: /content/drive/MyDrive/Audios_Vimeo\n",
            "\n",
            "🔽 Descargando audio de: https://vimeo.com/637867318/f20a26ac33\n",
            "[vimeo] Extracting URL: https://vimeo.com/637867318/f20a26ac33\n",
            "[vimeo] 637867318: Downloading viewer info\n",
            "[vimeo] 637867318: Downloading API JSON\n",
            "[vimeo] 637867318: Downloading JSON metadata\n",
            "[vimeo] 637867318: Downloading akfire_interconnect_quic m3u8 information\n",
            "[vimeo] 637867318: Downloading fastly_skyfire m3u8 information\n",
            "[vimeo] 637867318: Downloading akfire_interconnect_quic MPD information\n"
          ]
        },
        {
          "name": "stderr",
          "output_type": "stream",
          "text": [
            "WARNING: [vimeo] 637867318: Failed to parse XML: not well-formed (invalid token): line 1, column 0\n"
          ]
        },
        {
          "name": "stdout",
          "output_type": "stream",
          "text": [
            "[vimeo] 637867318: Downloading fastly_skyfire MPD information\n"
          ]
        },
        {
          "name": "stderr",
          "output_type": "stream",
          "text": [
            "WARNING: [vimeo] 637867318: Failed to parse XML: not well-formed (invalid token): line 1, column 0\n"
          ]
        },
        {
          "name": "stdout",
          "output_type": "stream",
          "text": [
            "[info] 637867318: Downloading 1 format(s): hls-fastly_skyfire-audio-high-Original\n",
            "[hlsnative] Downloading m3u8 manifest\n",
            "[hlsnative] Total fragments: 118\n",
            "[download] Destination: /content/drive/MyDrive/Audios_Vimeo/Analizar datos con rellenados e iconos.mp4\n",
            "[download] 100% of   22.29MiB in 00:00:30 at 757.24KiB/s                 \n",
            "[FixupM3u8] Fixing MPEG-TS in MP4 container of \"/content/drive/MyDrive/Audios_Vimeo/Analizar datos con rellenados e iconos.mp4\"\n",
            "[ExtractAudio] Destination: /content/drive/MyDrive/Audios_Vimeo/Analizar datos con rellenados e iconos.mp3\n",
            "Deleting original file /content/drive/MyDrive/Audios_Vimeo/Analizar datos con rellenados e iconos.mp4 (pass -k to keep)\n"
          ]
        },
        {
          "name": "stderr",
          "output_type": "stream",
          "text": [
            "\r 28%|██▊       | 26/94 [19:42<48:45, 43.02s/it]"
          ]
        },
        {
          "name": "stdout",
          "output_type": "stream",
          "text": [
            "\n",
            "✅ Audio descargado y guardado en: /content/drive/MyDrive/Audios_Vimeo\n",
            "\n",
            "🔽 Descargando audio de: https://vimeo.com/637867510/b7f5c70835\n",
            "[vimeo] Extracting URL: https://vimeo.com/637867510/b7f5c70835\n",
            "[vimeo] 637867510: Downloading viewer info\n",
            "[vimeo] 637867510: Downloading API JSON\n",
            "[vimeo] 637867510: Downloading JSON metadata\n",
            "[vimeo] 637867510: Downloading akfire_interconnect_quic m3u8 information\n",
            "[vimeo] 637867510: Downloading fastly_skyfire m3u8 information\n",
            "[vimeo] 637867510: Downloading akfire_interconnect_quic MPD information\n"
          ]
        },
        {
          "name": "stderr",
          "output_type": "stream",
          "text": [
            "WARNING: [vimeo] 637867510: Failed to parse XML: not well-formed (invalid token): line 1, column 0\n"
          ]
        },
        {
          "name": "stdout",
          "output_type": "stream",
          "text": [
            "[vimeo] 637867510: Downloading fastly_skyfire MPD information\n"
          ]
        },
        {
          "name": "stderr",
          "output_type": "stream",
          "text": [
            "WARNING: [vimeo] 637867510: Failed to parse XML: not well-formed (invalid token): line 1, column 0\n"
          ]
        },
        {
          "name": "stdout",
          "output_type": "stream",
          "text": [
            "[info] 637867510: Downloading 1 format(s): hls-fastly_skyfire-audio-high-Original\n",
            "[hlsnative] Downloading m3u8 manifest\n",
            "[hlsnative] Total fragments: 118\n",
            "[download] Destination: /content/drive/MyDrive/Audios_Vimeo/Tips avanzados del formato condicional.mp4\n",
            "[download] 100% of   22.42MiB in 00:00:34 at 669.78KiB/s                 \n",
            "[FixupM3u8] Fixing MPEG-TS in MP4 container of \"/content/drive/MyDrive/Audios_Vimeo/Tips avanzados del formato condicional.mp4\"\n",
            "[ExtractAudio] Destination: /content/drive/MyDrive/Audios_Vimeo/Tips avanzados del formato condicional.mp3\n",
            "Deleting original file /content/drive/MyDrive/Audios_Vimeo/Tips avanzados del formato condicional.mp4 (pass -k to keep)\n"
          ]
        },
        {
          "name": "stderr",
          "output_type": "stream",
          "text": [
            "\r 29%|██▊       | 27/94 [20:30<49:49, 44.62s/it]"
          ]
        },
        {
          "name": "stdout",
          "output_type": "stream",
          "text": [
            "\n",
            "✅ Audio descargado y guardado en: /content/drive/MyDrive/Audios_Vimeo\n",
            "\n",
            "🔽 Descargando audio de: https://vimeo.com/644477450/2c7daeb713\n",
            "[vimeo] Extracting URL: https://vimeo.com/644477450/2c7daeb713\n",
            "[vimeo] 644477450: Downloading viewer info\n",
            "[vimeo] 644477450: Downloading API JSON\n",
            "[vimeo] 644477450: Downloading JSON metadata\n",
            "[vimeo] 644477450: Downloading akfire_interconnect_quic m3u8 information\n",
            "[vimeo] 644477450: Downloading fastly_skyfire m3u8 information\n",
            "[vimeo] 644477450: Downloading akfire_interconnect_quic MPD information\n"
          ]
        },
        {
          "name": "stderr",
          "output_type": "stream",
          "text": [
            "WARNING: [vimeo] 644477450: Failed to parse XML: not well-formed (invalid token): line 1, column 0\n"
          ]
        },
        {
          "name": "stdout",
          "output_type": "stream",
          "text": [
            "[vimeo] 644477450: Downloading fastly_skyfire MPD information\n"
          ]
        },
        {
          "name": "stderr",
          "output_type": "stream",
          "text": [
            "WARNING: [vimeo] 644477450: Failed to parse XML: not well-formed (invalid token): line 1, column 0\n"
          ]
        },
        {
          "name": "stdout",
          "output_type": "stream",
          "text": [
            "[info] 644477450: Downloading 1 format(s): hls-fastly_skyfire-audio-high-Original\n",
            "[hlsnative] Downloading m3u8 manifest\n",
            "[hlsnative] Total fragments: 35\n",
            "[download] Destination: /content/drive/MyDrive/Audios_Vimeo/Test： Excel Formato Condicional ES.mp4\n",
            "[download] 100% of    4.91MiB in 00:00:08 at 576.77KiB/s               \n",
            "[FixupM3u8] Fixing MPEG-TS in MP4 container of \"/content/drive/MyDrive/Audios_Vimeo/Test： Excel Formato Condicional ES.mp4\"\n",
            "[ExtractAudio] Destination: /content/drive/MyDrive/Audios_Vimeo/Test： Excel Formato Condicional ES.mp3\n",
            "Deleting original file /content/drive/MyDrive/Audios_Vimeo/Test： Excel Formato Condicional ES.mp4 (pass -k to keep)\n"
          ]
        },
        {
          "name": "stderr",
          "output_type": "stream",
          "text": [
            "\r 30%|██▉       | 28/94 [20:46<39:32, 35.94s/it]"
          ]
        },
        {
          "name": "stdout",
          "output_type": "stream",
          "text": [
            "\n",
            "✅ Audio descargado y guardado en: /content/drive/MyDrive/Audios_Vimeo\n",
            "\n",
            "🔽 Descargando audio de: https://vimeo.com/636963515/d383200b5f\n",
            "[vimeo] Extracting URL: https://vimeo.com/636963515/d383200b5f\n",
            "[vimeo] 636963515: Downloading viewer info\n",
            "[vimeo] 636963515: Downloading API JSON\n",
            "[vimeo] 636963515: Downloading JSON metadata\n",
            "[vimeo] 636963515: Downloading akfire_interconnect_quic m3u8 information\n",
            "[vimeo] 636963515: Downloading fastly_skyfire m3u8 information\n",
            "[vimeo] 636963515: Downloading akfire_interconnect_quic MPD information\n"
          ]
        },
        {
          "name": "stderr",
          "output_type": "stream",
          "text": [
            "WARNING: [vimeo] 636963515: Failed to parse XML: not well-formed (invalid token): line 1, column 0\n"
          ]
        },
        {
          "name": "stdout",
          "output_type": "stream",
          "text": [
            "[vimeo] 636963515: Downloading fastly_skyfire MPD information\n"
          ]
        },
        {
          "name": "stderr",
          "output_type": "stream",
          "text": [
            "WARNING: [vimeo] 636963515: Failed to parse XML: not well-formed (invalid token): line 1, column 0\n"
          ]
        },
        {
          "name": "stdout",
          "output_type": "stream",
          "text": [
            "[info] 636963515: Downloading 1 format(s): hls-fastly_skyfire-audio-high-Original\n",
            "[hlsnative] Downloading m3u8 manifest\n",
            "[hlsnative] Total fragments: 128\n",
            "[download] Destination: /content/drive/MyDrive/Audios_Vimeo/Función Si.mp4\n",
            "[download] 100% of   24.36MiB in 00:00:31 at 798.89KiB/s                 \n",
            "[FixupM3u8] Fixing MPEG-TS in MP4 container of \"/content/drive/MyDrive/Audios_Vimeo/Función Si.mp4\"\n",
            "[ExtractAudio] Destination: /content/drive/MyDrive/Audios_Vimeo/Función Si.mp3\n",
            "Deleting original file /content/drive/MyDrive/Audios_Vimeo/Función Si.mp4 (pass -k to keep)\n"
          ]
        },
        {
          "name": "stderr",
          "output_type": "stream",
          "text": [
            "\r 31%|███       | 29/94 [21:32<42:04, 38.84s/it]"
          ]
        },
        {
          "name": "stdout",
          "output_type": "stream",
          "text": [
            "\n",
            "✅ Audio descargado y guardado en: /content/drive/MyDrive/Audios_Vimeo\n",
            "\n",
            "🔽 Descargando audio de: https://vimeo.com/636963690/c8c005d90b\n",
            "[vimeo] Extracting URL: https://vimeo.com/636963690/c8c005d90b\n",
            "[vimeo] 636963690: Downloading viewer info\n",
            "[vimeo] 636963690: Downloading API JSON\n",
            "[vimeo] 636963690: Downloading JSON metadata\n",
            "[vimeo] 636963690: Downloading akfire_interconnect_quic m3u8 information\n",
            "[vimeo] 636963690: Downloading fastly_skyfire m3u8 information\n",
            "[vimeo] 636963690: Downloading akfire_interconnect_quic MPD information\n"
          ]
        },
        {
          "name": "stderr",
          "output_type": "stream",
          "text": [
            "WARNING: [vimeo] 636963690: Failed to parse XML: not well-formed (invalid token): line 1, column 0\n"
          ]
        },
        {
          "name": "stdout",
          "output_type": "stream",
          "text": [
            "[vimeo] 636963690: Downloading fastly_skyfire MPD information\n"
          ]
        },
        {
          "name": "stderr",
          "output_type": "stream",
          "text": [
            "WARNING: [vimeo] 636963690: Failed to parse XML: not well-formed (invalid token): line 1, column 0\n"
          ]
        },
        {
          "name": "stdout",
          "output_type": "stream",
          "text": [
            "[info] 636963690: Downloading 1 format(s): hls-fastly_skyfire-audio-high-Original\n",
            "[hlsnative] Downloading m3u8 manifest\n",
            "[hlsnative] Total fragments: 121\n",
            "[download] Destination: /content/drive/MyDrive/Audios_Vimeo/Función SumarSiConjunto ES.mp4\n",
            "[download] 100% of   17.23MiB in 00:00:28 at 608.65KiB/s                 \n",
            "[FixupM3u8] Fixing MPEG-TS in MP4 container of \"/content/drive/MyDrive/Audios_Vimeo/Función SumarSiConjunto ES.mp4\"\n",
            "[ExtractAudio] Destination: /content/drive/MyDrive/Audios_Vimeo/Función SumarSiConjunto ES.mp3\n",
            "Deleting original file /content/drive/MyDrive/Audios_Vimeo/Función SumarSiConjunto ES.mp4 (pass -k to keep)\n"
          ]
        },
        {
          "name": "stderr",
          "output_type": "stream",
          "text": [
            "\r 32%|███▏      | 30/94 [22:15<42:55, 40.24s/it]"
          ]
        },
        {
          "name": "stdout",
          "output_type": "stream",
          "text": [
            "\n",
            "✅ Audio descargado y guardado en: /content/drive/MyDrive/Audios_Vimeo\n",
            "\n",
            "🔽 Descargando audio de: https://vimeo.com/636963898/ce2e97c94a\n",
            "[vimeo] Extracting URL: https://vimeo.com/636963898/ce2e97c94a\n",
            "[vimeo] 636963898: Downloading viewer info\n",
            "[vimeo] 636963898: Downloading API JSON\n",
            "[vimeo] 636963898: Downloading JSON metadata\n",
            "[vimeo] 636963898: Downloading akfire_interconnect_quic m3u8 information\n",
            "[vimeo] 636963898: Downloading fastly_skyfire m3u8 information\n",
            "[vimeo] 636963898: Downloading akfire_interconnect_quic MPD information\n"
          ]
        },
        {
          "name": "stderr",
          "output_type": "stream",
          "text": [
            "WARNING: [vimeo] 636963898: Failed to parse XML: not well-formed (invalid token): line 1, column 0\n"
          ]
        },
        {
          "name": "stdout",
          "output_type": "stream",
          "text": [
            "[vimeo] 636963898: Downloading fastly_skyfire MPD information\n"
          ]
        },
        {
          "name": "stderr",
          "output_type": "stream",
          "text": [
            "WARNING: [vimeo] 636963898: Failed to parse XML: not well-formed (invalid token): line 1, column 0\n"
          ]
        },
        {
          "name": "stdout",
          "output_type": "stream",
          "text": [
            "[info] 636963898: Downloading 1 format(s): hls-fastly_skyfire-audio-high-Original\n",
            "[hlsnative] Downloading m3u8 manifest\n",
            "[hlsnative] Total fragments: 121\n",
            "[download] Destination: /content/drive/MyDrive/Audios_Vimeo/Funciones Formato, SiError y Concatenar ES.mp4\n",
            "[download] 100% of   17.17MiB in 00:00:28 at 624.57KiB/s                 \n",
            "[FixupM3u8] Fixing MPEG-TS in MP4 container of \"/content/drive/MyDrive/Audios_Vimeo/Funciones Formato, SiError y Concatenar ES.mp4\"\n",
            "[ExtractAudio] Destination: /content/drive/MyDrive/Audios_Vimeo/Funciones Formato, SiError y Concatenar ES.mp3\n",
            "Deleting original file /content/drive/MyDrive/Audios_Vimeo/Funciones Formato, SiError y Concatenar ES.mp4 (pass -k to keep)\n"
          ]
        },
        {
          "name": "stderr",
          "output_type": "stream",
          "text": [
            "\r 33%|███▎      | 31/94 [22:58<42:56, 40.90s/it]"
          ]
        },
        {
          "name": "stdout",
          "output_type": "stream",
          "text": [
            "\n",
            "✅ Audio descargado y guardado en: /content/drive/MyDrive/Audios_Vimeo\n",
            "\n",
            "🔽 Descargando audio de: https://vimeo.com/636967445/1108831b03\n",
            "[vimeo] Extracting URL: https://vimeo.com/636967445/1108831b03\n",
            "[vimeo] 636967445: Downloading viewer info\n",
            "[vimeo] 636967445: Downloading API JSON\n",
            "[vimeo] 636967445: Downloading JSON metadata\n",
            "[vimeo] 636967445: Downloading akfire_interconnect_quic m3u8 information\n",
            "[vimeo] 636967445: Downloading fastly_skyfire m3u8 information\n",
            "[vimeo] 636967445: Downloading akfire_interconnect_quic MPD information\n"
          ]
        },
        {
          "name": "stderr",
          "output_type": "stream",
          "text": [
            "WARNING: [vimeo] 636967445: Failed to parse XML: not well-formed (invalid token): line 1, column 0\n"
          ]
        },
        {
          "name": "stdout",
          "output_type": "stream",
          "text": [
            "[vimeo] 636967445: Downloading fastly_skyfire MPD information\n"
          ]
        },
        {
          "name": "stderr",
          "output_type": "stream",
          "text": [
            "WARNING: [vimeo] 636967445: Failed to parse XML: not well-formed (invalid token): line 1, column 0\n"
          ]
        },
        {
          "name": "stdout",
          "output_type": "stream",
          "text": [
            "[info] 636967445: Downloading 1 format(s): hls-fastly_skyfire-audio-high-Original\n",
            "[hlsnative] Downloading m3u8 manifest\n",
            "[hlsnative] Total fragments: 134\n",
            "[download] Destination: /content/drive/MyDrive/Audios_Vimeo/Función Aleatorioentre e Indice ES.mp4\n",
            "[download] 100% of   19.11MiB in 00:00:29 at 660.02KiB/s                 \n",
            "[FixupM3u8] Fixing MPEG-TS in MP4 container of \"/content/drive/MyDrive/Audios_Vimeo/Función Aleatorioentre e Indice ES.mp4\"\n",
            "[ExtractAudio] Destination: /content/drive/MyDrive/Audios_Vimeo/Función Aleatorioentre e Indice ES.mp3\n",
            "Deleting original file /content/drive/MyDrive/Audios_Vimeo/Función Aleatorioentre e Indice ES.mp4 (pass -k to keep)\n"
          ]
        },
        {
          "name": "stderr",
          "output_type": "stream",
          "text": [
            "\r 34%|███▍      | 32/94 [23:45<44:14, 42.81s/it]"
          ]
        },
        {
          "name": "stdout",
          "output_type": "stream",
          "text": [
            "\n",
            "✅ Audio descargado y guardado en: /content/drive/MyDrive/Audios_Vimeo\n",
            "\n",
            "🔽 Descargando audio de: https://vimeo.com/636969195/6d6242f68e\n",
            "[vimeo] Extracting URL: https://vimeo.com/636969195/6d6242f68e\n",
            "[vimeo] 636969195: Downloading viewer info\n",
            "[vimeo] 636969195: Downloading API JSON\n",
            "[vimeo] 636969195: Downloading JSON metadata\n",
            "[vimeo] 636969195: Downloading akfire_interconnect_quic m3u8 information\n",
            "[vimeo] 636969195: Downloading fastly_skyfire m3u8 information\n",
            "[vimeo] 636969195: Downloading akfire_interconnect_quic MPD information\n"
          ]
        },
        {
          "name": "stderr",
          "output_type": "stream",
          "text": [
            "WARNING: [vimeo] 636969195: Failed to parse XML: not well-formed (invalid token): line 1, column 0\n"
          ]
        },
        {
          "name": "stdout",
          "output_type": "stream",
          "text": [
            "[vimeo] 636969195: Downloading fastly_skyfire MPD information\n"
          ]
        },
        {
          "name": "stderr",
          "output_type": "stream",
          "text": [
            "WARNING: [vimeo] 636969195: Failed to parse XML: not well-formed (invalid token): line 1, column 0\n"
          ]
        },
        {
          "name": "stdout",
          "output_type": "stream",
          "text": [
            "[info] 636969195: Downloading 1 format(s): hls-fastly_skyfire-audio-high-Original\n",
            "[hlsnative] Downloading m3u8 manifest\n",
            "[hlsnative] Total fragments: 110\n",
            "[download] Destination: /content/drive/MyDrive/Audios_Vimeo/Función Texto.mp4\n",
            "[download] 100% of   20.93MiB in 00:00:29 at 723.98KiB/s                 \n",
            "[FixupM3u8] Fixing MPEG-TS in MP4 container of \"/content/drive/MyDrive/Audios_Vimeo/Función Texto.mp4\"\n",
            "[ExtractAudio] Destination: /content/drive/MyDrive/Audios_Vimeo/Función Texto.mp3\n",
            "Deleting original file /content/drive/MyDrive/Audios_Vimeo/Función Texto.mp4 (pass -k to keep)\n"
          ]
        },
        {
          "name": "stderr",
          "output_type": "stream",
          "text": [
            "\r 35%|███▌      | 33/94 [24:28<43:34, 42.86s/it]"
          ]
        },
        {
          "name": "stdout",
          "output_type": "stream",
          "text": [
            "\n",
            "✅ Audio descargado y guardado en: /content/drive/MyDrive/Audios_Vimeo\n",
            "\n",
            "🔽 Descargando audio de: https://vimeo.com/644477509/279807580d\n",
            "[vimeo] Extracting URL: https://vimeo.com/644477509/279807580d\n",
            "[vimeo] 644477509: Downloading viewer info\n",
            "[vimeo] 644477509: Downloading API JSON\n",
            "[vimeo] 644477509: Downloading JSON metadata\n",
            "[vimeo] 644477509: Downloading akfire_interconnect_quic m3u8 information\n",
            "[vimeo] 644477509: Downloading fastly_skyfire m3u8 information\n",
            "[vimeo] 644477509: Downloading akfire_interconnect_quic MPD information\n"
          ]
        },
        {
          "name": "stderr",
          "output_type": "stream",
          "text": [
            "WARNING: [vimeo] 644477509: Failed to parse XML: not well-formed (invalid token): line 1, column 0\n"
          ]
        },
        {
          "name": "stdout",
          "output_type": "stream",
          "text": [
            "[vimeo] 644477509: Downloading fastly_skyfire MPD information\n"
          ]
        },
        {
          "name": "stderr",
          "output_type": "stream",
          "text": [
            "WARNING: [vimeo] 644477509: Failed to parse XML: not well-formed (invalid token): line 1, column 0\n"
          ]
        },
        {
          "name": "stdout",
          "output_type": "stream",
          "text": [
            "[info] 644477509: Downloading 1 format(s): hls-fastly_skyfire-audio-high-Original\n",
            "[hlsnative] Downloading m3u8 manifest\n",
            "[hlsnative] Total fragments: 33\n",
            "[download] Destination: /content/drive/MyDrive/Audios_Vimeo/Test： Excel Trabajar con Funciones Esenciales ES.mp4\n",
            "[download] 100% of    4.67MiB in 00:00:07 at 654.01KiB/s               \n",
            "[FixupM3u8] Fixing MPEG-TS in MP4 container of \"/content/drive/MyDrive/Audios_Vimeo/Test： Excel Trabajar con Funciones Esenciales ES.mp4\"\n",
            "[ExtractAudio] Destination: /content/drive/MyDrive/Audios_Vimeo/Test： Excel Trabajar con Funciones Esenciales ES.mp3\n",
            "Deleting original file /content/drive/MyDrive/Audios_Vimeo/Test： Excel Trabajar con Funciones Esenciales ES.mp4 (pass -k to keep)\n"
          ]
        },
        {
          "name": "stderr",
          "output_type": "stream",
          "text": [
            "\r 36%|███▌      | 34/94 [24:43<34:27, 34.46s/it]"
          ]
        },
        {
          "name": "stdout",
          "output_type": "stream",
          "text": [
            "\n",
            "✅ Audio descargado y guardado en: /content/drive/MyDrive/Audios_Vimeo\n",
            "\n",
            "🔽 Descargando audio de: https://vimeo.com/637136966/eb073b7e60\n",
            "[vimeo] Extracting URL: https://vimeo.com/637136966/eb073b7e60\n",
            "[vimeo] 637136966: Downloading viewer info\n",
            "[vimeo] 637136966: Downloading API JSON\n",
            "[vimeo] 637136966: Downloading JSON metadata\n",
            "[vimeo] 637136966: Downloading akfire_interconnect_quic m3u8 information\n",
            "[vimeo] 637136966: Downloading fastly_skyfire m3u8 information\n",
            "[vimeo] 637136966: Downloading akfire_interconnect_quic MPD information\n"
          ]
        },
        {
          "name": "stderr",
          "output_type": "stream",
          "text": [
            "WARNING: [vimeo] 637136966: Failed to parse XML: not well-formed (invalid token): line 1, column 0\n"
          ]
        },
        {
          "name": "stdout",
          "output_type": "stream",
          "text": [
            "[vimeo] 637136966: Downloading fastly_skyfire MPD information\n"
          ]
        },
        {
          "name": "stderr",
          "output_type": "stream",
          "text": [
            "WARNING: [vimeo] 637136966: Failed to parse XML: not well-formed (invalid token): line 1, column 0\n"
          ]
        },
        {
          "name": "stdout",
          "output_type": "stream",
          "text": [
            "[info] 637136966: Downloading 1 format(s): hls-fastly_skyfire-audio-high-Original\n",
            "[hlsnative] Downloading m3u8 manifest\n",
            "[hlsnative] Total fragments: 101\n",
            "[download] Destination: /content/drive/MyDrive/Audios_Vimeo/Función Sumaproducto ES.mp4\n",
            "[download] 100% of   14.32MiB in 00:00:22 at 647.08KiB/s                 \n",
            "[FixupM3u8] Fixing MPEG-TS in MP4 container of \"/content/drive/MyDrive/Audios_Vimeo/Función Sumaproducto ES.mp4\"\n",
            "[ExtractAudio] Destination: /content/drive/MyDrive/Audios_Vimeo/Función Sumaproducto ES.mp3\n",
            "Deleting original file /content/drive/MyDrive/Audios_Vimeo/Función Sumaproducto ES.mp4 (pass -k to keep)\n"
          ]
        },
        {
          "name": "stderr",
          "output_type": "stream",
          "text": [
            "\r 37%|███▋      | 35/94 [25:18<34:12, 34.78s/it]"
          ]
        },
        {
          "name": "stdout",
          "output_type": "stream",
          "text": [
            "\n",
            "✅ Audio descargado y guardado en: /content/drive/MyDrive/Audios_Vimeo\n",
            "\n",
            "🔽 Descargando audio de: https://vimeo.com/637148220/bf45365845\n",
            "[vimeo] Extracting URL: https://vimeo.com/637148220/bf45365845\n",
            "[vimeo] 637148220: Downloading viewer info\n",
            "[vimeo] 637148220: Downloading API JSON\n",
            "[vimeo] 637148220: Downloading JSON metadata\n",
            "[vimeo] 637148220: Downloading akfire_interconnect_quic m3u8 information\n",
            "[vimeo] 637148220: Downloading fastly_skyfire m3u8 information\n",
            "[vimeo] 637148220: Downloading akfire_interconnect_quic MPD information\n"
          ]
        },
        {
          "name": "stderr",
          "output_type": "stream",
          "text": [
            "WARNING: [vimeo] 637148220: Failed to parse XML: not well-formed (invalid token): line 1, column 0\n"
          ]
        },
        {
          "name": "stdout",
          "output_type": "stream",
          "text": [
            "[vimeo] 637148220: Downloading fastly_skyfire MPD information\n"
          ]
        },
        {
          "name": "stderr",
          "output_type": "stream",
          "text": [
            "WARNING: [vimeo] 637148220: Failed to parse XML: not well-formed (invalid token): line 1, column 0\n"
          ]
        },
        {
          "name": "stdout",
          "output_type": "stream",
          "text": [
            "[info] 637148220: Downloading 1 format(s): hls-fastly_skyfire-audio-high-Original\n",
            "[hlsnative] Downloading m3u8 manifest\n",
            "[hlsnative] Total fragments: 104\n",
            "[download] Destination: /content/drive/MyDrive/Audios_Vimeo/Función Sifecha y Días.mp4\n",
            "[download] 100% of   19.74MiB in 00:00:28 at 703.01KiB/s                 \n",
            "[FixupM3u8] Fixing MPEG-TS in MP4 container of \"/content/drive/MyDrive/Audios_Vimeo/Función Sifecha y Días.mp4\"\n",
            "[ExtractAudio] Destination: /content/drive/MyDrive/Audios_Vimeo/Función Sifecha y Días.mp3\n",
            "Deleting original file /content/drive/MyDrive/Audios_Vimeo/Función Sifecha y Días.mp4 (pass -k to keep)\n"
          ]
        },
        {
          "name": "stderr",
          "output_type": "stream",
          "text": [
            "\r 38%|███▊      | 36/94 [25:59<35:28, 36.70s/it]"
          ]
        },
        {
          "name": "stdout",
          "output_type": "stream",
          "text": [
            "\n",
            "✅ Audio descargado y guardado en: /content/drive/MyDrive/Audios_Vimeo\n",
            "\n",
            "🔽 Descargando audio de: https://vimeo.com/637136581/6f55f5d237\n",
            "[vimeo] Extracting URL: https://vimeo.com/637136581/6f55f5d237\n",
            "[vimeo] 637136581: Downloading viewer info\n",
            "[vimeo] 637136581: Downloading API JSON\n",
            "[vimeo] 637136581: Downloading JSON metadata\n",
            "[vimeo] 637136581: Downloading akfire_interconnect_quic m3u8 information\n",
            "[vimeo] 637136581: Downloading fastly_skyfire m3u8 information\n",
            "[vimeo] 637136581: Downloading akfire_interconnect_quic MPD information\n"
          ]
        },
        {
          "name": "stderr",
          "output_type": "stream",
          "text": [
            "WARNING: [vimeo] 637136581: Failed to parse XML: not well-formed (invalid token): line 1, column 0\n"
          ]
        },
        {
          "name": "stdout",
          "output_type": "stream",
          "text": [
            "[vimeo] 637136581: Downloading fastly_skyfire MPD information\n"
          ]
        },
        {
          "name": "stderr",
          "output_type": "stream",
          "text": [
            "WARNING: [vimeo] 637136581: Failed to parse XML: not well-formed (invalid token): line 1, column 0\n"
          ]
        },
        {
          "name": "stdout",
          "output_type": "stream",
          "text": [
            "[info] 637136581: Downloading 1 format(s): hls-fastly_skyfire-audio-high-Original\n",
            "[hlsnative] Downloading m3u8 manifest\n",
            "[hlsnative] Total fragments: 116\n",
            "[download] Destination: /content/drive/MyDrive/Audios_Vimeo/Función Extrae y Transponer ES.mp4\n",
            "[download] 100% of   16.51MiB in 00:00:26 at 637.78KiB/s                 \n",
            "[FixupM3u8] Fixing MPEG-TS in MP4 container of \"/content/drive/MyDrive/Audios_Vimeo/Función Extrae y Transponer ES.mp4\"\n",
            "[ExtractAudio] Destination: /content/drive/MyDrive/Audios_Vimeo/Función Extrae y Transponer ES.mp3\n",
            "Deleting original file /content/drive/MyDrive/Audios_Vimeo/Función Extrae y Transponer ES.mp4 (pass -k to keep)\n"
          ]
        },
        {
          "name": "stderr",
          "output_type": "stream",
          "text": [
            "\r 39%|███▉      | 37/94 [26:39<35:33, 37.44s/it]"
          ]
        },
        {
          "name": "stdout",
          "output_type": "stream",
          "text": [
            "\n",
            "✅ Audio descargado y guardado en: /content/drive/MyDrive/Audios_Vimeo\n",
            "\n",
            "🔽 Descargando audio de: https://vimeo.com/637811974/d8a1d53254\n",
            "[vimeo] Extracting URL: https://vimeo.com/637811974/d8a1d53254\n",
            "[vimeo] 637811974: Downloading viewer info\n",
            "[vimeo] 637811974: Downloading API JSON\n",
            "[vimeo] 637811974: Downloading JSON metadata\n",
            "[vimeo] 637811974: Downloading akfire_interconnect_quic m3u8 information\n",
            "[vimeo] 637811974: Downloading fastly_skyfire m3u8 information\n",
            "[vimeo] 637811974: Downloading akfire_interconnect_quic MPD information\n"
          ]
        },
        {
          "name": "stderr",
          "output_type": "stream",
          "text": [
            "WARNING: [vimeo] 637811974: Failed to parse XML: not well-formed (invalid token): line 1, column 0\n"
          ]
        },
        {
          "name": "stdout",
          "output_type": "stream",
          "text": [
            "[vimeo] 637811974: Downloading fastly_skyfire MPD information\n"
          ]
        },
        {
          "name": "stderr",
          "output_type": "stream",
          "text": [
            "WARNING: [vimeo] 637811974: Failed to parse XML: not well-formed (invalid token): line 1, column 0\n"
          ]
        },
        {
          "name": "stdout",
          "output_type": "stream",
          "text": [
            "[info] 637811974: Downloading 1 format(s): hls-fastly_skyfire-audio-high-Original\n",
            "[hlsnative] Downloading m3u8 manifest\n",
            "[hlsnative] Total fragments: 116\n",
            "[download] Destination: /content/drive/MyDrive/Audios_Vimeo/Función ContarSi, Contara y Espacios ES.mp4\n",
            "[download] 100% of   16.46MiB in 00:00:26 at 632.73KiB/s                 \n",
            "[FixupM3u8] Fixing MPEG-TS in MP4 container of \"/content/drive/MyDrive/Audios_Vimeo/Función ContarSi, Contara y Espacios ES.mp4\"\n",
            "[ExtractAudio] Destination: /content/drive/MyDrive/Audios_Vimeo/Función ContarSi, Contara y Espacios ES.mp3\n",
            "Deleting original file /content/drive/MyDrive/Audios_Vimeo/Función ContarSi, Contara y Espacios ES.mp4 (pass -k to keep)\n"
          ]
        },
        {
          "name": "stderr",
          "output_type": "stream",
          "text": [
            "\r 40%|████      | 38/94 [27:20<35:55, 38.50s/it]"
          ]
        },
        {
          "name": "stdout",
          "output_type": "stream",
          "text": [
            "\n",
            "✅ Audio descargado y guardado en: /content/drive/MyDrive/Audios_Vimeo\n",
            "\n",
            "🔽 Descargando audio de: https://vimeo.com/637812172/ca442a2cb4\n",
            "[vimeo] Extracting URL: https://vimeo.com/637812172/ca442a2cb4\n",
            "[vimeo] 637812172: Downloading viewer info\n",
            "[vimeo] 637812172: Downloading API JSON\n",
            "[vimeo] 637812172: Downloading JSON metadata\n",
            "[vimeo] 637812172: Downloading akfire_interconnect_quic m3u8 information\n",
            "[vimeo] 637812172: Downloading fastly_skyfire m3u8 information\n",
            "[vimeo] 637812172: Downloading akfire_interconnect_quic MPD information\n"
          ]
        },
        {
          "name": "stderr",
          "output_type": "stream",
          "text": [
            "WARNING: [vimeo] 637812172: Failed to parse XML: not well-formed (invalid token): line 1, column 0\n"
          ]
        },
        {
          "name": "stdout",
          "output_type": "stream",
          "text": [
            "[vimeo] 637812172: Downloading fastly_skyfire MPD information\n"
          ]
        },
        {
          "name": "stderr",
          "output_type": "stream",
          "text": [
            "WARNING: [vimeo] 637812172: Failed to parse XML: not well-formed (invalid token): line 1, column 0\n"
          ]
        },
        {
          "name": "stdout",
          "output_type": "stream",
          "text": [
            "[info] 637812172: Downloading 1 format(s): hls-fastly_skyfire-audio-high-Original\n",
            "[hlsnative] Downloading m3u8 manifest\n",
            "[hlsnative] Total fragments: 125\n",
            "[download] Destination: /content/drive/MyDrive/Audios_Vimeo/Ejercicio práctico funciones ES.mp4\n",
            "[download] 100% of   17.84MiB in 00:00:28 at 640.20KiB/s                 \n",
            "[FixupM3u8] Fixing MPEG-TS in MP4 container of \"/content/drive/MyDrive/Audios_Vimeo/Ejercicio práctico funciones ES.mp4\"\n",
            "[ExtractAudio] Destination: /content/drive/MyDrive/Audios_Vimeo/Ejercicio práctico funciones ES.mp3\n",
            "Deleting original file /content/drive/MyDrive/Audios_Vimeo/Ejercicio práctico funciones ES.mp4 (pass -k to keep)\n"
          ]
        },
        {
          "name": "stderr",
          "output_type": "stream",
          "text": [
            "\r 41%|████▏     | 39/94 [28:02<36:26, 39.75s/it]"
          ]
        },
        {
          "name": "stdout",
          "output_type": "stream",
          "text": [
            "\n",
            "✅ Audio descargado y guardado en: /content/drive/MyDrive/Audios_Vimeo\n",
            "\n",
            "🔽 Descargando audio de: https://vimeo.com/644477562/7da53bf22b\n",
            "[vimeo] Extracting URL: https://vimeo.com/644477562/7da53bf22b\n",
            "[vimeo] 644477562: Downloading viewer info\n",
            "[vimeo] 644477562: Downloading API JSON\n",
            "[vimeo] 644477562: Downloading JSON metadata\n",
            "[vimeo] 644477562: Downloading akfire_interconnect_quic m3u8 information\n",
            "[vimeo] 644477562: Downloading fastly_skyfire m3u8 information\n",
            "[vimeo] 644477562: Downloading akfire_interconnect_quic MPD information\n"
          ]
        },
        {
          "name": "stderr",
          "output_type": "stream",
          "text": [
            "WARNING: [vimeo] 644477562: Failed to parse XML: not well-formed (invalid token): line 1, column 0\n"
          ]
        },
        {
          "name": "stdout",
          "output_type": "stream",
          "text": [
            "[vimeo] 644477562: Downloading fastly_skyfire MPD information\n"
          ]
        },
        {
          "name": "stderr",
          "output_type": "stream",
          "text": [
            "WARNING: [vimeo] 644477562: Failed to parse XML: not well-formed (invalid token): line 1, column 0\n"
          ]
        },
        {
          "name": "stdout",
          "output_type": "stream",
          "text": [
            "[info] 644477562: Downloading 1 format(s): hls-fastly_skyfire-audio-high-Original\n",
            "[hlsnative] Downloading m3u8 manifest\n",
            "[hlsnative] Total fragments: 35\n",
            "[download] Destination: /content/drive/MyDrive/Audios_Vimeo/Test： Excel Trabajar con Funciones Avanzadas ES.mp4\n",
            "[download] 100% of    4.93MiB in 00:00:07 at 673.30KiB/s               \n",
            "[FixupM3u8] Fixing MPEG-TS in MP4 container of \"/content/drive/MyDrive/Audios_Vimeo/Test： Excel Trabajar con Funciones Avanzadas ES.mp4\"\n",
            "[ExtractAudio] Destination: /content/drive/MyDrive/Audios_Vimeo/Test： Excel Trabajar con Funciones Avanzadas ES.mp3\n",
            "Deleting original file /content/drive/MyDrive/Audios_Vimeo/Test： Excel Trabajar con Funciones Avanzadas ES.mp4 (pass -k to keep)\n"
          ]
        },
        {
          "name": "stderr",
          "output_type": "stream",
          "text": [
            "\r 43%|████▎     | 40/94 [28:17<28:54, 32.13s/it]"
          ]
        },
        {
          "name": "stdout",
          "output_type": "stream",
          "text": [
            "\n",
            "✅ Audio descargado y guardado en: /content/drive/MyDrive/Audios_Vimeo\n",
            "\n",
            "🔽 Descargando audio de: https://vimeo.com/642696038/2552fd6449\n",
            "[vimeo] Extracting URL: https://vimeo.com/642696038/2552fd6449\n",
            "[vimeo] 642696038: Downloading viewer info\n",
            "[vimeo] 642696038: Downloading API JSON\n",
            "[vimeo] 642696038: Downloading JSON metadata\n",
            "[vimeo] 642696038: Downloading akfire_interconnect_quic m3u8 information\n",
            "[vimeo] 642696038: Downloading fastly_skyfire m3u8 information\n",
            "[vimeo] 642696038: Downloading akfire_interconnect_quic MPD information\n"
          ]
        },
        {
          "name": "stderr",
          "output_type": "stream",
          "text": [
            "WARNING: [vimeo] 642696038: Failed to parse XML: not well-formed (invalid token): line 1, column 0\n"
          ]
        },
        {
          "name": "stdout",
          "output_type": "stream",
          "text": [
            "[vimeo] 642696038: Downloading fastly_skyfire MPD information\n"
          ]
        },
        {
          "name": "stderr",
          "output_type": "stream",
          "text": [
            "WARNING: [vimeo] 642696038: Failed to parse XML: not well-formed (invalid token): line 1, column 0\n"
          ]
        },
        {
          "name": "stdout",
          "output_type": "stream",
          "text": [
            "[info] 642696038: Downloading 1 format(s): hls-fastly_skyfire-audio-high-Original\n",
            "[hlsnative] Downloading m3u8 manifest\n",
            "[hlsnative] Total fragments: 95\n",
            "[download] Destination: /content/drive/MyDrive/Audios_Vimeo/Función Ordenar.mp4\n",
            "[download] 100% of   13.52MiB in 00:00:21 at 632.03KiB/s               \n",
            "[FixupM3u8] Fixing MPEG-TS in MP4 container of \"/content/drive/MyDrive/Audios_Vimeo/Función Ordenar.mp4\"\n",
            "[ExtractAudio] Destination: /content/drive/MyDrive/Audios_Vimeo/Función Ordenar.mp3\n",
            "Deleting original file /content/drive/MyDrive/Audios_Vimeo/Función Ordenar.mp4 (pass -k to keep)\n"
          ]
        },
        {
          "name": "stderr",
          "output_type": "stream",
          "text": [
            "\r 44%|████▎     | 41/94 [28:51<28:50, 32.66s/it]"
          ]
        },
        {
          "name": "stdout",
          "output_type": "stream",
          "text": [
            "\n",
            "✅ Audio descargado y guardado en: /content/drive/MyDrive/Audios_Vimeo\n",
            "\n",
            "🔽 Descargando audio de: https://vimeo.com/642696363/ef01abb0c2\n",
            "[vimeo] Extracting URL: https://vimeo.com/642696363/ef01abb0c2\n",
            "[vimeo] 642696363: Downloading viewer info\n",
            "[vimeo] 642696363: Downloading API JSON\n",
            "[vimeo] 642696363: Downloading JSON metadata\n",
            "[vimeo] 642696363: Downloading akfire_interconnect_quic m3u8 information\n",
            "[vimeo] 642696363: Downloading fastly_skyfire m3u8 information\n",
            "[vimeo] 642696363: Downloading akfire_interconnect_quic MPD information\n"
          ]
        },
        {
          "name": "stderr",
          "output_type": "stream",
          "text": [
            "WARNING: [vimeo] 642696363: Failed to parse XML: not well-formed (invalid token): line 1, column 0\n"
          ]
        },
        {
          "name": "stdout",
          "output_type": "stream",
          "text": [
            "[vimeo] 642696363: Downloading fastly_skyfire MPD information\n"
          ]
        },
        {
          "name": "stderr",
          "output_type": "stream",
          "text": [
            "WARNING: [vimeo] 642696363: Failed to parse XML: not well-formed (invalid token): line 1, column 0\n"
          ]
        },
        {
          "name": "stdout",
          "output_type": "stream",
          "text": [
            "[info] 642696363: Downloading 1 format(s): hls-fastly_skyfire-audio-high-Original\n",
            "[hlsnative] Downloading m3u8 manifest\n",
            "[hlsnative] Total fragments: 87\n",
            "[download] Destination: /content/drive/MyDrive/Audios_Vimeo/Función Ordenar Por ES.mp4\n",
            "[download] 100% of   12.42MiB in 00:00:18 at 694.96KiB/s               \n",
            "[FixupM3u8] Fixing MPEG-TS in MP4 container of \"/content/drive/MyDrive/Audios_Vimeo/Función Ordenar Por ES.mp4\"\n",
            "[ExtractAudio] Destination: /content/drive/MyDrive/Audios_Vimeo/Función Ordenar Por ES.mp3\n",
            "Deleting original file /content/drive/MyDrive/Audios_Vimeo/Función Ordenar Por ES.mp4 (pass -k to keep)\n"
          ]
        },
        {
          "name": "stderr",
          "output_type": "stream",
          "text": [
            "\r 45%|████▍     | 42/94 [29:19<27:19, 31.52s/it]"
          ]
        },
        {
          "name": "stdout",
          "output_type": "stream",
          "text": [
            "\n",
            "✅ Audio descargado y guardado en: /content/drive/MyDrive/Audios_Vimeo\n",
            "\n",
            "🔽 Descargando audio de: https://vimeo.com/642696773/7eda886c06\n",
            "[vimeo] Extracting URL: https://vimeo.com/642696773/7eda886c06\n",
            "[vimeo] 642696773: Downloading viewer info\n",
            "[vimeo] 642696773: Downloading API JSON\n",
            "[vimeo] 642696773: Downloading JSON metadata\n",
            "[vimeo] 642696773: Downloading akfire_interconnect_quic m3u8 information\n",
            "[vimeo] 642696773: Downloading fastly_skyfire m3u8 information\n",
            "[vimeo] 642696773: Downloading akfire_interconnect_quic MPD information\n"
          ]
        },
        {
          "name": "stderr",
          "output_type": "stream",
          "text": [
            "WARNING: [vimeo] 642696773: Failed to parse XML: not well-formed (invalid token): line 1, column 0\n"
          ]
        },
        {
          "name": "stdout",
          "output_type": "stream",
          "text": [
            "[vimeo] 642696773: Downloading fastly_skyfire MPD information\n"
          ]
        },
        {
          "name": "stderr",
          "output_type": "stream",
          "text": [
            "WARNING: [vimeo] 642696773: Failed to parse XML: not well-formed (invalid token): line 1, column 0\n"
          ]
        },
        {
          "name": "stdout",
          "output_type": "stream",
          "text": [
            "[info] 642696773: Downloading 1 format(s): hls-fastly_skyfire-audio-high-Original\n",
            "[hlsnative] Downloading m3u8 manifest\n",
            "[hlsnative] Total fragments: 118\n",
            "[download] Destination: /content/drive/MyDrive/Audios_Vimeo/Función Filtrar ES.mp4\n",
            "[download] 100% of   16.77MiB in 00:00:25 at 680.69KiB/s                 \n",
            "[FixupM3u8] Fixing MPEG-TS in MP4 container of \"/content/drive/MyDrive/Audios_Vimeo/Función Filtrar ES.mp4\"\n",
            "[ExtractAudio] Destination: /content/drive/MyDrive/Audios_Vimeo/Función Filtrar ES.mp3\n",
            "Deleting original file /content/drive/MyDrive/Audios_Vimeo/Función Filtrar ES.mp4 (pass -k to keep)\n"
          ]
        },
        {
          "name": "stderr",
          "output_type": "stream",
          "text": [
            "\r 46%|████▌     | 43/94 [30:00<29:05, 34.23s/it]"
          ]
        },
        {
          "name": "stdout",
          "output_type": "stream",
          "text": [
            "\n",
            "✅ Audio descargado y guardado en: /content/drive/MyDrive/Audios_Vimeo\n",
            "\n",
            "🔽 Descargando audio de: https://vimeo.com/642697052/731a7da6f7\n",
            "[vimeo] Extracting URL: https://vimeo.com/642697052/731a7da6f7\n",
            "[vimeo] 642697052: Downloading viewer info\n",
            "[vimeo] 642697052: Downloading API JSON\n",
            "[vimeo] 642697052: Downloading JSON metadata\n",
            "[vimeo] 642697052: Downloading akfire_interconnect_quic m3u8 information\n",
            "[vimeo] 642697052: Downloading fastly_skyfire m3u8 information\n",
            "[vimeo] 642697052: Downloading akfire_interconnect_quic MPD information\n"
          ]
        },
        {
          "name": "stderr",
          "output_type": "stream",
          "text": [
            "WARNING: [vimeo] 642697052: Failed to parse XML: not well-formed (invalid token): line 1, column 0\n"
          ]
        },
        {
          "name": "stdout",
          "output_type": "stream",
          "text": [
            "[vimeo] 642697052: Downloading fastly_skyfire MPD information\n"
          ]
        },
        {
          "name": "stderr",
          "output_type": "stream",
          "text": [
            "WARNING: [vimeo] 642697052: Failed to parse XML: not well-formed (invalid token): line 1, column 0\n"
          ]
        },
        {
          "name": "stdout",
          "output_type": "stream",
          "text": [
            "[info] 642697052: Downloading 1 format(s): hls-fastly_skyfire-audio-high-Original\n",
            "[hlsnative] Downloading m3u8 manifest\n",
            "[hlsnative] Total fragments: 78\n",
            "[download] Destination: /content/drive/MyDrive/Audios_Vimeo/Función Únicos ES.mp4\n",
            "[download] 100% of   11.06MiB in 00:00:16 at 677.05KiB/s               \n",
            "[FixupM3u8] Fixing MPEG-TS in MP4 container of \"/content/drive/MyDrive/Audios_Vimeo/Función Únicos ES.mp4\"\n",
            "[ExtractAudio] Destination: /content/drive/MyDrive/Audios_Vimeo/Función Únicos ES.mp3\n",
            "Deleting original file /content/drive/MyDrive/Audios_Vimeo/Función Únicos ES.mp4 (pass -k to keep)\n"
          ]
        },
        {
          "name": "stderr",
          "output_type": "stream",
          "text": [
            "\r 47%|████▋     | 44/94 [30:28<26:52, 32.26s/it]"
          ]
        },
        {
          "name": "stdout",
          "output_type": "stream",
          "text": [
            "\n",
            "✅ Audio descargado y guardado en: /content/drive/MyDrive/Audios_Vimeo\n",
            "\n",
            "🔽 Descargando audio de: https://vimeo.com/642697321/b992a4ced6\n",
            "[vimeo] Extracting URL: https://vimeo.com/642697321/b992a4ced6\n",
            "[vimeo] 642697321: Downloading viewer info\n",
            "[vimeo] 642697321: Downloading API JSON\n",
            "[vimeo] 642697321: Downloading JSON metadata\n",
            "[vimeo] 642697321: Downloading akfire_interconnect_quic m3u8 information\n",
            "[vimeo] 642697321: Downloading fastly_skyfire m3u8 information\n",
            "[vimeo] 642697321: Downloading akfire_interconnect_quic MPD information\n"
          ]
        },
        {
          "name": "stderr",
          "output_type": "stream",
          "text": [
            "WARNING: [vimeo] 642697321: Failed to parse XML: not well-formed (invalid token): line 1, column 0\n"
          ]
        },
        {
          "name": "stdout",
          "output_type": "stream",
          "text": [
            "[vimeo] 642697321: Downloading fastly_skyfire MPD information\n"
          ]
        },
        {
          "name": "stderr",
          "output_type": "stream",
          "text": [
            "WARNING: [vimeo] 642697321: Failed to parse XML: not well-formed (invalid token): line 1, column 0\n"
          ]
        },
        {
          "name": "stdout",
          "output_type": "stream",
          "text": [
            "[info] 642697321: Downloading 1 format(s): hls-fastly_skyfire-audio-high-Original\n",
            "[hlsnative] Downloading m3u8 manifest\n",
            "[hlsnative] Total fragments: 90\n",
            "[download] Destination: /content/drive/MyDrive/Audios_Vimeo/Función MatrizAleat ES.mp4\n",
            "[download] 100% of   12.86MiB in 00:00:20 at 632.55KiB/s               \n",
            "[FixupM3u8] Fixing MPEG-TS in MP4 container of \"/content/drive/MyDrive/Audios_Vimeo/Función MatrizAleat ES.mp4\"\n",
            "[ExtractAudio] Destination: /content/drive/MyDrive/Audios_Vimeo/Función MatrizAleat ES.mp3\n",
            "Deleting original file /content/drive/MyDrive/Audios_Vimeo/Función MatrizAleat ES.mp4 (pass -k to keep)\n"
          ]
        },
        {
          "name": "stderr",
          "output_type": "stream",
          "text": [
            "\r 48%|████▊     | 45/94 [31:01<26:31, 32.47s/it]"
          ]
        },
        {
          "name": "stdout",
          "output_type": "stream",
          "text": [
            "\n",
            "✅ Audio descargado y guardado en: /content/drive/MyDrive/Audios_Vimeo\n",
            "\n",
            "🔽 Descargando audio de: https://vimeo.com/644477612/ed297341f1\n",
            "[vimeo] Extracting URL: https://vimeo.com/644477612/ed297341f1\n",
            "[vimeo] 644477612: Downloading viewer info\n",
            "[vimeo] 644477612: Downloading API JSON\n",
            "[vimeo] 644477612: Downloading JSON metadata\n",
            "[vimeo] 644477612: Downloading akfire_interconnect_quic m3u8 information\n",
            "[vimeo] 644477612: Downloading fastly_skyfire m3u8 information\n",
            "[vimeo] 644477612: Downloading akfire_interconnect_quic MPD information\n"
          ]
        },
        {
          "name": "stderr",
          "output_type": "stream",
          "text": [
            "WARNING: [vimeo] 644477612: Failed to parse XML: not well-formed (invalid token): line 1, column 0\n"
          ]
        },
        {
          "name": "stdout",
          "output_type": "stream",
          "text": [
            "[vimeo] 644477612: Downloading fastly_skyfire MPD information\n"
          ]
        },
        {
          "name": "stderr",
          "output_type": "stream",
          "text": [
            "WARNING: [vimeo] 644477612: Failed to parse XML: not well-formed (invalid token): line 1, column 0\n"
          ]
        },
        {
          "name": "stdout",
          "output_type": "stream",
          "text": [
            "[info] 644477612: Downloading 1 format(s): hls-fastly_skyfire-audio-high-Original\n",
            "[hlsnative] Downloading m3u8 manifest\n",
            "[hlsnative] Total fragments: 34\n",
            "[download] Destination: /content/drive/MyDrive/Audios_Vimeo/Test： Excel Trabajar con Funciones Matriciales ES.mp4\n",
            "[download] 100% of    4.80MiB in 00:00:07 at 662.47KiB/s               \n",
            "[FixupM3u8] Fixing MPEG-TS in MP4 container of \"/content/drive/MyDrive/Audios_Vimeo/Test： Excel Trabajar con Funciones Matriciales ES.mp4\"\n",
            "[ExtractAudio] Destination: /content/drive/MyDrive/Audios_Vimeo/Test： Excel Trabajar con Funciones Matriciales ES.mp3\n",
            "Deleting original file /content/drive/MyDrive/Audios_Vimeo/Test： Excel Trabajar con Funciones Matriciales ES.mp4 (pass -k to keep)\n"
          ]
        },
        {
          "name": "stderr",
          "output_type": "stream",
          "text": [
            "\r 49%|████▉     | 46/94 [31:15<21:35, 26.99s/it]"
          ]
        },
        {
          "name": "stdout",
          "output_type": "stream",
          "text": [
            "\n",
            "✅ Audio descargado y guardado en: /content/drive/MyDrive/Audios_Vimeo\n",
            "\n",
            "🔽 Descargando audio de: https://vimeo.com/637825483/466a311b86\n",
            "[vimeo] Extracting URL: https://vimeo.com/637825483/466a311b86\n",
            "[vimeo] 637825483: Downloading viewer info\n",
            "[vimeo] 637825483: Downloading API JSON\n",
            "[vimeo] 637825483: Downloading JSON metadata\n",
            "[vimeo] 637825483: Downloading akfire_interconnect_quic m3u8 information\n",
            "[vimeo] 637825483: Downloading fastly_skyfire m3u8 information\n",
            "[vimeo] 637825483: Downloading akfire_interconnect_quic MPD information\n"
          ]
        },
        {
          "name": "stderr",
          "output_type": "stream",
          "text": [
            "WARNING: [vimeo] 637825483: Failed to parse XML: not well-formed (invalid token): line 1, column 0\n"
          ]
        },
        {
          "name": "stdout",
          "output_type": "stream",
          "text": [
            "[vimeo] 637825483: Downloading fastly_skyfire MPD information\n"
          ]
        },
        {
          "name": "stderr",
          "output_type": "stream",
          "text": [
            "WARNING: [vimeo] 637825483: Failed to parse XML: not well-formed (invalid token): line 1, column 0\n"
          ]
        },
        {
          "name": "stdout",
          "output_type": "stream",
          "text": [
            "[info] 637825483: Downloading 1 format(s): hls-fastly_skyfire-audio-high-Original\n",
            "[hlsnative] Downloading m3u8 manifest\n",
            "[hlsnative] Total fragments: 136\n",
            "[download] Destination: /content/drive/MyDrive/Audios_Vimeo/Los inicios con macros.mp4\n",
            "[download] 100% of   25.85MiB in 00:00:33 at 795.40KiB/s                 \n",
            "[FixupM3u8] Fixing MPEG-TS in MP4 container of \"/content/drive/MyDrive/Audios_Vimeo/Los inicios con macros.mp4\"\n",
            "[ExtractAudio] Destination: /content/drive/MyDrive/Audios_Vimeo/Los inicios con macros.mp3\n",
            "Deleting original file /content/drive/MyDrive/Audios_Vimeo/Los inicios con macros.mp4 (pass -k to keep)\n"
          ]
        },
        {
          "name": "stderr",
          "output_type": "stream",
          "text": [
            "\r 50%|█████     | 47/94 [32:04<26:20, 33.62s/it]"
          ]
        },
        {
          "name": "stdout",
          "output_type": "stream",
          "text": [
            "\n",
            "✅ Audio descargado y guardado en: /content/drive/MyDrive/Audios_Vimeo\n",
            "\n",
            "🔽 Descargando audio de: https://vimeo.com/637825660/4841692eba\n",
            "[vimeo] Extracting URL: https://vimeo.com/637825660/4841692eba\n",
            "[vimeo] 637825660: Downloading viewer info\n",
            "[vimeo] 637825660: Downloading API JSON\n",
            "[vimeo] 637825660: Downloading JSON metadata\n",
            "[vimeo] 637825660: Downloading akfire_interconnect_quic m3u8 information\n",
            "[vimeo] 637825660: Downloading fastly_skyfire m3u8 information\n",
            "[vimeo] 637825660: Downloading akfire_interconnect_quic MPD information\n"
          ]
        },
        {
          "name": "stderr",
          "output_type": "stream",
          "text": [
            "WARNING: [vimeo] 637825660: Failed to parse XML: not well-formed (invalid token): line 1, column 0\n"
          ]
        },
        {
          "name": "stdout",
          "output_type": "stream",
          "text": [
            "[vimeo] 637825660: Downloading fastly_skyfire MPD information\n"
          ]
        },
        {
          "name": "stderr",
          "output_type": "stream",
          "text": [
            "WARNING: [vimeo] 637825660: Failed to parse XML: not well-formed (invalid token): line 1, column 0\n"
          ]
        },
        {
          "name": "stdout",
          "output_type": "stream",
          "text": [
            "[info] 637825660: Downloading 1 format(s): hls-fastly_skyfire-audio-high-Original\n",
            "[hlsnative] Downloading m3u8 manifest\n",
            "[hlsnative] Total fragments: 162\n",
            "[download] Destination: /content/drive/MyDrive/Audios_Vimeo/Entorno y primeros pasos con macros.mp4\n",
            "[download] 100% of   30.68MiB in 00:00:43 at 722.82KiB/s                 \n",
            "[FixupM3u8] Fixing MPEG-TS in MP4 container of \"/content/drive/MyDrive/Audios_Vimeo/Entorno y primeros pasos con macros.mp4\"\n",
            "[ExtractAudio] Destination: /content/drive/MyDrive/Audios_Vimeo/Entorno y primeros pasos con macros.mp3\n",
            "Deleting original file /content/drive/MyDrive/Audios_Vimeo/Entorno y primeros pasos con macros.mp4 (pass -k to keep)\n"
          ]
        },
        {
          "name": "stderr",
          "output_type": "stream",
          "text": [
            "\r 51%|█████     | 48/94 [33:05<32:05, 41.87s/it]"
          ]
        },
        {
          "name": "stdout",
          "output_type": "stream",
          "text": [
            "\n",
            "✅ Audio descargado y guardado en: /content/drive/MyDrive/Audios_Vimeo\n",
            "\n",
            "🔽 Descargando audio de: https://vimeo.com/637841412/debe6e1d8b\n",
            "[vimeo] Extracting URL: https://vimeo.com/637841412/debe6e1d8b\n",
            "[vimeo] 637841412: Downloading viewer info\n",
            "[vimeo] 637841412: Downloading API JSON\n",
            "[vimeo] 637841412: Downloading JSON metadata\n",
            "[vimeo] 637841412: Downloading akfire_interconnect_quic m3u8 information\n",
            "[vimeo] 637841412: Downloading fastly_skyfire m3u8 information\n",
            "[vimeo] 637841412: Downloading akfire_interconnect_quic MPD information\n"
          ]
        },
        {
          "name": "stderr",
          "output_type": "stream",
          "text": [
            "WARNING: [vimeo] 637841412: Failed to parse XML: not well-formed (invalid token): line 1, column 0\n"
          ]
        },
        {
          "name": "stdout",
          "output_type": "stream",
          "text": [
            "[vimeo] 637841412: Downloading fastly_skyfire MPD information\n"
          ]
        },
        {
          "name": "stderr",
          "output_type": "stream",
          "text": [
            "WARNING: [vimeo] 637841412: Failed to parse XML: not well-formed (invalid token): line 1, column 0\n"
          ]
        },
        {
          "name": "stdout",
          "output_type": "stream",
          "text": [
            "[info] 637841412: Downloading 1 format(s): hls-fastly_skyfire-audio-high-Original\n",
            "[hlsnative] Downloading m3u8 manifest\n",
            "[hlsnative] Total fragments: 102\n",
            "[download] Destination: /content/drive/MyDrive/Audios_Vimeo/Módulos y procesos SUB.mp4\n",
            "[download] 100% of   19.30MiB in 00:00:25 at 788.90KiB/s                 \n",
            "[FixupM3u8] Fixing MPEG-TS in MP4 container of \"/content/drive/MyDrive/Audios_Vimeo/Módulos y procesos SUB.mp4\"\n",
            "[ExtractAudio] Destination: /content/drive/MyDrive/Audios_Vimeo/Módulos y procesos SUB.mp3\n",
            "Deleting original file /content/drive/MyDrive/Audios_Vimeo/Módulos y procesos SUB.mp4 (pass -k to keep)\n"
          ]
        },
        {
          "name": "stderr",
          "output_type": "stream",
          "text": [
            "\r 52%|█████▏    | 49/94 [33:43<30:36, 40.81s/it]"
          ]
        },
        {
          "name": "stdout",
          "output_type": "stream",
          "text": [
            "\n",
            "✅ Audio descargado y guardado en: /content/drive/MyDrive/Audios_Vimeo\n",
            "\n",
            "🔽 Descargando audio de: https://vimeo.com/637841514/653406d8ee\n",
            "[vimeo] Extracting URL: https://vimeo.com/637841514/653406d8ee\n",
            "[vimeo] 637841514: Downloading viewer info\n",
            "[vimeo] 637841514: Downloading API JSON\n",
            "[vimeo] 637841514: Downloading JSON metadata\n",
            "[vimeo] 637841514: Downloading akfire_interconnect_quic m3u8 information\n",
            "[vimeo] 637841514: Downloading fastly_skyfire m3u8 information\n",
            "[vimeo] 637841514: Downloading akfire_interconnect_quic MPD information\n"
          ]
        },
        {
          "name": "stderr",
          "output_type": "stream",
          "text": [
            "WARNING: [vimeo] 637841514: Failed to parse XML: not well-formed (invalid token): line 1, column 0\n"
          ]
        },
        {
          "name": "stdout",
          "output_type": "stream",
          "text": [
            "[vimeo] 637841514: Downloading fastly_skyfire MPD information\n"
          ]
        },
        {
          "name": "stderr",
          "output_type": "stream",
          "text": [
            "WARNING: [vimeo] 637841514: Failed to parse XML: not well-formed (invalid token): line 1, column 0\n"
          ]
        },
        {
          "name": "stdout",
          "output_type": "stream",
          "text": [
            "[info] 637841514: Downloading 1 format(s): hls-fastly_skyfire-audio-high-Original\n",
            "[hlsnative] Downloading m3u8 manifest\n",
            "[hlsnative] Total fragments: 104\n",
            "[download] Destination: /content/drive/MyDrive/Audios_Vimeo/Explorador de proyectos y bloqueo de código.mp4\n",
            "[download] 100% of   19.65MiB in 00:00:26 at 772.98KiB/s                 \n",
            "[FixupM3u8] Fixing MPEG-TS in MP4 container of \"/content/drive/MyDrive/Audios_Vimeo/Explorador de proyectos y bloqueo de código.mp4\"\n",
            "[ExtractAudio] Destination: /content/drive/MyDrive/Audios_Vimeo/Explorador de proyectos y bloqueo de código.mp3\n",
            "Deleting original file /content/drive/MyDrive/Audios_Vimeo/Explorador de proyectos y bloqueo de código.mp4 (pass -k to keep)\n"
          ]
        },
        {
          "name": "stderr",
          "output_type": "stream",
          "text": [
            "\r 53%|█████▎    | 50/94 [34:23<29:46, 40.60s/it]"
          ]
        },
        {
          "name": "stdout",
          "output_type": "stream",
          "text": [
            "\n",
            "✅ Audio descargado y guardado en: /content/drive/MyDrive/Audios_Vimeo\n",
            "\n",
            "🔽 Descargando audio de: https://vimeo.com/637842730/3694270745\n",
            "[vimeo] Extracting URL: https://vimeo.com/637842730/3694270745\n",
            "[vimeo] 637842730: Downloading viewer info\n",
            "[vimeo] 637842730: Downloading API JSON\n",
            "[vimeo] 637842730: Downloading JSON metadata\n",
            "[vimeo] 637842730: Downloading akfire_interconnect_quic m3u8 information\n",
            "[vimeo] 637842730: Downloading fastly_skyfire m3u8 information\n",
            "[vimeo] 637842730: Downloading akfire_interconnect_quic MPD information\n"
          ]
        },
        {
          "name": "stderr",
          "output_type": "stream",
          "text": [
            "WARNING: [vimeo] 637842730: Failed to parse XML: not well-formed (invalid token): line 1, column 0\n"
          ]
        },
        {
          "name": "stdout",
          "output_type": "stream",
          "text": [
            "[vimeo] 637842730: Downloading fastly_skyfire MPD information\n"
          ]
        },
        {
          "name": "stderr",
          "output_type": "stream",
          "text": [
            "WARNING: [vimeo] 637842730: Failed to parse XML: not well-formed (invalid token): line 1, column 0\n"
          ]
        },
        {
          "name": "stdout",
          "output_type": "stream",
          "text": [
            "[info] 637842730: Downloading 1 format(s): hls-fastly_skyfire-audio-high-Original\n",
            "[hlsnative] Downloading m3u8 manifest\n",
            "[hlsnative] Total fragments: 100\n",
            "[download] Destination: /content/drive/MyDrive/Audios_Vimeo/Caso práctico de actualización de datos.mp4\n",
            "[download] 100% of   19.04MiB in 00:00:26 at 724.47KiB/s                 \n",
            "[FixupM3u8] Fixing MPEG-TS in MP4 container of \"/content/drive/MyDrive/Audios_Vimeo/Caso práctico de actualización de datos.mp4\"\n",
            "[ExtractAudio] Destination: /content/drive/MyDrive/Audios_Vimeo/Caso práctico de actualización de datos.mp3\n",
            "Deleting original file /content/drive/MyDrive/Audios_Vimeo/Caso práctico de actualización de datos.mp4 (pass -k to keep)\n"
          ]
        },
        {
          "name": "stderr",
          "output_type": "stream",
          "text": [
            "\r 54%|█████▍    | 51/94 [35:02<28:43, 40.09s/it]"
          ]
        },
        {
          "name": "stdout",
          "output_type": "stream",
          "text": [
            "\n",
            "✅ Audio descargado y guardado en: /content/drive/MyDrive/Audios_Vimeo\n",
            "\n",
            "🔽 Descargando audio de: https://vimeo.com/644732163/05948e8e34\n",
            "[vimeo] Extracting URL: https://vimeo.com/644732163/05948e8e34\n",
            "[vimeo] 644732163: Downloading viewer info\n",
            "[vimeo] 644732163: Downloading API JSON\n",
            "[vimeo] 644732163: Downloading JSON metadata\n",
            "[vimeo] 644732163: Downloading akfire_interconnect_quic m3u8 information\n",
            "[vimeo] 644732163: Downloading fastly_skyfire m3u8 information\n",
            "[vimeo] 644732163: Downloading akfire_interconnect_quic MPD information\n"
          ]
        },
        {
          "name": "stderr",
          "output_type": "stream",
          "text": [
            "WARNING: [vimeo] 644732163: Failed to parse XML: not well-formed (invalid token): line 1, column 0\n"
          ]
        },
        {
          "name": "stdout",
          "output_type": "stream",
          "text": [
            "[vimeo] 644732163: Downloading fastly_skyfire MPD information\n"
          ]
        },
        {
          "name": "stderr",
          "output_type": "stream",
          "text": [
            "WARNING: [vimeo] 644732163: Failed to parse XML: not well-formed (invalid token): line 1, column 0\n"
          ]
        },
        {
          "name": "stdout",
          "output_type": "stream",
          "text": [
            "[info] 644732163: Downloading 1 format(s): hls-fastly_skyfire-audio-high-Original\n",
            "[hlsnative] Downloading m3u8 manifest\n",
            "[hlsnative] Total fragments: 36\n",
            "[download] Destination: /content/drive/MyDrive/Audios_Vimeo/Test - Introducción a las Macros.mp4\n",
            "[download] 100% of    6.90MiB in 00:00:08 at 787.46KiB/s               \n",
            "[FixupM3u8] Fixing MPEG-TS in MP4 container of \"/content/drive/MyDrive/Audios_Vimeo/Test - Introducción a las Macros.mp4\"\n",
            "[ExtractAudio] Destination: /content/drive/MyDrive/Audios_Vimeo/Test - Introducción a las Macros.mp3\n",
            "Deleting original file /content/drive/MyDrive/Audios_Vimeo/Test - Introducción a las Macros.mp4 (pass -k to keep)\n"
          ]
        },
        {
          "name": "stderr",
          "output_type": "stream",
          "text": [
            "\r 55%|█████▌    | 52/94 [35:19<23:06, 33.00s/it]"
          ]
        },
        {
          "name": "stdout",
          "output_type": "stream",
          "text": [
            "\n",
            "✅ Audio descargado y guardado en: /content/drive/MyDrive/Audios_Vimeo\n",
            "\n",
            "🔽 Descargando audio de: https://vimeo.com/638720484/8ba9678999\n",
            "[vimeo] Extracting URL: https://vimeo.com/638720484/8ba9678999\n",
            "[vimeo] 638720484: Downloading viewer info\n",
            "[vimeo] 638720484: Downloading API JSON\n",
            "[vimeo] 638720484: Downloading JSON metadata\n",
            "[vimeo] 638720484: Downloading akfire_interconnect_quic m3u8 information\n",
            "[vimeo] 638720484: Downloading fastly_skyfire m3u8 information\n",
            "[vimeo] 638720484: Downloading akfire_interconnect_quic MPD information\n"
          ]
        },
        {
          "name": "stderr",
          "output_type": "stream",
          "text": [
            "WARNING: [vimeo] 638720484: Failed to parse XML: not well-formed (invalid token): line 1, column 0\n"
          ]
        },
        {
          "name": "stdout",
          "output_type": "stream",
          "text": [
            "[vimeo] 638720484: Downloading fastly_skyfire MPD information\n"
          ]
        },
        {
          "name": "stderr",
          "output_type": "stream",
          "text": [
            "WARNING: [vimeo] 638720484: Failed to parse XML: not well-formed (invalid token): line 1, column 0\n"
          ]
        },
        {
          "name": "stdout",
          "output_type": "stream",
          "text": [
            "[info] 638720484: Downloading 1 format(s): hls-fastly_skyfire-audio-high-Original\n",
            "[hlsnative] Downloading m3u8 manifest\n",
            "[hlsnative] Total fragments: 110\n",
            "[download] Destination: /content/drive/MyDrive/Audios_Vimeo/Listas de validación de datos pendientes.mp4\n",
            "[download] 100% of   15.66MiB in 00:00:26 at 612.85KiB/s                 \n",
            "[FixupM3u8] Fixing MPEG-TS in MP4 container of \"/content/drive/MyDrive/Audios_Vimeo/Listas de validación de datos pendientes.mp4\"\n",
            "[ExtractAudio] Destination: /content/drive/MyDrive/Audios_Vimeo/Listas de validación de datos pendientes.mp3\n",
            "Deleting original file /content/drive/MyDrive/Audios_Vimeo/Listas de validación de datos pendientes.mp4 (pass -k to keep)\n"
          ]
        },
        {
          "name": "stderr",
          "output_type": "stream",
          "text": [
            "\r 56%|█████▋    | 53/94 [35:58<23:48, 34.85s/it]"
          ]
        },
        {
          "name": "stdout",
          "output_type": "stream",
          "text": [
            "\n",
            "✅ Audio descargado y guardado en: /content/drive/MyDrive/Audios_Vimeo\n",
            "\n",
            "🔽 Descargando audio de: https://vimeo.com/638720667/bb9f896a5e\n",
            "[vimeo] Extracting URL: https://vimeo.com/638720667/bb9f896a5e\n",
            "[vimeo] 638720667: Downloading viewer info\n",
            "[vimeo] 638720667: Downloading API JSON\n",
            "[vimeo] 638720667: Downloading JSON metadata\n",
            "[vimeo] 638720667: Downloading akfire_interconnect_quic m3u8 information\n",
            "[vimeo] 638720667: Downloading fastly_skyfire m3u8 information\n",
            "[vimeo] 638720667: Downloading akfire_interconnect_quic MPD information\n"
          ]
        },
        {
          "name": "stderr",
          "output_type": "stream",
          "text": [
            "WARNING: [vimeo] 638720667: Failed to parse XML: not well-formed (invalid token): line 1, column 0\n"
          ]
        },
        {
          "name": "stdout",
          "output_type": "stream",
          "text": [
            "[vimeo] 638720667: Downloading fastly_skyfire MPD information\n"
          ]
        },
        {
          "name": "stderr",
          "output_type": "stream",
          "text": [
            "WARNING: [vimeo] 638720667: Failed to parse XML: not well-formed (invalid token): line 1, column 0\n"
          ]
        },
        {
          "name": "stdout",
          "output_type": "stream",
          "text": [
            "[info] 638720667: Downloading 1 format(s): hls-fastly_skyfire-audio-high-Original\n",
            "[hlsnative] Downloading m3u8 manifest\n",
            "[hlsnative] Total fragments: 120\n",
            "[download] Destination: /content/drive/MyDrive/Audios_Vimeo/Proteger hojas de forma parcial.mp4\n",
            "[download] 100% of   22.79MiB in 00:00:29 at 802.16KiB/s                 \n",
            "[FixupM3u8] Fixing MPEG-TS in MP4 container of \"/content/drive/MyDrive/Audios_Vimeo/Proteger hojas de forma parcial.mp4\"\n",
            "[ExtractAudio] Destination: /content/drive/MyDrive/Audios_Vimeo/Proteger hojas de forma parcial.mp3\n",
            "Deleting original file /content/drive/MyDrive/Audios_Vimeo/Proteger hojas de forma parcial.mp4 (pass -k to keep)\n"
          ]
        },
        {
          "name": "stderr",
          "output_type": "stream",
          "text": [
            "\r 57%|█████▋    | 54/94 [36:43<25:14, 37.87s/it]"
          ]
        },
        {
          "name": "stdout",
          "output_type": "stream",
          "text": [
            "\n",
            "✅ Audio descargado y guardado en: /content/drive/MyDrive/Audios_Vimeo\n",
            "\n",
            "🔽 Descargando audio de: https://vimeo.com/638720843/2302495aeb\n",
            "[vimeo] Extracting URL: https://vimeo.com/638720843/2302495aeb\n",
            "[vimeo] 638720843: Downloading viewer info\n",
            "[vimeo] 638720843: Downloading API JSON\n",
            "[vimeo] 638720843: Downloading JSON metadata\n",
            "[vimeo] 638720843: Downloading akfire_interconnect_quic m3u8 information\n",
            "[vimeo] 638720843: Downloading fastly_skyfire m3u8 information\n",
            "[vimeo] 638720843: Downloading akfire_interconnect_quic MPD information\n"
          ]
        },
        {
          "name": "stderr",
          "output_type": "stream",
          "text": [
            "WARNING: [vimeo] 638720843: Failed to parse XML: not well-formed (invalid token): line 1, column 0\n"
          ]
        },
        {
          "name": "stdout",
          "output_type": "stream",
          "text": [
            "[vimeo] 638720843: Downloading fastly_skyfire MPD information\n"
          ]
        },
        {
          "name": "stderr",
          "output_type": "stream",
          "text": [
            "WARNING: [vimeo] 638720843: Failed to parse XML: not well-formed (invalid token): line 1, column 0\n"
          ]
        },
        {
          "name": "stdout",
          "output_type": "stream",
          "text": [
            "[info] 638720843: Downloading 1 format(s): hls-fastly_skyfire-audio-high-Original\n",
            "[hlsnative] Downloading m3u8 manifest\n",
            "[hlsnative] Total fragments: 115\n",
            "[download] Destination: /content/drive/MyDrive/Audios_Vimeo/La cámara en Excel y cómo vincular con PowerPoint.mp4\n",
            "[download] 100% of   21.86MiB in 00:00:30 at 729.25KiB/s                 \n",
            "[FixupM3u8] Fixing MPEG-TS in MP4 container of \"/content/drive/MyDrive/Audios_Vimeo/La cámara en Excel y cómo vincular con PowerPoint.mp4\"\n",
            "[ExtractAudio] Destination: /content/drive/MyDrive/Audios_Vimeo/La cámara en Excel y cómo vincular con PowerPoint.mp3\n",
            "Deleting original file /content/drive/MyDrive/Audios_Vimeo/La cámara en Excel y cómo vincular con PowerPoint.mp4 (pass -k to keep)\n"
          ]
        },
        {
          "name": "stderr",
          "output_type": "stream",
          "text": [
            "\r 59%|█████▊    | 55/94 [37:28<26:06, 40.15s/it]"
          ]
        },
        {
          "name": "stdout",
          "output_type": "stream",
          "text": [
            "\n",
            "✅ Audio descargado y guardado en: /content/drive/MyDrive/Audios_Vimeo\n",
            "\n",
            "🔽 Descargando audio de: https://vimeo.com/638985027/d7735939dd\n",
            "[vimeo] Extracting URL: https://vimeo.com/638985027/d7735939dd\n",
            "[vimeo] 638985027: Downloading viewer info\n",
            "[vimeo] 638985027: Downloading API JSON\n",
            "[vimeo] 638985027: Downloading JSON metadata\n",
            "[vimeo] 638985027: Downloading akfire_interconnect_quic m3u8 information\n",
            "[vimeo] 638985027: Downloading fastly_skyfire m3u8 information\n",
            "[vimeo] 638985027: Downloading akfire_interconnect_quic MPD information\n"
          ]
        },
        {
          "name": "stderr",
          "output_type": "stream",
          "text": [
            "WARNING: [vimeo] 638985027: Failed to parse XML: not well-formed (invalid token): line 1, column 0\n"
          ]
        },
        {
          "name": "stdout",
          "output_type": "stream",
          "text": [
            "[vimeo] 638985027: Downloading fastly_skyfire MPD information\n"
          ]
        },
        {
          "name": "stderr",
          "output_type": "stream",
          "text": [
            "WARNING: [vimeo] 638985027: Failed to parse XML: not well-formed (invalid token): line 1, column 0\n"
          ]
        },
        {
          "name": "stdout",
          "output_type": "stream",
          "text": [
            "[info] 638985027: Downloading 1 format(s): hls-fastly_skyfire-audio-high-Original\n",
            "[hlsnative] Downloading m3u8 manifest\n",
            "[hlsnative] Total fragments: 113\n",
            "[download] Destination: /content/drive/MyDrive/Audios_Vimeo/Listas de validación autocompletada y Centrar vs Combinar.mp4\n",
            "[download] 100% of   16.11MiB in 00:00:25 at 638.38KiB/s                 \n",
            "[FixupM3u8] Fixing MPEG-TS in MP4 container of \"/content/drive/MyDrive/Audios_Vimeo/Listas de validación autocompletada y Centrar vs Combinar.mp4\"\n",
            "[ExtractAudio] Destination: /content/drive/MyDrive/Audios_Vimeo/Listas de validación autocompletada y Centrar vs Combinar.mp3\n",
            "Deleting original file /content/drive/MyDrive/Audios_Vimeo/Listas de validación autocompletada y Centrar vs Combinar.mp4 (pass -k to keep)\n"
          ]
        },
        {
          "name": "stderr",
          "output_type": "stream",
          "text": [
            "\r 60%|█████▉    | 56/94 [38:08<25:19, 40.00s/it]"
          ]
        },
        {
          "name": "stdout",
          "output_type": "stream",
          "text": [
            "\n",
            "✅ Audio descargado y guardado en: /content/drive/MyDrive/Audios_Vimeo\n",
            "\n",
            "🔽 Descargando audio de: https://vimeo.com/638985237/e25397966f\n",
            "[vimeo] Extracting URL: https://vimeo.com/638985237/e25397966f\n",
            "[vimeo] 638985237: Downloading viewer info\n",
            "[vimeo] 638985237: Downloading API JSON\n",
            "[vimeo] 638985237: Downloading JSON metadata\n",
            "[vimeo] 638985237: Downloading akfire_interconnect_quic m3u8 information\n",
            "[vimeo] 638985237: Downloading fastly_skyfire m3u8 information\n",
            "[vimeo] 638985237: Downloading akfire_interconnect_quic MPD information\n"
          ]
        },
        {
          "name": "stderr",
          "output_type": "stream",
          "text": [
            "WARNING: [vimeo] 638985237: Failed to parse XML: not well-formed (invalid token): line 1, column 0\n"
          ]
        },
        {
          "name": "stdout",
          "output_type": "stream",
          "text": [
            "[vimeo] 638985237: Downloading fastly_skyfire MPD information\n"
          ]
        },
        {
          "name": "stderr",
          "output_type": "stream",
          "text": [
            "WARNING: [vimeo] 638985237: Failed to parse XML: not well-formed (invalid token): line 1, column 0\n"
          ]
        },
        {
          "name": "stdout",
          "output_type": "stream",
          "text": [
            "[info] 638985237: Downloading 1 format(s): hls-fastly_skyfire-audio-high-Original\n",
            "[hlsnative] Downloading m3u8 manifest\n",
            "[hlsnative] Total fragments: 113\n",
            "[download] Destination: /content/drive/MyDrive/Audios_Vimeo/Ocultar hojas a nivel profesional e importar datos desde una web.mp4\n",
            "[download] 100% of   21.37MiB in 00:00:33 at 648.85KiB/s                 \n",
            "[FixupM3u8] Fixing MPEG-TS in MP4 container of \"/content/drive/MyDrive/Audios_Vimeo/Ocultar hojas a nivel profesional e importar datos desde una web.mp4\"\n",
            "[ExtractAudio] Destination: /content/drive/MyDrive/Audios_Vimeo/Ocultar hojas a nivel profesional e importar datos desde una web.mp3\n",
            "Deleting original file /content/drive/MyDrive/Audios_Vimeo/Ocultar hojas a nivel profesional e importar datos desde una web.mp4 (pass -k to keep)\n"
          ]
        },
        {
          "name": "stderr",
          "output_type": "stream",
          "text": [
            "\r 61%|██████    | 57/94 [38:55<26:02, 42.22s/it]"
          ]
        },
        {
          "name": "stdout",
          "output_type": "stream",
          "text": [
            "\n",
            "✅ Audio descargado y guardado en: /content/drive/MyDrive/Audios_Vimeo\n",
            "\n",
            "🔽 Descargando audio de: https://vimeo.com/644732196/d079f61473\n",
            "[vimeo] Extracting URL: https://vimeo.com/644732196/d079f61473\n",
            "[vimeo] 644732196: Downloading viewer info\n",
            "[vimeo] 644732196: Downloading API JSON\n",
            "[vimeo] 644732196: Downloading JSON metadata\n",
            "[vimeo] 644732196: Downloading akfire_interconnect_quic m3u8 information\n",
            "[vimeo] 644732196: Downloading fastly_skyfire m3u8 information\n",
            "[vimeo] 644732196: Downloading akfire_interconnect_quic MPD information\n"
          ]
        },
        {
          "name": "stderr",
          "output_type": "stream",
          "text": [
            "WARNING: [vimeo] 644732196: Failed to parse XML: not well-formed (invalid token): line 1, column 0\n"
          ]
        },
        {
          "name": "stdout",
          "output_type": "stream",
          "text": [
            "[vimeo] 644732196: Downloading fastly_skyfire MPD information\n"
          ]
        },
        {
          "name": "stderr",
          "output_type": "stream",
          "text": [
            "WARNING: [vimeo] 644732196: Failed to parse XML: not well-formed (invalid token): line 1, column 0\n"
          ]
        },
        {
          "name": "stdout",
          "output_type": "stream",
          "text": [
            "[info] 644732196: Downloading 1 format(s): hls-fastly_skyfire-audio-high-Original\n",
            "[hlsnative] Downloading m3u8 manifest\n",
            "[hlsnative] Total fragments: 36\n",
            "[download] Destination: /content/drive/MyDrive/Audios_Vimeo/Test - Trucos de Excel.mp4\n",
            "[download] 100% of    6.88MiB in 00:00:08 at 793.77KiB/s               \n",
            "[FixupM3u8] Fixing MPEG-TS in MP4 container of \"/content/drive/MyDrive/Audios_Vimeo/Test - Trucos de Excel.mp4\"\n",
            "[ExtractAudio] Destination: /content/drive/MyDrive/Audios_Vimeo/Test - Trucos de Excel.mp3\n",
            "Deleting original file /content/drive/MyDrive/Audios_Vimeo/Test - Trucos de Excel.mp4 (pass -k to keep)\n"
          ]
        },
        {
          "name": "stderr",
          "output_type": "stream",
          "text": [
            "\r 62%|██████▏   | 58/94 [39:12<20:42, 34.51s/it]"
          ]
        },
        {
          "name": "stdout",
          "output_type": "stream",
          "text": [
            "\n",
            "✅ Audio descargado y guardado en: /content/drive/MyDrive/Audios_Vimeo\n",
            "\n",
            "🔽 Descargando audio de: https://vimeo.com/642697575/33f8ab80d5\n",
            "[vimeo] Extracting URL: https://vimeo.com/642697575/33f8ab80d5\n",
            "[vimeo] 642697575: Downloading viewer info\n",
            "[vimeo] 642697575: Downloading API JSON\n",
            "[vimeo] 642697575: Downloading JSON metadata\n",
            "[vimeo] 642697575: Downloading akfire_interconnect_quic m3u8 information\n",
            "[vimeo] 642697575: Downloading fastly_skyfire m3u8 information\n",
            "[vimeo] 642697575: Downloading akfire_interconnect_quic MPD information\n"
          ]
        },
        {
          "name": "stderr",
          "output_type": "stream",
          "text": [
            "WARNING: [vimeo] 642697575: Failed to parse XML: not well-formed (invalid token): line 1, column 0\n"
          ]
        },
        {
          "name": "stdout",
          "output_type": "stream",
          "text": [
            "[vimeo] 642697575: Downloading fastly_skyfire MPD information\n"
          ]
        },
        {
          "name": "stderr",
          "output_type": "stream",
          "text": [
            "WARNING: [vimeo] 642697575: Failed to parse XML: not well-formed (invalid token): line 1, column 0\n"
          ]
        },
        {
          "name": "stdout",
          "output_type": "stream",
          "text": [
            "[info] 642697575: Downloading 1 format(s): hls-fastly_skyfire-audio-high-Original\n",
            "[hlsnative] Downloading m3u8 manifest\n",
            "[hlsnative] Total fragments: 86\n",
            "[download] Destination: /content/drive/MyDrive/Audios_Vimeo/Qué es Power Query y orígenes de datos.mp4\n",
            "[download] 100% of   16.28MiB in 00:00:22 at 734.03KiB/s               \n",
            "[FixupM3u8] Fixing MPEG-TS in MP4 container of \"/content/drive/MyDrive/Audios_Vimeo/Qué es Power Query y orígenes de datos.mp4\"\n",
            "[ExtractAudio] Destination: /content/drive/MyDrive/Audios_Vimeo/Qué es Power Query y orígenes de datos.mp3\n",
            "Deleting original file /content/drive/MyDrive/Audios_Vimeo/Qué es Power Query y orígenes de datos.mp4 (pass -k to keep)\n"
          ]
        },
        {
          "name": "stderr",
          "output_type": "stream",
          "text": [
            "\r 63%|██████▎   | 59/94 [39:46<20:02, 34.36s/it]"
          ]
        },
        {
          "name": "stdout",
          "output_type": "stream",
          "text": [
            "\n",
            "✅ Audio descargado y guardado en: /content/drive/MyDrive/Audios_Vimeo\n",
            "\n",
            "🔽 Descargando audio de: https://vimeo.com/642697742/bcb2104512\n",
            "[vimeo] Extracting URL: https://vimeo.com/642697742/bcb2104512\n",
            "[vimeo] 642697742: Downloading viewer info\n",
            "[vimeo] 642697742: Downloading API JSON\n",
            "[vimeo] 642697742: Downloading JSON metadata\n",
            "[vimeo] 642697742: Downloading akfire_interconnect_quic m3u8 information\n",
            "[vimeo] 642697742: Downloading fastly_skyfire m3u8 information\n",
            "[vimeo] 642697742: Downloading akfire_interconnect_quic MPD information\n"
          ]
        },
        {
          "name": "stderr",
          "output_type": "stream",
          "text": [
            "WARNING: [vimeo] 642697742: Failed to parse XML: not well-formed (invalid token): line 1, column 0\n"
          ]
        },
        {
          "name": "stdout",
          "output_type": "stream",
          "text": [
            "[vimeo] 642697742: Downloading fastly_skyfire MPD information\n"
          ]
        },
        {
          "name": "stderr",
          "output_type": "stream",
          "text": [
            "WARNING: [vimeo] 642697742: Failed to parse XML: not well-formed (invalid token): line 1, column 0\n"
          ]
        },
        {
          "name": "stdout",
          "output_type": "stream",
          "text": [
            "[info] 642697742: Downloading 1 format(s): hls-fastly_skyfire-audio-high-Original\n",
            "[hlsnative] Downloading m3u8 manifest\n",
            "[hlsnative] Total fragments: 121\n",
            "[download] Destination: /content/drive/MyDrive/Audios_Vimeo/Importar diferentes tipos de orígenes de datos.mp4\n",
            "[download] 100% of   22.95MiB in 00:00:32 at 724.19KiB/s                 \n",
            "[FixupM3u8] Fixing MPEG-TS in MP4 container of \"/content/drive/MyDrive/Audios_Vimeo/Importar diferentes tipos de orígenes de datos.mp4\"\n",
            "[ExtractAudio] Destination: /content/drive/MyDrive/Audios_Vimeo/Importar diferentes tipos de orígenes de datos.mp3\n",
            "Deleting original file /content/drive/MyDrive/Audios_Vimeo/Importar diferentes tipos de orígenes de datos.mp4 (pass -k to keep)\n"
          ]
        },
        {
          "name": "stderr",
          "output_type": "stream",
          "text": [
            "\r 64%|██████▍   | 60/94 [40:33<21:37, 38.17s/it]"
          ]
        },
        {
          "name": "stdout",
          "output_type": "stream",
          "text": [
            "\n",
            "✅ Audio descargado y guardado en: /content/drive/MyDrive/Audios_Vimeo\n",
            "\n",
            "🔽 Descargando audio de: https://vimeo.com/642698091/789b27e33a\n",
            "[vimeo] Extracting URL: https://vimeo.com/642698091/789b27e33a\n",
            "[vimeo] 642698091: Downloading viewer info\n",
            "[vimeo] 642698091: Downloading API JSON\n",
            "[vimeo] 642698091: Downloading JSON metadata\n",
            "[vimeo] 642698091: Downloading akfire_interconnect_quic m3u8 information\n",
            "[vimeo] 642698091: Downloading fastly_skyfire m3u8 information\n",
            "[vimeo] 642698091: Downloading akfire_interconnect_quic MPD information\n"
          ]
        },
        {
          "name": "stderr",
          "output_type": "stream",
          "text": [
            "WARNING: [vimeo] 642698091: Failed to parse XML: not well-formed (invalid token): line 1, column 0\n"
          ]
        },
        {
          "name": "stdout",
          "output_type": "stream",
          "text": [
            "[vimeo] 642698091: Downloading fastly_skyfire MPD information\n"
          ]
        },
        {
          "name": "stderr",
          "output_type": "stream",
          "text": [
            "WARNING: [vimeo] 642698091: Failed to parse XML: not well-formed (invalid token): line 1, column 0\n"
          ]
        },
        {
          "name": "stdout",
          "output_type": "stream",
          "text": [
            "[info] 642698091: Downloading 1 format(s): hls-fastly_skyfire-audio-high-Original\n",
            "[hlsnative] Downloading m3u8 manifest\n",
            "[hlsnative] Total fragments: 96\n",
            "[download] Destination: /content/drive/MyDrive/Audios_Vimeo/Transponer tablas y extraer datos.mp4\n",
            "[download] 100% of   18.14MiB in 00:00:24 at 758.84KiB/s               \n",
            "[FixupM3u8] Fixing MPEG-TS in MP4 container of \"/content/drive/MyDrive/Audios_Vimeo/Transponer tablas y extraer datos.mp4\"\n",
            "[ExtractAudio] Destination: /content/drive/MyDrive/Audios_Vimeo/Transponer tablas y extraer datos.mp3\n",
            "Deleting original file /content/drive/MyDrive/Audios_Vimeo/Transponer tablas y extraer datos.mp4 (pass -k to keep)\n"
          ]
        },
        {
          "name": "stderr",
          "output_type": "stream",
          "text": [
            "\r 65%|██████▍   | 61/94 [41:09<20:42, 37.64s/it]"
          ]
        },
        {
          "name": "stdout",
          "output_type": "stream",
          "text": [
            "\n",
            "✅ Audio descargado y guardado en: /content/drive/MyDrive/Audios_Vimeo\n",
            "\n",
            "🔽 Descargando audio de: https://vimeo.com/642698229/b6ade5297b\n",
            "[vimeo] Extracting URL: https://vimeo.com/642698229/b6ade5297b\n",
            "[vimeo] 642698229: Downloading viewer info\n",
            "[vimeo] 642698229: Downloading API JSON\n",
            "[vimeo] 642698229: Downloading JSON metadata\n",
            "[vimeo] 642698229: Downloading akfire_interconnect_quic m3u8 information\n",
            "[vimeo] 642698229: Downloading fastly_skyfire m3u8 information\n",
            "[vimeo] 642698229: Downloading akfire_interconnect_quic MPD information\n"
          ]
        },
        {
          "name": "stderr",
          "output_type": "stream",
          "text": [
            "WARNING: [vimeo] 642698229: Failed to parse XML: not well-formed (invalid token): line 1, column 0\n"
          ]
        },
        {
          "name": "stdout",
          "output_type": "stream",
          "text": [
            "[vimeo] 642698229: Downloading fastly_skyfire MPD information\n"
          ]
        },
        {
          "name": "stderr",
          "output_type": "stream",
          "text": [
            "WARNING: [vimeo] 642698229: Failed to parse XML: not well-formed (invalid token): line 1, column 0\n"
          ]
        },
        {
          "name": "stdout",
          "output_type": "stream",
          "text": [
            "[info] 642698229: Downloading 1 format(s): hls-fastly_skyfire-audio-high-Original\n",
            "[hlsnative] Downloading m3u8 manifest\n",
            "[hlsnative] Total fragments: 117\n",
            "[download] Destination: /content/drive/MyDrive/Audios_Vimeo/Transformación y tablas dinámicas con Power Query.mp4\n",
            "[download] 100% of   22.26MiB in 00:00:30 at 738.26KiB/s                 \n",
            "[FixupM3u8] Fixing MPEG-TS in MP4 container of \"/content/drive/MyDrive/Audios_Vimeo/Transformación y tablas dinámicas con Power Query.mp4\"\n",
            "[ExtractAudio] Destination: /content/drive/MyDrive/Audios_Vimeo/Transformación y tablas dinámicas con Power Query.mp3\n",
            "Deleting original file /content/drive/MyDrive/Audios_Vimeo/Transformación y tablas dinámicas con Power Query.mp4 (pass -k to keep)\n"
          ]
        },
        {
          "name": "stderr",
          "output_type": "stream",
          "text": [
            "\r 66%|██████▌   | 62/94 [41:53<21:01, 39.41s/it]"
          ]
        },
        {
          "name": "stdout",
          "output_type": "stream",
          "text": [
            "\n",
            "✅ Audio descargado y guardado en: /content/drive/MyDrive/Audios_Vimeo\n",
            "\n",
            "🔽 Descargando audio de: https://vimeo.com/644732723/cf1c1d9d90\n",
            "[vimeo] Extracting URL: https://vimeo.com/644732723/cf1c1d9d90\n",
            "[vimeo] 644732723: Downloading viewer info\n",
            "[vimeo] 644732723: Downloading API JSON\n",
            "[vimeo] 644732723: Downloading JSON metadata\n",
            "[vimeo] 644732723: Downloading akfire_interconnect_quic m3u8 information\n",
            "[vimeo] 644732723: Downloading fastly_skyfire m3u8 information\n",
            "[vimeo] 644732723: Downloading akfire_interconnect_quic MPD information\n"
          ]
        },
        {
          "name": "stderr",
          "output_type": "stream",
          "text": [
            "WARNING: [vimeo] 644732723: Failed to parse XML: not well-formed (invalid token): line 1, column 0\n"
          ]
        },
        {
          "name": "stdout",
          "output_type": "stream",
          "text": [
            "[vimeo] 644732723: Downloading fastly_skyfire MPD information\n"
          ]
        },
        {
          "name": "stderr",
          "output_type": "stream",
          "text": [
            "WARNING: [vimeo] 644732723: Failed to parse XML: not well-formed (invalid token): line 1, column 0\n"
          ]
        },
        {
          "name": "stdout",
          "output_type": "stream",
          "text": [
            "[info] 644732723: Downloading 1 format(s): hls-fastly_skyfire-audio-high-Original\n",
            "[hlsnative] Downloading m3u8 manifest\n",
            "[hlsnative] Total fragments: 34\n",
            "[download] Destination: /content/drive/MyDrive/Audios_Vimeo/Test - Power Query.mp4\n",
            "[download] 100% of    6.48MiB in 00:00:09 at 732.88KiB/s               \n",
            "[FixupM3u8] Fixing MPEG-TS in MP4 container of \"/content/drive/MyDrive/Audios_Vimeo/Test - Power Query.mp4\"\n",
            "[ExtractAudio] Destination: /content/drive/MyDrive/Audios_Vimeo/Test - Power Query.mp3\n",
            "Deleting original file /content/drive/MyDrive/Audios_Vimeo/Test - Power Query.mp4 (pass -k to keep)\n"
          ]
        },
        {
          "name": "stderr",
          "output_type": "stream",
          "text": [
            "\r 67%|██████▋   | 63/94 [42:08<16:38, 32.22s/it]"
          ]
        },
        {
          "name": "stdout",
          "output_type": "stream",
          "text": [
            "\n",
            "✅ Audio descargado y guardado en: /content/drive/MyDrive/Audios_Vimeo\n",
            "\n",
            "🔽 Descargando audio de: https://vimeo.com/637870315/c25fc0c525\n",
            "[vimeo] Extracting URL: https://vimeo.com/637870315/c25fc0c525\n",
            "[vimeo] 637870315: Downloading viewer info\n",
            "[vimeo] 637870315: Downloading API JSON\n",
            "[vimeo] 637870315: Downloading JSON metadata\n",
            "[vimeo] 637870315: Downloading akfire_interconnect_quic m3u8 information\n",
            "[vimeo] 637870315: Downloading fastly_skyfire m3u8 information\n",
            "[vimeo] 637870315: Downloading akfire_interconnect_quic MPD information\n"
          ]
        },
        {
          "name": "stderr",
          "output_type": "stream",
          "text": [
            "WARNING: [vimeo] 637870315: Failed to parse XML: not well-formed (invalid token): line 1, column 0\n"
          ]
        },
        {
          "name": "stdout",
          "output_type": "stream",
          "text": [
            "[vimeo] 637870315: Downloading fastly_skyfire MPD information\n"
          ]
        },
        {
          "name": "stderr",
          "output_type": "stream",
          "text": [
            "WARNING: [vimeo] 637870315: Failed to parse XML: not well-formed (invalid token): line 1, column 0\n"
          ]
        },
        {
          "name": "stdout",
          "output_type": "stream",
          "text": [
            "[info] 637870315: Downloading 1 format(s): hls-fastly_skyfire-audio-high-Original\n",
            "[hlsnative] Downloading m3u8 manifest\n",
            "[hlsnative] Total fragments: 73\n",
            "[download] Destination: /content/drive/MyDrive/Audios_Vimeo/Configuración y primeros pasos en Power Pivot.mp4\n",
            "[download]  45.2% of ~  14.27MiB at  701.66KiB/s ETA 00:13 (frag 34/73)"
          ]
        },
        {
          "name": "stderr",
          "output_type": "stream",
          "text": [
            "ERROR: \r[download] Got error: HTTP Error 503: Backend unavailable, connection timeout\n"
          ]
        },
        {
          "name": "stdout",
          "output_type": "stream",
          "text": [
            "[download] fragment not found; Skipping fragment 35 ...\n",
            "[download] 100% of   13.69MiB in 00:00:20 at 690.00KiB/s               \n",
            "[FixupM3u8] Fixing MPEG-TS in MP4 container of \"/content/drive/MyDrive/Audios_Vimeo/Configuración y primeros pasos en Power Pivot.mp4\"\n",
            "[ExtractAudio] Destination: /content/drive/MyDrive/Audios_Vimeo/Configuración y primeros pasos en Power Pivot.mp3\n",
            "Deleting original file /content/drive/MyDrive/Audios_Vimeo/Configuración y primeros pasos en Power Pivot.mp4 (pass -k to keep)\n"
          ]
        },
        {
          "name": "stderr",
          "output_type": "stream",
          "text": [
            "\r 68%|██████▊   | 64/94 [42:38<15:45, 31.53s/it]"
          ]
        },
        {
          "name": "stdout",
          "output_type": "stream",
          "text": [
            "\n",
            "✅ Audio descargado y guardado en: /content/drive/MyDrive/Audios_Vimeo\n",
            "\n",
            "🔽 Descargando audio de: https://vimeo.com/637874057/670e19b449\n",
            "[vimeo] Extracting URL: https://vimeo.com/637874057/670e19b449\n",
            "[vimeo] 637874057: Downloading viewer info\n",
            "[vimeo] 637874057: Downloading API JSON\n",
            "[vimeo] 637874057: Downloading JSON metadata\n",
            "[vimeo] 637874057: Downloading akfire_interconnect_quic m3u8 information\n",
            "[vimeo] 637874057: Downloading fastly_skyfire m3u8 information\n",
            "[vimeo] 637874057: Downloading akfire_interconnect_quic MPD information\n"
          ]
        },
        {
          "name": "stderr",
          "output_type": "stream",
          "text": [
            "WARNING: [vimeo] 637874057: Failed to parse XML: not well-formed (invalid token): line 1, column 0\n"
          ]
        },
        {
          "name": "stdout",
          "output_type": "stream",
          "text": [
            "[vimeo] 637874057: Downloading fastly_skyfire MPD information\n"
          ]
        },
        {
          "name": "stderr",
          "output_type": "stream",
          "text": [
            "WARNING: [vimeo] 637874057: Failed to parse XML: not well-formed (invalid token): line 1, column 0\n"
          ]
        },
        {
          "name": "stdout",
          "output_type": "stream",
          "text": [
            "[info] 637874057: Downloading 1 format(s): hls-fastly_skyfire-audio-high-Original\n",
            "[hlsnative] Downloading m3u8 manifest\n",
            "[hlsnative] Total fragments: 105\n",
            "[download] Destination: /content/drive/MyDrive/Audios_Vimeo/Propiedades de tablas y primeras columnas.mp4\n",
            "[download] 100% of   19.94MiB in 00:00:28 at 710.73KiB/s                 \n",
            "[FixupM3u8] Fixing MPEG-TS in MP4 container of \"/content/drive/MyDrive/Audios_Vimeo/Propiedades de tablas y primeras columnas.mp4\"\n",
            "[ExtractAudio] Destination: /content/drive/MyDrive/Audios_Vimeo/Propiedades de tablas y primeras columnas.mp3\n",
            "Deleting original file /content/drive/MyDrive/Audios_Vimeo/Propiedades de tablas y primeras columnas.mp4 (pass -k to keep)\n"
          ]
        },
        {
          "name": "stderr",
          "output_type": "stream",
          "text": [
            "\r 69%|██████▉   | 65/94 [43:20<16:45, 34.67s/it]"
          ]
        },
        {
          "name": "stdout",
          "output_type": "stream",
          "text": [
            "\n",
            "✅ Audio descargado y guardado en: /content/drive/MyDrive/Audios_Vimeo\n",
            "\n",
            "🔽 Descargando audio de: https://vimeo.com/637870550/fe9f3a7c2c\n",
            "[vimeo] Extracting URL: https://vimeo.com/637870550/fe9f3a7c2c\n",
            "[vimeo] 637870550: Downloading viewer info\n",
            "[vimeo] 637870550: Downloading API JSON\n",
            "[vimeo] 637870550: Downloading JSON metadata\n",
            "[vimeo] 637870550: Downloading akfire_interconnect_quic m3u8 information\n",
            "[vimeo] 637870550: Downloading fastly_skyfire m3u8 information\n",
            "[vimeo] 637870550: Downloading akfire_interconnect_quic MPD information\n"
          ]
        },
        {
          "name": "stderr",
          "output_type": "stream",
          "text": [
            "WARNING: [vimeo] 637870550: Failed to parse XML: not well-formed (invalid token): line 1, column 0\n"
          ]
        },
        {
          "name": "stdout",
          "output_type": "stream",
          "text": [
            "[vimeo] 637870550: Downloading fastly_skyfire MPD information\n"
          ]
        },
        {
          "name": "stderr",
          "output_type": "stream",
          "text": [
            "WARNING: [vimeo] 637870550: Failed to parse XML: not well-formed (invalid token): line 1, column 0\n"
          ]
        },
        {
          "name": "stdout",
          "output_type": "stream",
          "text": [
            "[info] 637870550: Downloading 1 format(s): hls-fastly_skyfire-audio-high-Original\n",
            "[hlsnative] Downloading m3u8 manifest\n",
            "[hlsnative] Total fragments: 119\n",
            "[download] Destination: /content/drive/MyDrive/Audios_Vimeo/Crear medidas y tablas dinámicas desde modelo.mp4\n",
            "[download] 100% of   22.58MiB in 00:00:32 at 703.05KiB/s                 \n",
            "[FixupM3u8] Fixing MPEG-TS in MP4 container of \"/content/drive/MyDrive/Audios_Vimeo/Crear medidas y tablas dinámicas desde modelo.mp4\"\n",
            "[ExtractAudio] Destination: /content/drive/MyDrive/Audios_Vimeo/Crear medidas y tablas dinámicas desde modelo.mp3\n",
            "Deleting original file /content/drive/MyDrive/Audios_Vimeo/Crear medidas y tablas dinámicas desde modelo.mp4 (pass -k to keep)\n"
          ]
        },
        {
          "name": "stderr",
          "output_type": "stream",
          "text": [
            "\r 70%|███████   | 66/94 [44:08<18:00, 38.58s/it]"
          ]
        },
        {
          "name": "stdout",
          "output_type": "stream",
          "text": [
            "\n",
            "✅ Audio descargado y guardado en: /content/drive/MyDrive/Audios_Vimeo\n",
            "\n",
            "🔽 Descargando audio de: https://vimeo.com/637874337/588824a832\n",
            "[vimeo] Extracting URL: https://vimeo.com/637874337/588824a832\n",
            "[vimeo] 637874337: Downloading viewer info\n",
            "[vimeo] 637874337: Downloading API JSON\n",
            "[vimeo] 637874337: Downloading JSON metadata\n",
            "[vimeo] 637874337: Downloading akfire_interconnect_quic m3u8 information\n",
            "[vimeo] 637874337: Downloading fastly_skyfire m3u8 information\n",
            "[vimeo] 637874337: Downloading akfire_interconnect_quic MPD information\n"
          ]
        },
        {
          "name": "stderr",
          "output_type": "stream",
          "text": [
            "WARNING: [vimeo] 637874337: Failed to parse XML: not well-formed (invalid token): line 1, column 0\n"
          ]
        },
        {
          "name": "stdout",
          "output_type": "stream",
          "text": [
            "[vimeo] 637874337: Downloading fastly_skyfire MPD information\n"
          ]
        },
        {
          "name": "stderr",
          "output_type": "stream",
          "text": [
            "WARNING: [vimeo] 637874337: Failed to parse XML: not well-formed (invalid token): line 1, column 0\n"
          ]
        },
        {
          "name": "stdout",
          "output_type": "stream",
          "text": [
            "[info] 637874337: Downloading 1 format(s): hls-fastly_skyfire-audio-high-Original\n",
            "[hlsnative] Downloading m3u8 manifest\n",
            "[hlsnative] Total fragments: 97\n",
            "[download] Destination: /content/drive/MyDrive/Audios_Vimeo/Relacionar y gestionar varias tablas.mp4\n",
            "[download] 100% of   18.45MiB in 00:00:26 at 700.45KiB/s               \n",
            "[FixupM3u8] Fixing MPEG-TS in MP4 container of \"/content/drive/MyDrive/Audios_Vimeo/Relacionar y gestionar varias tablas.mp4\"\n",
            "[ExtractAudio] Destination: /content/drive/MyDrive/Audios_Vimeo/Relacionar y gestionar varias tablas.mp3\n",
            "Deleting original file /content/drive/MyDrive/Audios_Vimeo/Relacionar y gestionar varias tablas.mp4 (pass -k to keep)\n"
          ]
        },
        {
          "name": "stderr",
          "output_type": "stream",
          "text": [
            "\r 71%|███████▏  | 67/94 [44:46<17:21, 38.56s/it]"
          ]
        },
        {
          "name": "stdout",
          "output_type": "stream",
          "text": [
            "\n",
            "✅ Audio descargado y guardado en: /content/drive/MyDrive/Audios_Vimeo\n",
            "\n",
            "🔽 Descargando audio de: https://vimeo.com/637874646/f564a854aa\n",
            "[vimeo] Extracting URL: https://vimeo.com/637874646/f564a854aa\n",
            "[vimeo] 637874646: Downloading viewer info\n",
            "[vimeo] 637874646: Downloading API JSON\n",
            "[vimeo] 637874646: Downloading JSON metadata\n",
            "[vimeo] 637874646: Downloading akfire_interconnect_quic m3u8 information\n",
            "[vimeo] 637874646: Downloading fastly_skyfire m3u8 information\n",
            "[vimeo] 637874646: Downloading akfire_interconnect_quic MPD information\n"
          ]
        },
        {
          "name": "stderr",
          "output_type": "stream",
          "text": [
            "WARNING: [vimeo] 637874646: Failed to parse XML: not well-formed (invalid token): line 1, column 0\n"
          ]
        },
        {
          "name": "stdout",
          "output_type": "stream",
          "text": [
            "[vimeo] 637874646: Downloading fastly_skyfire MPD information\n"
          ]
        },
        {
          "name": "stderr",
          "output_type": "stream",
          "text": [
            "WARNING: [vimeo] 637874646: Failed to parse XML: not well-formed (invalid token): line 1, column 0\n"
          ]
        },
        {
          "name": "stdout",
          "output_type": "stream",
          "text": [
            "[info] 637874646: Downloading 1 format(s): hls-fastly_skyfire-audio-high-Original\n",
            "[hlsnative] Downloading m3u8 manifest\n",
            "[hlsnative] Total fragments: 128\n",
            "[download] Destination: /content/drive/MyDrive/Audios_Vimeo/Funciones DAX.mp4\n",
            "[download] 100% of   24.31MiB in 00:00:34 at 724.86KiB/s                 \n",
            "[FixupM3u8] Fixing MPEG-TS in MP4 container of \"/content/drive/MyDrive/Audios_Vimeo/Funciones DAX.mp4\"\n",
            "[ExtractAudio] Destination: /content/drive/MyDrive/Audios_Vimeo/Funciones DAX.mp3\n",
            "Deleting original file /content/drive/MyDrive/Audios_Vimeo/Funciones DAX.mp4 (pass -k to keep)\n"
          ]
        },
        {
          "name": "stderr",
          "output_type": "stream",
          "text": [
            "\r 72%|███████▏  | 68/94 [45:36<18:11, 41.97s/it]"
          ]
        },
        {
          "name": "stdout",
          "output_type": "stream",
          "text": [
            "\n",
            "✅ Audio descargado y guardado en: /content/drive/MyDrive/Audios_Vimeo\n",
            "\n",
            "🔽 Descargando audio de: https://vimeo.com/644732734/83c40d9deb\n",
            "[vimeo] Extracting URL: https://vimeo.com/644732734/83c40d9deb\n",
            "[vimeo] 644732734: Downloading viewer info\n",
            "[vimeo] 644732734: Downloading API JSON\n",
            "[vimeo] 644732734: Downloading JSON metadata\n",
            "[vimeo] 644732734: Downloading akfire_interconnect_quic m3u8 information\n",
            "[vimeo] 644732734: Downloading fastly_skyfire m3u8 information\n",
            "[vimeo] 644732734: Downloading akfire_interconnect_quic MPD information\n"
          ]
        },
        {
          "name": "stderr",
          "output_type": "stream",
          "text": [
            "WARNING: [vimeo] 644732734: Failed to parse XML: not well-formed (invalid token): line 1, column 0\n"
          ]
        },
        {
          "name": "stdout",
          "output_type": "stream",
          "text": [
            "[vimeo] 644732734: Downloading fastly_skyfire MPD information\n"
          ]
        },
        {
          "name": "stderr",
          "output_type": "stream",
          "text": [
            "WARNING: [vimeo] 644732734: Failed to parse XML: not well-formed (invalid token): line 1, column 0\n"
          ]
        },
        {
          "name": "stdout",
          "output_type": "stream",
          "text": [
            "[info] 644732734: Downloading 1 format(s): hls-fastly_skyfire-audio-high-Original\n",
            "[hlsnative] Downloading m3u8 manifest\n",
            "[hlsnative] Total fragments: 27\n",
            "[download] Destination: /content/drive/MyDrive/Audios_Vimeo/Test - Power Pivot.mp4\n",
            "[download] 100% of    5.10MiB in 00:00:06 at 774.09KiB/s               \n",
            "[FixupM3u8] Fixing MPEG-TS in MP4 container of \"/content/drive/MyDrive/Audios_Vimeo/Test - Power Pivot.mp4\"\n",
            "[ExtractAudio] Destination: /content/drive/MyDrive/Audios_Vimeo/Test - Power Pivot.mp3\n",
            "Deleting original file /content/drive/MyDrive/Audios_Vimeo/Test - Power Pivot.mp4 (pass -k to keep)\n"
          ]
        },
        {
          "name": "stderr",
          "output_type": "stream",
          "text": [
            "\r 73%|███████▎  | 69/94 [45:50<13:55, 33.41s/it]"
          ]
        },
        {
          "name": "stdout",
          "output_type": "stream",
          "text": [
            "\n",
            "✅ Audio descargado y guardado en: /content/drive/MyDrive/Audios_Vimeo\n",
            "\n",
            "🔽 Descargando audio de: https://vimeo.com/638719454/d26eb234b4\n",
            "[vimeo] Extracting URL: https://vimeo.com/638719454/d26eb234b4\n",
            "[vimeo] 638719454: Downloading viewer info\n",
            "[vimeo] 638719454: Downloading API JSON\n",
            "[vimeo] 638719454: Downloading JSON metadata\n",
            "[vimeo] 638719454: Downloading akfire_interconnect_quic m3u8 information\n",
            "[vimeo] 638719454: Downloading fastly_skyfire m3u8 information\n",
            "[vimeo] 638719454: Downloading akfire_interconnect_quic MPD information\n"
          ]
        },
        {
          "name": "stderr",
          "output_type": "stream",
          "text": [
            "WARNING: [vimeo] 638719454: Failed to parse XML: not well-formed (invalid token): line 1, column 0\n"
          ]
        },
        {
          "name": "stdout",
          "output_type": "stream",
          "text": [
            "[vimeo] 638719454: Downloading fastly_skyfire MPD information\n"
          ]
        },
        {
          "name": "stderr",
          "output_type": "stream",
          "text": [
            "WARNING: [vimeo] 638719454: Failed to parse XML: not well-formed (invalid token): line 1, column 0\n"
          ]
        },
        {
          "name": "stdout",
          "output_type": "stream",
          "text": [
            "[info] 638719454: Downloading 1 format(s): hls-fastly_skyfire-audio-high-Original\n",
            "[hlsnative] Downloading m3u8 manifest\n",
            "[hlsnative] Total fragments: 191\n",
            "[download] Destination: /content/drive/MyDrive/Audios_Vimeo/Introducción a los complementos de Excel.mp4\n",
            "[download] 100% of   36.22MiB in 00:00:55 at 671.27KiB/s                 \n",
            "[FixupM3u8] Fixing MPEG-TS in MP4 container of \"/content/drive/MyDrive/Audios_Vimeo/Introducción a los complementos de Excel.mp4\"\n",
            "[ExtractAudio] Destination: /content/drive/MyDrive/Audios_Vimeo/Introducción a los complementos de Excel.mp3\n",
            "Deleting original file /content/drive/MyDrive/Audios_Vimeo/Introducción a los complementos de Excel.mp4 (pass -k to keep)\n"
          ]
        },
        {
          "name": "stderr",
          "output_type": "stream",
          "text": [
            "\r 74%|███████▍  | 70/94 [47:05<18:22, 45.94s/it]"
          ]
        },
        {
          "name": "stdout",
          "output_type": "stream",
          "text": [
            "\n",
            "✅ Audio descargado y guardado en: /content/drive/MyDrive/Audios_Vimeo\n",
            "\n",
            "🔽 Descargando audio de: https://vimeo.com/638719736/b569d649d8\n",
            "[vimeo] Extracting URL: https://vimeo.com/638719736/b569d649d8\n",
            "[vimeo] 638719736: Downloading viewer info\n",
            "[vimeo] 638719736: Downloading API JSON\n",
            "[vimeo] 638719736: Downloading JSON metadata\n",
            "[vimeo] 638719736: Downloading akfire_interconnect_quic m3u8 information\n",
            "[vimeo] 638719736: Downloading fastly_skyfire m3u8 information\n",
            "[vimeo] 638719736: Downloading akfire_interconnect_quic MPD information\n"
          ]
        },
        {
          "name": "stderr",
          "output_type": "stream",
          "text": [
            "WARNING: [vimeo] 638719736: Failed to parse XML: not well-formed (invalid token): line 1, column 0\n"
          ]
        },
        {
          "name": "stdout",
          "output_type": "stream",
          "text": [
            "[vimeo] 638719736: Downloading fastly_skyfire MPD information\n"
          ]
        },
        {
          "name": "stderr",
          "output_type": "stream",
          "text": [
            "WARNING: [vimeo] 638719736: Failed to parse XML: not well-formed (invalid token): line 1, column 0\n"
          ]
        },
        {
          "name": "stdout",
          "output_type": "stream",
          "text": [
            "[info] 638719736: Downloading 1 format(s): hls-fastly_skyfire-audio-high-Original\n",
            "[hlsnative] Downloading m3u8 manifest\n",
            "[hlsnative] Total fragments: 185\n",
            "[download] Destination: /content/drive/MyDrive/Audios_Vimeo/Complemento Power Map.mp4\n",
            "[download] 100% of   35.08MiB in 00:00:49 at 727.29KiB/s                 \n",
            "[FixupM3u8] Fixing MPEG-TS in MP4 container of \"/content/drive/MyDrive/Audios_Vimeo/Complemento Power Map.mp4\"\n",
            "[ExtractAudio] Destination: /content/drive/MyDrive/Audios_Vimeo/Complemento Power Map.mp3\n",
            "Deleting original file /content/drive/MyDrive/Audios_Vimeo/Complemento Power Map.mp4 (pass -k to keep)\n"
          ]
        },
        {
          "name": "stderr",
          "output_type": "stream",
          "text": [
            "\r 76%|███████▌  | 71/94 [48:14<20:14, 52.82s/it]"
          ]
        },
        {
          "name": "stdout",
          "output_type": "stream",
          "text": [
            "\n",
            "✅ Audio descargado y guardado en: /content/drive/MyDrive/Audios_Vimeo\n",
            "\n",
            "🔽 Descargando audio de: https://vimeo.com/638720055/f64e0f0c8e\n",
            "[vimeo] Extracting URL: https://vimeo.com/638720055/f64e0f0c8e\n",
            "[vimeo] 638720055: Downloading viewer info\n",
            "[vimeo] 638720055: Downloading API JSON\n",
            "[vimeo] 638720055: Downloading JSON metadata\n",
            "[vimeo] 638720055: Downloading akfire_interconnect_quic m3u8 information\n",
            "[vimeo] 638720055: Downloading fastly_skyfire m3u8 information\n",
            "[vimeo] 638720055: Downloading akfire_interconnect_quic MPD information\n"
          ]
        },
        {
          "name": "stderr",
          "output_type": "stream",
          "text": [
            "WARNING: [vimeo] 638720055: Failed to parse XML: not well-formed (invalid token): line 1, column 0\n"
          ]
        },
        {
          "name": "stdout",
          "output_type": "stream",
          "text": [
            "[vimeo] 638720055: Downloading fastly_skyfire MPD information\n"
          ]
        },
        {
          "name": "stderr",
          "output_type": "stream",
          "text": [
            "WARNING: [vimeo] 638720055: Failed to parse XML: not well-formed (invalid token): line 1, column 0\n"
          ]
        },
        {
          "name": "stdout",
          "output_type": "stream",
          "text": [
            "[info] 638720055: Downloading 1 format(s): hls-fastly_skyfire-audio-high-Original\n",
            "[hlsnative] Downloading m3u8 manifest\n",
            "[hlsnative] Total fragments: 87\n",
            "[download] Destination: /content/drive/MyDrive/Audios_Vimeo/Complemento Smartchart y Netcalendar.mp4\n",
            "[download] 100% of   16.57MiB in 00:00:24 at 705.11KiB/s               \n",
            "[FixupM3u8] Fixing MPEG-TS in MP4 container of \"/content/drive/MyDrive/Audios_Vimeo/Complemento Smartchart y Netcalendar.mp4\"\n",
            "[ExtractAudio] Destination: /content/drive/MyDrive/Audios_Vimeo/Complemento Smartchart y Netcalendar.mp3\n",
            "Deleting original file /content/drive/MyDrive/Audios_Vimeo/Complemento Smartchart y Netcalendar.mp4 (pass -k to keep)\n"
          ]
        },
        {
          "name": "stderr",
          "output_type": "stream",
          "text": [
            "\r 77%|███████▋  | 72/94 [48:50<17:30, 47.77s/it]"
          ]
        },
        {
          "name": "stdout",
          "output_type": "stream",
          "text": [
            "\n",
            "✅ Audio descargado y guardado en: /content/drive/MyDrive/Audios_Vimeo\n",
            "\n",
            "🔽 Descargando audio de: https://vimeo.com/638720260/d2cf44c210\n",
            "[vimeo] Extracting URL: https://vimeo.com/638720260/d2cf44c210\n",
            "[vimeo] 638720260: Downloading viewer info\n",
            "[vimeo] 638720260: Downloading API JSON\n",
            "[vimeo] 638720260: Downloading JSON metadata\n",
            "[vimeo] 638720260: Downloading akfire_interconnect_quic m3u8 information\n",
            "[vimeo] 638720260: Downloading fastly_skyfire m3u8 information\n",
            "[vimeo] 638720260: Downloading akfire_interconnect_quic MPD information\n"
          ]
        },
        {
          "name": "stderr",
          "output_type": "stream",
          "text": [
            "WARNING: [vimeo] 638720260: Failed to parse XML: not well-formed (invalid token): line 1, column 0\n"
          ]
        },
        {
          "name": "stdout",
          "output_type": "stream",
          "text": [
            "[vimeo] 638720260: Downloading fastly_skyfire MPD information\n"
          ]
        },
        {
          "name": "stderr",
          "output_type": "stream",
          "text": [
            "WARNING: [vimeo] 638720260: Failed to parse XML: not well-formed (invalid token): line 1, column 0\n"
          ]
        },
        {
          "name": "stdout",
          "output_type": "stream",
          "text": [
            "[info] 638720260: Downloading 1 format(s): hls-fastly_skyfire-audio-high-Original\n",
            "[hlsnative] Downloading m3u8 manifest\n",
            "[hlsnative] Total fragments: 168\n",
            "[download] Destination: /content/drive/MyDrive/Audios_Vimeo/Complemento Solver.mp4\n",
            "[download] 100% of   31.82MiB in 00:00:44 at 725.67KiB/s                 \n",
            "[FixupM3u8] Fixing MPEG-TS in MP4 container of \"/content/drive/MyDrive/Audios_Vimeo/Complemento Solver.mp4\"\n",
            "[ExtractAudio] Destination: /content/drive/MyDrive/Audios_Vimeo/Complemento Solver.mp3\n",
            "Deleting original file /content/drive/MyDrive/Audios_Vimeo/Complemento Solver.mp4 (pass -k to keep)\n"
          ]
        },
        {
          "name": "stderr",
          "output_type": "stream",
          "text": [
            "\r 78%|███████▊  | 73/94 [49:53<18:22, 52.48s/it]"
          ]
        },
        {
          "name": "stdout",
          "output_type": "stream",
          "text": [
            "\n",
            "✅ Audio descargado y guardado en: /content/drive/MyDrive/Audios_Vimeo\n",
            "\n",
            "🔽 Descargando audio de: https://vimeo.com/644732375/f0b3344786\n",
            "[vimeo] Extracting URL: https://vimeo.com/644732375/f0b3344786\n",
            "[vimeo] 644732375: Downloading viewer info\n",
            "[vimeo] 644732375: Downloading API JSON\n",
            "[vimeo] 644732375: Downloading JSON metadata\n",
            "[vimeo] 644732375: Downloading akfire_interconnect_quic m3u8 information\n",
            "[vimeo] 644732375: Downloading fastly_skyfire m3u8 information\n",
            "[vimeo] 644732375: Downloading akfire_interconnect_quic MPD information\n"
          ]
        },
        {
          "name": "stderr",
          "output_type": "stream",
          "text": [
            "WARNING: [vimeo] 644732375: Failed to parse XML: not well-formed (invalid token): line 1, column 0\n"
          ]
        },
        {
          "name": "stdout",
          "output_type": "stream",
          "text": [
            "[vimeo] 644732375: Downloading fastly_skyfire MPD information\n"
          ]
        },
        {
          "name": "stderr",
          "output_type": "stream",
          "text": [
            "WARNING: [vimeo] 644732375: Failed to parse XML: not well-formed (invalid token): line 1, column 0\n"
          ]
        },
        {
          "name": "stdout",
          "output_type": "stream",
          "text": [
            "[info] 644732375: Downloading 1 format(s): hls-fastly_skyfire-audio-high-Original\n",
            "[hlsnative] Downloading m3u8 manifest\n",
            "[hlsnative] Total fragments: 29\n",
            "[download] Destination: /content/drive/MyDrive/Audios_Vimeo/Test - Mejores Complementos.mp4\n",
            "[download] 100% of    5.43MiB in 00:00:07 at 759.82KiB/s               \n",
            "[FixupM3u8] Fixing MPEG-TS in MP4 container of \"/content/drive/MyDrive/Audios_Vimeo/Test - Mejores Complementos.mp4\"\n",
            "[ExtractAudio] Destination: /content/drive/MyDrive/Audios_Vimeo/Test - Mejores Complementos.mp3\n",
            "Deleting original file /content/drive/MyDrive/Audios_Vimeo/Test - Mejores Complementos.mp4 (pass -k to keep)\n"
          ]
        },
        {
          "name": "stderr",
          "output_type": "stream",
          "text": [
            "\r 79%|███████▊  | 74/94 [50:08<13:41, 41.07s/it]"
          ]
        },
        {
          "name": "stdout",
          "output_type": "stream",
          "text": [
            "\n",
            "✅ Audio descargado y guardado en: /content/drive/MyDrive/Audios_Vimeo\n",
            "\n",
            "🔽 Descargando audio de: https://vimeo.com/642776408/3a1a2a8a2c\n",
            "[vimeo] Extracting URL: https://vimeo.com/642776408/3a1a2a8a2c\n",
            "[vimeo] 642776408: Downloading viewer info\n",
            "[vimeo] 642776408: Downloading API JSON\n",
            "[vimeo] 642776408: Downloading JSON metadata\n",
            "[vimeo] 642776408: Downloading akfire_interconnect_quic m3u8 information\n",
            "[vimeo] 642776408: Downloading fastly_skyfire m3u8 information\n",
            "[vimeo] 642776408: Downloading akfire_interconnect_quic MPD information\n"
          ]
        },
        {
          "name": "stderr",
          "output_type": "stream",
          "text": [
            "WARNING: [vimeo] 642776408: Failed to parse XML: not well-formed (invalid token): line 1, column 0\n"
          ]
        },
        {
          "name": "stdout",
          "output_type": "stream",
          "text": [
            "[vimeo] 642776408: Downloading fastly_skyfire MPD information\n"
          ]
        },
        {
          "name": "stderr",
          "output_type": "stream",
          "text": [
            "WARNING: [vimeo] 642776408: Failed to parse XML: not well-formed (invalid token): line 1, column 0\n"
          ]
        },
        {
          "name": "stdout",
          "output_type": "stream",
          "text": [
            "[info] 642776408: Downloading 1 format(s): hls-fastly_skyfire-audio-high-Original\n",
            "[hlsnative] Downloading m3u8 manifest\n",
            "[hlsnative] Total fragments: 147\n",
            "[download] Destination: /content/drive/MyDrive/Audios_Vimeo/Cómo diseñar una cuenta de resultados simple I.mp4\n",
            "[download] 100% of   27.96MiB in 00:00:36 at 778.74KiB/s                 \n",
            "[FixupM3u8] Fixing MPEG-TS in MP4 container of \"/content/drive/MyDrive/Audios_Vimeo/Cómo diseñar una cuenta de resultados simple I.mp4\"\n",
            "[ExtractAudio] Destination: /content/drive/MyDrive/Audios_Vimeo/Cómo diseñar una cuenta de resultados simple I.mp3\n",
            "Deleting original file /content/drive/MyDrive/Audios_Vimeo/Cómo diseñar una cuenta de resultados simple I.mp4 (pass -k to keep)\n"
          ]
        },
        {
          "name": "stderr",
          "output_type": "stream",
          "text": [
            "\r 80%|███████▉  | 75/94 [51:01<14:08, 44.63s/it]"
          ]
        },
        {
          "name": "stdout",
          "output_type": "stream",
          "text": [
            "\n",
            "✅ Audio descargado y guardado en: /content/drive/MyDrive/Audios_Vimeo\n",
            "\n",
            "🔽 Descargando audio de: https://vimeo.com/642776688/49593538de\n",
            "[vimeo] Extracting URL: https://vimeo.com/642776688/49593538de\n",
            "[vimeo] 642776688: Downloading viewer info\n",
            "[vimeo] 642776688: Downloading API JSON\n",
            "[vimeo] 642776688: Downloading JSON metadata\n",
            "[vimeo] 642776688: Downloading akfire_interconnect_quic m3u8 information\n",
            "[vimeo] 642776688: Downloading fastly_skyfire m3u8 information\n",
            "[vimeo] 642776688: Downloading akfire_interconnect_quic MPD information\n"
          ]
        },
        {
          "name": "stderr",
          "output_type": "stream",
          "text": [
            "WARNING: [vimeo] 642776688: Failed to parse XML: not well-formed (invalid token): line 1, column 0\n"
          ]
        },
        {
          "name": "stdout",
          "output_type": "stream",
          "text": [
            "[vimeo] 642776688: Downloading fastly_skyfire MPD information\n"
          ]
        },
        {
          "name": "stderr",
          "output_type": "stream",
          "text": [
            "WARNING: [vimeo] 642776688: Failed to parse XML: not well-formed (invalid token): line 1, column 0\n"
          ]
        },
        {
          "name": "stdout",
          "output_type": "stream",
          "text": [
            "[info] 642776688: Downloading 1 format(s): hls-fastly_skyfire-audio-high-Original\n",
            "[hlsnative] Downloading m3u8 manifest\n",
            "[hlsnative] Total fragments: 158\n",
            "[download] Destination: /content/drive/MyDrive/Audios_Vimeo/Cómo diseñar una cuenta de resultados simple II.mp4\n",
            "[download] 100% of   30.05MiB in 00:00:45 at 681.75KiB/s                 \n",
            "[FixupM3u8] Fixing MPEG-TS in MP4 container of \"/content/drive/MyDrive/Audios_Vimeo/Cómo diseñar una cuenta de resultados simple II.mp4\"\n",
            "[ExtractAudio] Destination: /content/drive/MyDrive/Audios_Vimeo/Cómo diseñar una cuenta de resultados simple II.mp3\n",
            "Deleting original file /content/drive/MyDrive/Audios_Vimeo/Cómo diseñar una cuenta de resultados simple II.mp4 (pass -k to keep)\n"
          ]
        },
        {
          "name": "stderr",
          "output_type": "stream",
          "text": [
            "\r 81%|████████  | 76/94 [52:05<15:06, 50.38s/it]"
          ]
        },
        {
          "name": "stdout",
          "output_type": "stream",
          "text": [
            "\n",
            "✅ Audio descargado y guardado en: /content/drive/MyDrive/Audios_Vimeo\n",
            "\n",
            "🔽 Descargando audio de: https://vimeo.com/638644442/6badf1b0f9\n",
            "[vimeo] Extracting URL: https://vimeo.com/638644442/6badf1b0f9\n",
            "[vimeo] 638644442: Downloading viewer info\n",
            "[vimeo] 638644442: Downloading API JSON\n",
            "[vimeo] 638644442: Downloading JSON metadata\n",
            "[vimeo] 638644442: Downloading akfire_interconnect_quic m3u8 information\n",
            "[vimeo] 638644442: Downloading fastly_skyfire m3u8 information\n",
            "[vimeo] 638644442: Downloading akfire_interconnect_quic MPD information\n"
          ]
        },
        {
          "name": "stderr",
          "output_type": "stream",
          "text": [
            "WARNING: [vimeo] 638644442: Failed to parse XML: not well-formed (invalid token): line 1, column 0\n"
          ]
        },
        {
          "name": "stdout",
          "output_type": "stream",
          "text": [
            "[vimeo] 638644442: Downloading fastly_skyfire MPD information\n"
          ]
        },
        {
          "name": "stderr",
          "output_type": "stream",
          "text": [
            "WARNING: [vimeo] 638644442: Failed to parse XML: not well-formed (invalid token): line 1, column 0\n"
          ]
        },
        {
          "name": "stdout",
          "output_type": "stream",
          "text": [
            "[info] 638644442: Downloading 1 format(s): hls-fastly_skyfire-audio-high-Original\n",
            "[hlsnative] Downloading m3u8 manifest\n",
            "[hlsnative] Total fragments: 155\n",
            "[download] Destination: /content/drive/MyDrive/Audios_Vimeo/Calcular objetivos económicos y simular escenarios.mp4\n",
            "[download] 100% of   29.34MiB in 00:00:43 at 686.85KiB/s                 \n",
            "[FixupM3u8] Fixing MPEG-TS in MP4 container of \"/content/drive/MyDrive/Audios_Vimeo/Calcular objetivos económicos y simular escenarios.mp4\"\n",
            "[ExtractAudio] Destination: /content/drive/MyDrive/Audios_Vimeo/Calcular objetivos económicos y simular escenarios.mp3\n",
            "Deleting original file /content/drive/MyDrive/Audios_Vimeo/Calcular objetivos económicos y simular escenarios.mp4 (pass -k to keep)\n"
          ]
        },
        {
          "name": "stderr",
          "output_type": "stream",
          "text": [
            "\r 82%|████████▏ | 77/94 [53:06<15:13, 53.73s/it]"
          ]
        },
        {
          "name": "stdout",
          "output_type": "stream",
          "text": [
            "\n",
            "✅ Audio descargado y guardado en: /content/drive/MyDrive/Audios_Vimeo\n",
            "\n",
            "🔽 Descargando audio de: https://vimeo.com/638644816/8bd7b51dcf\n",
            "[vimeo] Extracting URL: https://vimeo.com/638644816/8bd7b51dcf\n",
            "[vimeo] 638644816: Downloading viewer info\n",
            "[vimeo] 638644816: Downloading API JSON\n",
            "[vimeo] 638644816: Downloading JSON metadata\n",
            "[vimeo] 638644816: Downloading akfire_interconnect_quic m3u8 information\n",
            "[vimeo] 638644816: Downloading fastly_skyfire m3u8 information\n",
            "[vimeo] 638644816: Downloading akfire_interconnect_quic MPD information\n"
          ]
        },
        {
          "name": "stderr",
          "output_type": "stream",
          "text": [
            "WARNING: [vimeo] 638644816: Failed to parse XML: not well-formed (invalid token): line 1, column 0\n"
          ]
        },
        {
          "name": "stdout",
          "output_type": "stream",
          "text": [
            "[vimeo] 638644816: Downloading fastly_skyfire MPD information\n"
          ]
        },
        {
          "name": "stderr",
          "output_type": "stream",
          "text": [
            "WARNING: [vimeo] 638644816: Failed to parse XML: not well-formed (invalid token): line 1, column 0\n"
          ]
        },
        {
          "name": "stdout",
          "output_type": "stream",
          "text": [
            "[info] 638644816: Downloading 1 format(s): hls-fastly_skyfire-audio-high-Original\n",
            "[hlsnative] Downloading m3u8 manifest\n",
            "[hlsnative] Total fragments: 119\n",
            "[download] Destination: /content/drive/MyDrive/Audios_Vimeo/Cómo montar un control de deuda segmentada.mp4\n",
            "[download] 100% of   22.51MiB in 00:00:31 at 721.51KiB/s                 \n",
            "[FixupM3u8] Fixing MPEG-TS in MP4 container of \"/content/drive/MyDrive/Audios_Vimeo/Cómo montar un control de deuda segmentada.mp4\"\n",
            "[ExtractAudio] Destination: /content/drive/MyDrive/Audios_Vimeo/Cómo montar un control de deuda segmentada.mp3\n",
            "Deleting original file /content/drive/MyDrive/Audios_Vimeo/Cómo montar un control de deuda segmentada.mp4 (pass -k to keep)\n"
          ]
        },
        {
          "name": "stderr",
          "output_type": "stream",
          "text": [
            "\r 83%|████████▎ | 78/94 [53:53<13:45, 51.58s/it]"
          ]
        },
        {
          "name": "stdout",
          "output_type": "stream",
          "text": [
            "\n",
            "✅ Audio descargado y guardado en: /content/drive/MyDrive/Audios_Vimeo\n",
            "\n",
            "🔽 Descargando audio de: https://vimeo.com/642777060/1c3db385cf\n",
            "[vimeo] Extracting URL: https://vimeo.com/642777060/1c3db385cf\n",
            "[vimeo] 642777060: Downloading viewer info\n",
            "[vimeo] 642777060: Downloading API JSON\n",
            "[vimeo] 642777060: Downloading JSON metadata\n",
            "[vimeo] 642777060: Downloading akfire_interconnect_quic m3u8 information\n",
            "[vimeo] 642777060: Downloading fastly_skyfire m3u8 information\n",
            "[vimeo] 642777060: Downloading akfire_interconnect_quic MPD information\n"
          ]
        },
        {
          "name": "stderr",
          "output_type": "stream",
          "text": [
            "WARNING: [vimeo] 642777060: Failed to parse XML: not well-formed (invalid token): line 1, column 0\n"
          ]
        },
        {
          "name": "stdout",
          "output_type": "stream",
          "text": [
            "[vimeo] 642777060: Downloading fastly_skyfire MPD information\n"
          ]
        },
        {
          "name": "stderr",
          "output_type": "stream",
          "text": [
            "WARNING: [vimeo] 642777060: Failed to parse XML: not well-formed (invalid token): line 1, column 0\n"
          ]
        },
        {
          "name": "stdout",
          "output_type": "stream",
          "text": [
            "[info] 642777060: Downloading 1 format(s): hls-fastly_skyfire-audio-high-Original\n",
            "[hlsnative] Downloading m3u8 manifest\n",
            "[hlsnative] Total fragments: 196\n",
            "[download] Destination: /content/drive/MyDrive/Audios_Vimeo/Crear un análisis de venta sólido.mp4\n",
            "[download] 100% of   37.24MiB in 00:00:49 at 769.96KiB/s                 \n",
            "[FixupM3u8] Fixing MPEG-TS in MP4 container of \"/content/drive/MyDrive/Audios_Vimeo/Crear un análisis de venta sólido.mp4\"\n",
            "[ExtractAudio] Destination: /content/drive/MyDrive/Audios_Vimeo/Crear un análisis de venta sólido.mp3\n",
            "Deleting original file /content/drive/MyDrive/Audios_Vimeo/Crear un análisis de venta sólido.mp4 (pass -k to keep)\n"
          ]
        },
        {
          "name": "stderr",
          "output_type": "stream",
          "text": [
            "\r 84%|████████▍ | 79/94 [55:03<14:16, 57.11s/it]"
          ]
        },
        {
          "name": "stdout",
          "output_type": "stream",
          "text": [
            "\n",
            "✅ Audio descargado y guardado en: /content/drive/MyDrive/Audios_Vimeo\n",
            "\n",
            "🔽 Descargando audio de: https://vimeo.com/638644992/c85628976a\n",
            "[vimeo] Extracting URL: https://vimeo.com/638644992/c85628976a\n",
            "[vimeo] 638644992: Downloading viewer info\n",
            "[vimeo] 638644992: Downloading API JSON\n",
            "[vimeo] 638644992: Downloading JSON metadata\n",
            "[vimeo] 638644992: Downloading akfire_interconnect_quic m3u8 information\n",
            "[vimeo] 638644992: Downloading fastly_skyfire m3u8 information\n",
            "[vimeo] 638644992: Downloading akfire_interconnect_quic MPD information\n"
          ]
        },
        {
          "name": "stderr",
          "output_type": "stream",
          "text": [
            "WARNING: [vimeo] 638644992: Failed to parse XML: not well-formed (invalid token): line 1, column 0\n"
          ]
        },
        {
          "name": "stdout",
          "output_type": "stream",
          "text": [
            "[vimeo] 638644992: Downloading fastly_skyfire MPD information\n"
          ]
        },
        {
          "name": "stderr",
          "output_type": "stream",
          "text": [
            "WARNING: [vimeo] 638644992: Failed to parse XML: not well-formed (invalid token): line 1, column 0\n"
          ]
        },
        {
          "name": "stdout",
          "output_type": "stream",
          "text": [
            "[info] 638644992: Downloading 1 format(s): hls-fastly_skyfire-audio-high-Original\n",
            "[hlsnative] Downloading m3u8 manifest\n",
            "[hlsnative] Total fragments: 136\n",
            "[download] Destination: /content/drive/MyDrive/Audios_Vimeo/Gestionar un budget y un forecast.mp4\n",
            "[download] 100% of   25.74MiB in 00:00:34 at 758.01KiB/s                 \n",
            "[FixupM3u8] Fixing MPEG-TS in MP4 container of \"/content/drive/MyDrive/Audios_Vimeo/Gestionar un budget y un forecast.mp4\"\n",
            "[ExtractAudio] Destination: /content/drive/MyDrive/Audios_Vimeo/Gestionar un budget y un forecast.mp3\n",
            "Deleting original file /content/drive/MyDrive/Audios_Vimeo/Gestionar un budget y un forecast.mp4 (pass -k to keep)\n"
          ]
        },
        {
          "name": "stderr",
          "output_type": "stream",
          "text": [
            "\r 85%|████████▌ | 80/94 [55:53<12:51, 55.07s/it]"
          ]
        },
        {
          "name": "stdout",
          "output_type": "stream",
          "text": [
            "\n",
            "✅ Audio descargado y guardado en: /content/drive/MyDrive/Audios_Vimeo\n",
            "\n",
            "🔽 Descargando audio de: https://vimeo.com/638645155/75dfd1f6af\n",
            "[vimeo] Extracting URL: https://vimeo.com/638645155/75dfd1f6af\n",
            "[vimeo] 638645155: Downloading viewer info\n",
            "[vimeo] 638645155: Downloading API JSON\n",
            "[vimeo] 638645155: Downloading JSON metadata\n",
            "[vimeo] 638645155: Downloading akfire_interconnect_quic m3u8 information\n",
            "[vimeo] 638645155: Downloading fastly_skyfire m3u8 information\n",
            "[vimeo] 638645155: Downloading akfire_interconnect_quic MPD information\n"
          ]
        },
        {
          "name": "stderr",
          "output_type": "stream",
          "text": [
            "WARNING: [vimeo] 638645155: Failed to parse XML: not well-formed (invalid token): line 1, column 0\n"
          ]
        },
        {
          "name": "stdout",
          "output_type": "stream",
          "text": [
            "[vimeo] 638645155: Downloading fastly_skyfire MPD information\n"
          ]
        },
        {
          "name": "stderr",
          "output_type": "stream",
          "text": [
            "WARNING: [vimeo] 638645155: Failed to parse XML: not well-formed (invalid token): line 1, column 0\n"
          ]
        },
        {
          "name": "stdout",
          "output_type": "stream",
          "text": [
            "[info] 638645155: Downloading 1 format(s): hls-fastly_skyfire-audio-high-Original\n",
            "[hlsnative] Downloading m3u8 manifest\n",
            "[hlsnative] Total fragments: 165\n",
            "[download] Destination: /content/drive/MyDrive/Audios_Vimeo/Gestión de tesorería.mp4\n",
            "[download] 100% of   31.25MiB in 00:00:46 at 692.26KiB/s                 \n",
            "[FixupM3u8] Fixing MPEG-TS in MP4 container of \"/content/drive/MyDrive/Audios_Vimeo/Gestión de tesorería.mp4\"\n",
            "[ExtractAudio] Destination: /content/drive/MyDrive/Audios_Vimeo/Gestión de tesorería.mp3\n",
            "Deleting original file /content/drive/MyDrive/Audios_Vimeo/Gestión de tesorería.mp4 (pass -k to keep)\n"
          ]
        },
        {
          "name": "stderr",
          "output_type": "stream",
          "text": [
            "\r 86%|████████▌ | 81/94 [56:57<12:32, 57.88s/it]"
          ]
        },
        {
          "name": "stdout",
          "output_type": "stream",
          "text": [
            "\n",
            "✅ Audio descargado y guardado en: /content/drive/MyDrive/Audios_Vimeo\n",
            "\n",
            "🔽 Descargando audio de: https://vimeo.com/638645348/794c098a46\n",
            "[vimeo] Extracting URL: https://vimeo.com/638645348/794c098a46\n",
            "[vimeo] 638645348: Downloading viewer info\n",
            "[vimeo] 638645348: Downloading API JSON\n",
            "[vimeo] 638645348: Downloading JSON metadata\n",
            "[vimeo] 638645348: Downloading akfire_interconnect_quic m3u8 information\n",
            "[vimeo] 638645348: Downloading fastly_skyfire m3u8 information\n",
            "[vimeo] 638645348: Downloading akfire_interconnect_quic MPD information\n"
          ]
        },
        {
          "name": "stderr",
          "output_type": "stream",
          "text": [
            "WARNING: [vimeo] 638645348: Failed to parse XML: not well-formed (invalid token): line 1, column 0\n"
          ]
        },
        {
          "name": "stdout",
          "output_type": "stream",
          "text": [
            "[vimeo] 638645348: Downloading fastly_skyfire MPD information\n"
          ]
        },
        {
          "name": "stderr",
          "output_type": "stream",
          "text": [
            "WARNING: [vimeo] 638645348: Failed to parse XML: not well-formed (invalid token): line 1, column 0\n"
          ]
        },
        {
          "name": "stdout",
          "output_type": "stream",
          "text": [
            "[info] 638645348: Downloading 1 format(s): hls-fastly_skyfire-audio-high-Original\n",
            "[hlsnative] Downloading m3u8 manifest\n",
            "[hlsnative] Total fragments: 140\n",
            "[download] Destination: /content/drive/MyDrive/Audios_Vimeo/Analizar resultados económicos en Excel.mp4\n",
            "[download] 100% of   26.51MiB in 00:00:34 at 784.19KiB/s                 \n",
            "[FixupM3u8] Fixing MPEG-TS in MP4 container of \"/content/drive/MyDrive/Audios_Vimeo/Analizar resultados económicos en Excel.mp4\"\n",
            "[ExtractAudio] Destination: /content/drive/MyDrive/Audios_Vimeo/Analizar resultados económicos en Excel.mp3\n",
            "Deleting original file /content/drive/MyDrive/Audios_Vimeo/Analizar resultados económicos en Excel.mp4 (pass -k to keep)\n"
          ]
        },
        {
          "name": "stderr",
          "output_type": "stream",
          "text": [
            "\r 87%|████████▋ | 82/94 [57:48<11:06, 55.55s/it]"
          ]
        },
        {
          "name": "stdout",
          "output_type": "stream",
          "text": [
            "\n",
            "✅ Audio descargado y guardado en: /content/drive/MyDrive/Audios_Vimeo\n",
            "\n",
            "🔽 Descargando audio de: https://vimeo.com/644732419/45476fe723\n",
            "[vimeo] Extracting URL: https://vimeo.com/644732419/45476fe723\n",
            "[vimeo] 644732419: Downloading viewer info\n",
            "[vimeo] 644732419: Downloading API JSON\n",
            "[vimeo] 644732419: Downloading JSON metadata\n",
            "[vimeo] 644732419: Downloading akfire_interconnect_quic m3u8 information\n",
            "[vimeo] 644732419: Downloading fastly_skyfire m3u8 information\n",
            "[vimeo] 644732419: Downloading akfire_interconnect_quic MPD information\n"
          ]
        },
        {
          "name": "stderr",
          "output_type": "stream",
          "text": [
            "WARNING: [vimeo] 644732419: Failed to parse XML: not well-formed (invalid token): line 1, column 0\n"
          ]
        },
        {
          "name": "stdout",
          "output_type": "stream",
          "text": [
            "[vimeo] 644732419: Downloading fastly_skyfire MPD information\n"
          ]
        },
        {
          "name": "stderr",
          "output_type": "stream",
          "text": [
            "WARNING: [vimeo] 644732419: Failed to parse XML: not well-formed (invalid token): line 1, column 0\n"
          ]
        },
        {
          "name": "stdout",
          "output_type": "stream",
          "text": [
            "[info] 644732419: Downloading 1 format(s): hls-fastly_skyfire-audio-high-Original\n",
            "[hlsnative] Downloading m3u8 manifest\n",
            "[hlsnative] Total fragments: 27\n",
            "[download] Destination: /content/drive/MyDrive/Audios_Vimeo/Test - Excel aplicado a Gestión de Finanzas.mp4\n",
            "[download] 100% of    5.11MiB in 00:00:06 at 773.09KiB/s               \n",
            "[FixupM3u8] Fixing MPEG-TS in MP4 container of \"/content/drive/MyDrive/Audios_Vimeo/Test - Excel aplicado a Gestión de Finanzas.mp4\"\n",
            "[ExtractAudio] Destination: /content/drive/MyDrive/Audios_Vimeo/Test - Excel aplicado a Gestión de Finanzas.mp3\n",
            "Deleting original file /content/drive/MyDrive/Audios_Vimeo/Test - Excel aplicado a Gestión de Finanzas.mp4 (pass -k to keep)\n"
          ]
        },
        {
          "name": "stderr",
          "output_type": "stream",
          "text": [
            "\r 88%|████████▊ | 83/94 [58:01<07:50, 42.82s/it]"
          ]
        },
        {
          "name": "stdout",
          "output_type": "stream",
          "text": [
            "\n",
            "✅ Audio descargado y guardado en: /content/drive/MyDrive/Audios_Vimeo\n",
            "\n",
            "🔽 Descargando audio de: https://vimeo.com/639279710/def6678baa\n",
            "[vimeo] Extracting URL: https://vimeo.com/639279710/def6678baa\n",
            "[vimeo] 639279710: Downloading viewer info\n",
            "[vimeo] 639279710: Downloading API JSON\n",
            "[vimeo] 639279710: Downloading JSON metadata\n",
            "[vimeo] 639279710: Downloading akfire_interconnect_quic m3u8 information\n",
            "[vimeo] 639279710: Downloading fastly_skyfire m3u8 information\n",
            "[vimeo] 639279710: Downloading akfire_interconnect_quic MPD information\n"
          ]
        },
        {
          "name": "stderr",
          "output_type": "stream",
          "text": [
            "WARNING: [vimeo] 639279710: Failed to parse XML: not well-formed (invalid token): line 1, column 0\n"
          ]
        },
        {
          "name": "stdout",
          "output_type": "stream",
          "text": [
            "[vimeo] 639279710: Downloading fastly_skyfire MPD information\n"
          ]
        },
        {
          "name": "stderr",
          "output_type": "stream",
          "text": [
            "WARNING: [vimeo] 639279710: Failed to parse XML: not well-formed (invalid token): line 1, column 0\n"
          ]
        },
        {
          "name": "stdout",
          "output_type": "stream",
          "text": [
            "[info] 639279710: Downloading 1 format(s): hls-fastly_skyfire-audio-high-Original\n",
            "[hlsnative] Downloading m3u8 manifest\n",
            "[hlsnative] Total fragments: 135\n",
            "[download] Destination: /content/drive/MyDrive/Audios_Vimeo/Herramientas para potenciar datos de RRHH.mp4\n",
            "[download] 100% of   25.57MiB in 00:00:32 at 816.07KiB/s                 \n",
            "[FixupM3u8] Fixing MPEG-TS in MP4 container of \"/content/drive/MyDrive/Audios_Vimeo/Herramientas para potenciar datos de RRHH.mp4\"\n",
            "[ExtractAudio] Destination: /content/drive/MyDrive/Audios_Vimeo/Herramientas para potenciar datos de RRHH.mp3\n",
            "Deleting original file /content/drive/MyDrive/Audios_Vimeo/Herramientas para potenciar datos de RRHH.mp4 (pass -k to keep)\n"
          ]
        },
        {
          "name": "stderr",
          "output_type": "stream",
          "text": [
            "\r 89%|████████▉ | 84/94 [58:50<07:29, 44.92s/it]"
          ]
        },
        {
          "name": "stdout",
          "output_type": "stream",
          "text": [
            "\n",
            "✅ Audio descargado y guardado en: /content/drive/MyDrive/Audios_Vimeo\n",
            "\n",
            "🔽 Descargando audio de: https://vimeo.com/639279951/3c09046d42\n",
            "[vimeo] Extracting URL: https://vimeo.com/639279951/3c09046d42\n",
            "[vimeo] 639279951: Downloading viewer info\n",
            "[vimeo] 639279951: Downloading API JSON\n",
            "[vimeo] 639279951: Downloading JSON metadata\n",
            "[vimeo] 639279951: Downloading akfire_interconnect_quic m3u8 information\n",
            "[vimeo] 639279951: Downloading fastly_skyfire m3u8 information\n",
            "[vimeo] 639279951: Downloading akfire_interconnect_quic MPD information\n"
          ]
        },
        {
          "name": "stderr",
          "output_type": "stream",
          "text": [
            "WARNING: [vimeo] 639279951: Failed to parse XML: not well-formed (invalid token): line 1, column 0\n"
          ]
        },
        {
          "name": "stdout",
          "output_type": "stream",
          "text": [
            "[vimeo] 639279951: Downloading fastly_skyfire MPD information\n"
          ]
        },
        {
          "name": "stderr",
          "output_type": "stream",
          "text": [
            "WARNING: [vimeo] 639279951: Failed to parse XML: not well-formed (invalid token): line 1, column 0\n"
          ]
        },
        {
          "name": "stdout",
          "output_type": "stream",
          "text": [
            "[info] 639279951: Downloading 1 format(s): hls-fastly_skyfire-audio-high-Original\n",
            "[hlsnative] Downloading m3u8 manifest\n",
            "[hlsnative] Total fragments: 147\n",
            "[download] Destination: /content/drive/MyDrive/Audios_Vimeo/Funciones específicas para RRHH.mp4\n",
            "[download] 100% of   27.89MiB in 00:00:39 at 727.06KiB/s                 \n",
            "[FixupM3u8] Fixing MPEG-TS in MP4 container of \"/content/drive/MyDrive/Audios_Vimeo/Funciones específicas para RRHH.mp4\"\n",
            "[ExtractAudio] Destination: /content/drive/MyDrive/Audios_Vimeo/Funciones específicas para RRHH.mp3\n",
            "Deleting original file /content/drive/MyDrive/Audios_Vimeo/Funciones específicas para RRHH.mp4 (pass -k to keep)\n"
          ]
        },
        {
          "name": "stderr",
          "output_type": "stream",
          "text": [
            "\r 90%|█████████ | 85/94 [59:46<07:13, 48.19s/it]"
          ]
        },
        {
          "name": "stdout",
          "output_type": "stream",
          "text": [
            "\n",
            "✅ Audio descargado y guardado en: /content/drive/MyDrive/Audios_Vimeo\n",
            "\n",
            "🔽 Descargando audio de: https://vimeo.com/639280126/7d7a752cf6\n",
            "[vimeo] Extracting URL: https://vimeo.com/639280126/7d7a752cf6\n",
            "[vimeo] 639280126: Downloading viewer info\n",
            "[vimeo] 639280126: Downloading API JSON\n",
            "[vimeo] 639280126: Downloading JSON metadata\n",
            "[vimeo] 639280126: Downloading akfire_interconnect_quic m3u8 information\n",
            "[vimeo] 639280126: Downloading fastly_skyfire m3u8 information\n",
            "[vimeo] 639280126: Downloading akfire_interconnect_quic MPD information\n"
          ]
        },
        {
          "name": "stderr",
          "output_type": "stream",
          "text": [
            "WARNING: [vimeo] 639280126: Failed to parse XML: not well-formed (invalid token): line 1, column 0\n"
          ]
        },
        {
          "name": "stdout",
          "output_type": "stream",
          "text": [
            "[vimeo] 639280126: Downloading fastly_skyfire MPD information\n"
          ]
        },
        {
          "name": "stderr",
          "output_type": "stream",
          "text": [
            "WARNING: [vimeo] 639280126: Failed to parse XML: not well-formed (invalid token): line 1, column 0\n"
          ]
        },
        {
          "name": "stdout",
          "output_type": "stream",
          "text": [
            "[info] 639280126: Downloading 1 format(s): hls-fastly_skyfire-audio-high-Original\n",
            "[hlsnative] Downloading m3u8 manifest\n",
            "[hlsnative] Total fragments: 147\n",
            "[download] Destination: /content/drive/MyDrive/Audios_Vimeo/Tablas dinámicas para RRHH.mp4\n",
            "[download] 100% of   27.87MiB in 00:00:38 at 742.30KiB/s                 \n",
            "[FixupM3u8] Fixing MPEG-TS in MP4 container of \"/content/drive/MyDrive/Audios_Vimeo/Tablas dinámicas para RRHH.mp4\"\n",
            "[ExtractAudio] Destination: /content/drive/MyDrive/Audios_Vimeo/Tablas dinámicas para RRHH.mp3\n",
            "Deleting original file /content/drive/MyDrive/Audios_Vimeo/Tablas dinámicas para RRHH.mp4 (pass -k to keep)\n"
          ]
        },
        {
          "name": "stderr",
          "output_type": "stream",
          "text": [
            "\r 91%|█████████▏| 86/94 [1:00:40<06:38, 49.79s/it]"
          ]
        },
        {
          "name": "stdout",
          "output_type": "stream",
          "text": [
            "\n",
            "✅ Audio descargado y guardado en: /content/drive/MyDrive/Audios_Vimeo\n",
            "\n",
            "🔽 Descargando audio de: https://vimeo.com/639280423/91e7afd7e6\n",
            "[vimeo] Extracting URL: https://vimeo.com/639280423/91e7afd7e6\n",
            "[vimeo] 639280423: Downloading viewer info\n",
            "[vimeo] 639280423: Downloading API JSON\n",
            "[vimeo] 639280423: Downloading JSON metadata\n",
            "[vimeo] 639280423: Downloading akfire_interconnect_quic m3u8 information\n",
            "[vimeo] 639280423: Downloading fastly_skyfire m3u8 information\n",
            "[vimeo] 639280423: Downloading akfire_interconnect_quic MPD information\n"
          ]
        },
        {
          "name": "stderr",
          "output_type": "stream",
          "text": [
            "WARNING: [vimeo] 639280423: Failed to parse XML: not well-formed (invalid token): line 1, column 0\n"
          ]
        },
        {
          "name": "stdout",
          "output_type": "stream",
          "text": [
            "[vimeo] 639280423: Downloading fastly_skyfire MPD information\n"
          ]
        },
        {
          "name": "stderr",
          "output_type": "stream",
          "text": [
            "WARNING: [vimeo] 639280423: Failed to parse XML: not well-formed (invalid token): line 1, column 0\n"
          ]
        },
        {
          "name": "stdout",
          "output_type": "stream",
          "text": [
            "[info] 639280423: Downloading 1 format(s): hls-fastly_skyfire-audio-high-Original\n",
            "[hlsnative] Downloading m3u8 manifest\n",
            "[hlsnative] Total fragments: 114\n",
            "[download] Destination: /content/drive/MyDrive/Audios_Vimeo/Gráficos para RRHH.mp4\n",
            "[download] 100% of   21.54MiB in 00:00:30 at 734.87KiB/s                 \n",
            "[FixupM3u8] Fixing MPEG-TS in MP4 container of \"/content/drive/MyDrive/Audios_Vimeo/Gráficos para RRHH.mp4\"\n",
            "[ExtractAudio] Destination: /content/drive/MyDrive/Audios_Vimeo/Gráficos para RRHH.mp3\n",
            "Deleting original file /content/drive/MyDrive/Audios_Vimeo/Gráficos para RRHH.mp4 (pass -k to keep)\n"
          ]
        },
        {
          "name": "stderr",
          "output_type": "stream",
          "text": [
            "\r 93%|█████████▎| 87/94 [1:01:24<05:36, 48.11s/it]"
          ]
        },
        {
          "name": "stdout",
          "output_type": "stream",
          "text": [
            "\n",
            "✅ Audio descargado y guardado en: /content/drive/MyDrive/Audios_Vimeo\n",
            "\n",
            "🔽 Descargando audio de: https://vimeo.com/639280644/5818db5e42\n",
            "[vimeo] Extracting URL: https://vimeo.com/639280644/5818db5e42\n",
            "[vimeo] 639280644: Downloading viewer info\n",
            "[vimeo] 639280644: Downloading API JSON\n",
            "[vimeo] 639280644: Downloading JSON metadata\n",
            "[vimeo] 639280644: Downloading akfire_interconnect_quic m3u8 information\n",
            "[vimeo] 639280644: Downloading fastly_skyfire m3u8 information\n",
            "[vimeo] 639280644: Downloading akfire_interconnect_quic MPD information\n"
          ]
        },
        {
          "name": "stderr",
          "output_type": "stream",
          "text": [
            "WARNING: [vimeo] 639280644: Failed to parse XML: not well-formed (invalid token): line 1, column 0\n"
          ]
        },
        {
          "name": "stdout",
          "output_type": "stream",
          "text": [
            "[vimeo] 639280644: Downloading fastly_skyfire MPD information\n"
          ]
        },
        {
          "name": "stderr",
          "output_type": "stream",
          "text": [
            "WARNING: [vimeo] 639280644: Failed to parse XML: not well-formed (invalid token): line 1, column 0\n"
          ]
        },
        {
          "name": "stdout",
          "output_type": "stream",
          "text": [
            "[info] 639280644: Downloading 1 format(s): hls-fastly_skyfire-audio-high-Original\n",
            "[hlsnative] Downloading m3u8 manifest\n",
            "[hlsnative] Total fragments: 164\n",
            "[download] Destination: /content/drive/MyDrive/Audios_Vimeo/Análisis de datos de RRHH.mp4\n",
            "[download] 100% of   31.18MiB in 00:00:43 at 734.36KiB/s                 \n",
            "[FixupM3u8] Fixing MPEG-TS in MP4 container of \"/content/drive/MyDrive/Audios_Vimeo/Análisis de datos de RRHH.mp4\"\n",
            "[ExtractAudio] Destination: /content/drive/MyDrive/Audios_Vimeo/Análisis de datos de RRHH.mp3\n",
            "Deleting original file /content/drive/MyDrive/Audios_Vimeo/Análisis de datos de RRHH.mp4 (pass -k to keep)\n"
          ]
        },
        {
          "name": "stderr",
          "output_type": "stream",
          "text": [
            "\r 94%|█████████▎| 88/94 [1:02:25<05:12, 52.05s/it]"
          ]
        },
        {
          "name": "stdout",
          "output_type": "stream",
          "text": [
            "\n",
            "✅ Audio descargado y guardado en: /content/drive/MyDrive/Audios_Vimeo\n",
            "\n",
            "🔽 Descargando audio de: https://vimeo.com/644732455/ed011ab64d\n",
            "[vimeo] Extracting URL: https://vimeo.com/644732455/ed011ab64d\n",
            "[vimeo] 644732455: Downloading viewer info\n",
            "[vimeo] 644732455: Downloading API JSON\n",
            "[vimeo] 644732455: Downloading JSON metadata\n",
            "[vimeo] 644732455: Downloading akfire_interconnect_quic m3u8 information\n",
            "[vimeo] 644732455: Downloading fastly_skyfire m3u8 information\n",
            "[vimeo] 644732455: Downloading akfire_interconnect_quic MPD information\n"
          ]
        },
        {
          "name": "stderr",
          "output_type": "stream",
          "text": [
            "WARNING: [vimeo] 644732455: Failed to parse XML: not well-formed (invalid token): line 1, column 0\n"
          ]
        },
        {
          "name": "stdout",
          "output_type": "stream",
          "text": [
            "[vimeo] 644732455: Downloading fastly_skyfire MPD information\n"
          ]
        },
        {
          "name": "stderr",
          "output_type": "stream",
          "text": [
            "WARNING: [vimeo] 644732455: Failed to parse XML: not well-formed (invalid token): line 1, column 0\n"
          ]
        },
        {
          "name": "stdout",
          "output_type": "stream",
          "text": [
            "[info] 644732455: Downloading 1 format(s): hls-fastly_skyfire-audio-high-Original\n",
            "[hlsnative] Downloading m3u8 manifest\n",
            "[hlsnative] Total fragments: 27\n",
            "[download] Destination: /content/drive/MyDrive/Audios_Vimeo/Test - Excel aplicado a RRHH.mp4\n",
            "[download] 100% of    5.16MiB in 00:00:07 at 736.42KiB/s               \n",
            "[FixupM3u8] Fixing MPEG-TS in MP4 container of \"/content/drive/MyDrive/Audios_Vimeo/Test - Excel aplicado a RRHH.mp4\"\n",
            "[ExtractAudio] Destination: /content/drive/MyDrive/Audios_Vimeo/Test - Excel aplicado a RRHH.mp3\n",
            "Deleting original file /content/drive/MyDrive/Audios_Vimeo/Test - Excel aplicado a RRHH.mp4 (pass -k to keep)\n"
          ]
        },
        {
          "name": "stderr",
          "output_type": "stream",
          "text": [
            "\r 95%|█████████▍| 89/94 [1:02:39<03:22, 40.56s/it]"
          ]
        },
        {
          "name": "stdout",
          "output_type": "stream",
          "text": [
            "\n",
            "✅ Audio descargado y guardado en: /content/drive/MyDrive/Audios_Vimeo\n",
            "\n",
            "🔽 Descargando audio de: https://vimeo.com/639016657/efd7fee787\n",
            "[vimeo] Extracting URL: https://vimeo.com/639016657/efd7fee787\n",
            "[vimeo] 639016657: Downloading viewer info\n",
            "[vimeo] 639016657: Downloading API JSON\n",
            "[vimeo] 639016657: Downloading JSON metadata\n",
            "[vimeo] 639016657: Downloading akfire_interconnect_quic m3u8 information\n",
            "[vimeo] 639016657: Downloading fastly_skyfire m3u8 information\n",
            "[vimeo] 639016657: Downloading akfire_interconnect_quic MPD information\n"
          ]
        },
        {
          "name": "stderr",
          "output_type": "stream",
          "text": [
            "WARNING: [vimeo] 639016657: Failed to parse XML: not well-formed (invalid token): line 1, column 0\n"
          ]
        },
        {
          "name": "stdout",
          "output_type": "stream",
          "text": [
            "[vimeo] 639016657: Downloading fastly_skyfire MPD information\n"
          ]
        },
        {
          "name": "stderr",
          "output_type": "stream",
          "text": [
            "WARNING: [vimeo] 639016657: Failed to parse XML: not well-formed (invalid token): line 1, column 0\n"
          ]
        },
        {
          "name": "stdout",
          "output_type": "stream",
          "text": [
            "[info] 639016657: Downloading 1 format(s): hls-fastly_skyfire-audio-high-Original\n",
            "[hlsnative] Downloading m3u8 manifest\n",
            "[hlsnative] Total fragments: 121\n",
            "[download] Destination: /content/drive/MyDrive/Audios_Vimeo/Edición y organización de datos comerciales.mp4\n",
            "[download] 100% of   22.93MiB in 00:00:31 at 747.44KiB/s                 \n",
            "[FixupM3u8] Fixing MPEG-TS in MP4 container of \"/content/drive/MyDrive/Audios_Vimeo/Edición y organización de datos comerciales.mp4\"\n",
            "[ExtractAudio] Destination: /content/drive/MyDrive/Audios_Vimeo/Edición y organización de datos comerciales.mp3\n",
            "Deleting original file /content/drive/MyDrive/Audios_Vimeo/Edición y organización de datos comerciales.mp4 (pass -k to keep)\n"
          ]
        },
        {
          "name": "stderr",
          "output_type": "stream",
          "text": [
            "\r 96%|█████████▌| 90/94 [1:03:25<02:49, 42.33s/it]"
          ]
        },
        {
          "name": "stdout",
          "output_type": "stream",
          "text": [
            "\n",
            "✅ Audio descargado y guardado en: /content/drive/MyDrive/Audios_Vimeo\n",
            "\n",
            "🔽 Descargando audio de: https://vimeo.com/639043217/d89e719b7a\n",
            "[vimeo] Extracting URL: https://vimeo.com/639043217/d89e719b7a\n",
            "[vimeo] 639043217: Downloading viewer info\n",
            "[vimeo] 639043217: Downloading API JSON\n",
            "[vimeo] 639043217: Downloading JSON metadata\n",
            "[vimeo] 639043217: Downloading akfire_interconnect_quic m3u8 information\n",
            "[vimeo] 639043217: Downloading fastly_skyfire m3u8 information\n",
            "[vimeo] 639043217: Downloading akfire_interconnect_quic MPD information\n"
          ]
        },
        {
          "name": "stderr",
          "output_type": "stream",
          "text": [
            "WARNING: [vimeo] 639043217: Failed to parse XML: not well-formed (invalid token): line 1, column 0\n"
          ]
        },
        {
          "name": "stdout",
          "output_type": "stream",
          "text": [
            "[vimeo] 639043217: Downloading fastly_skyfire MPD information\n"
          ]
        },
        {
          "name": "stderr",
          "output_type": "stream",
          "text": [
            "WARNING: [vimeo] 639043217: Failed to parse XML: not well-formed (invalid token): line 1, column 0\n"
          ]
        },
        {
          "name": "stdout",
          "output_type": "stream",
          "text": [
            "[info] 639043217: Downloading 1 format(s): hls-fastly_skyfire-audio-high-Original\n",
            "[hlsnative] Downloading m3u8 manifest\n",
            "[hlsnative] Total fragments: 140\n",
            "[download] Destination: /content/drive/MyDrive/Audios_Vimeo/Funciones aplicadas a la gestión comercial.mp4\n",
            "[download] 100% of   26.48MiB in 00:00:36 at 743.25KiB/s                 \n",
            "[FixupM3u8] Fixing MPEG-TS in MP4 container of \"/content/drive/MyDrive/Audios_Vimeo/Funciones aplicadas a la gestión comercial.mp4\"\n",
            "[ExtractAudio] Destination: /content/drive/MyDrive/Audios_Vimeo/Funciones aplicadas a la gestión comercial.mp3\n",
            "Deleting original file /content/drive/MyDrive/Audios_Vimeo/Funciones aplicadas a la gestión comercial.mp4 (pass -k to keep)\n"
          ]
        },
        {
          "name": "stderr",
          "output_type": "stream",
          "text": [
            "\r 97%|█████████▋| 91/94 [1:04:18<02:16, 45.37s/it]"
          ]
        },
        {
          "name": "stdout",
          "output_type": "stream",
          "text": [
            "\n",
            "✅ Audio descargado y guardado en: /content/drive/MyDrive/Audios_Vimeo\n",
            "\n",
            "🔽 Descargando audio de: https://vimeo.com/639017106/7ccc3a3dc3\n",
            "[vimeo] Extracting URL: https://vimeo.com/639017106/7ccc3a3dc3\n",
            "[vimeo] 639017106: Downloading viewer info\n",
            "[vimeo] 639017106: Downloading API JSON\n",
            "[vimeo] 639017106: Downloading JSON metadata\n",
            "[vimeo] 639017106: Downloading akfire_interconnect_quic m3u8 information\n",
            "[vimeo] 639017106: Downloading fastly_skyfire m3u8 information\n",
            "[vimeo] 639017106: Downloading akfire_interconnect_quic MPD information\n"
          ]
        },
        {
          "name": "stderr",
          "output_type": "stream",
          "text": [
            "WARNING: [vimeo] 639017106: Failed to parse XML: not well-formed (invalid token): line 1, column 0\n"
          ]
        },
        {
          "name": "stdout",
          "output_type": "stream",
          "text": [
            "[vimeo] 639017106: Downloading fastly_skyfire MPD information\n"
          ]
        },
        {
          "name": "stderr",
          "output_type": "stream",
          "text": [
            "WARNING: [vimeo] 639017106: Failed to parse XML: not well-formed (invalid token): line 1, column 0\n"
          ]
        },
        {
          "name": "stdout",
          "output_type": "stream",
          "text": [
            "[info] 639017106: Downloading 1 format(s): hls-fastly_skyfire-audio-high-Original\n",
            "[hlsnative] Downloading m3u8 manifest\n",
            "[hlsnative] Total fragments: 123\n",
            "[download] Destination: /content/drive/MyDrive/Audios_Vimeo/Tablas y gráficos aplicados a la gestión comercial.mp4\n",
            "[download] 100% of   23.25MiB in 00:00:34 at 686.85KiB/s                 \n",
            "[FixupM3u8] Fixing MPEG-TS in MP4 container of \"/content/drive/MyDrive/Audios_Vimeo/Tablas y gráficos aplicados a la gestión comercial.mp4\"\n",
            "[ExtractAudio] Destination: /content/drive/MyDrive/Audios_Vimeo/Tablas y gráficos aplicados a la gestión comercial.mp3\n",
            "Deleting original file /content/drive/MyDrive/Audios_Vimeo/Tablas y gráficos aplicados a la gestión comercial.mp4 (pass -k to keep)\n"
          ]
        },
        {
          "name": "stderr",
          "output_type": "stream",
          "text": [
            "\r 98%|█████████▊| 92/94 [1:05:07<01:32, 46.39s/it]"
          ]
        },
        {
          "name": "stdout",
          "output_type": "stream",
          "text": [
            "\n",
            "✅ Audio descargado y guardado en: /content/drive/MyDrive/Audios_Vimeo\n",
            "\n",
            "🔽 Descargando audio de: https://vimeo.com/642782834/b3930bd981\n",
            "[vimeo] Extracting URL: https://vimeo.com/642782834/b3930bd981\n",
            "[vimeo] 642782834: Downloading viewer info\n",
            "[vimeo] 642782834: Downloading API JSON\n",
            "[vimeo] 642782834: Downloading JSON metadata\n",
            "[vimeo] 642782834: Downloading akfire_interconnect_quic m3u8 information\n",
            "[vimeo] 642782834: Downloading fastly_skyfire m3u8 information\n",
            "[vimeo] 642782834: Downloading akfire_interconnect_quic MPD information\n"
          ]
        },
        {
          "name": "stderr",
          "output_type": "stream",
          "text": [
            "WARNING: [vimeo] 642782834: Failed to parse XML: not well-formed (invalid token): line 1, column 0\n"
          ]
        },
        {
          "name": "stdout",
          "output_type": "stream",
          "text": [
            "[vimeo] 642782834: Downloading fastly_skyfire MPD information\n"
          ]
        },
        {
          "name": "stderr",
          "output_type": "stream",
          "text": [
            "WARNING: [vimeo] 642782834: Failed to parse XML: not well-formed (invalid token): line 1, column 0\n"
          ]
        },
        {
          "name": "stdout",
          "output_type": "stream",
          "text": [
            "[info] 642782834: Downloading 1 format(s): hls-fastly_skyfire-audio-high-Original\n",
            "[hlsnative] Downloading m3u8 manifest\n",
            "[hlsnative] Total fragments: 133\n",
            "[download] Destination: /content/drive/MyDrive/Audios_Vimeo/Plantilla vinculada para la gestión comercial.mp4\n",
            "[download] 100% of   25.26MiB in 00:00:39 at 657.97KiB/s                 \n",
            "[FixupM3u8] Fixing MPEG-TS in MP4 container of \"/content/drive/MyDrive/Audios_Vimeo/Plantilla vinculada para la gestión comercial.mp4\"\n",
            "[ExtractAudio] Destination: /content/drive/MyDrive/Audios_Vimeo/Plantilla vinculada para la gestión comercial.mp3\n",
            "Deleting original file /content/drive/MyDrive/Audios_Vimeo/Plantilla vinculada para la gestión comercial.mp4 (pass -k to keep)\n"
          ]
        },
        {
          "name": "stderr",
          "output_type": "stream",
          "text": [
            "\r 99%|█████████▉| 93/94 [1:06:01<00:48, 48.86s/it]"
          ]
        },
        {
          "name": "stdout",
          "output_type": "stream",
          "text": [
            "\n",
            "✅ Audio descargado y guardado en: /content/drive/MyDrive/Audios_Vimeo\n",
            "\n",
            "🔽 Descargando audio de: https://vimeo.com/644732497/7bd1521707\n",
            "[vimeo] Extracting URL: https://vimeo.com/644732497/7bd1521707\n",
            "[vimeo] 644732497: Downloading viewer info\n",
            "[vimeo] 644732497: Downloading API JSON\n",
            "[vimeo] 644732497: Downloading JSON metadata\n",
            "[vimeo] 644732497: Downloading akfire_interconnect_quic m3u8 information\n",
            "[vimeo] 644732497: Downloading fastly_skyfire m3u8 information\n",
            "[vimeo] 644732497: Downloading akfire_interconnect_quic MPD information\n"
          ]
        },
        {
          "name": "stderr",
          "output_type": "stream",
          "text": [
            "WARNING: [vimeo] 644732497: Failed to parse XML: not well-formed (invalid token): line 1, column 0\n"
          ]
        },
        {
          "name": "stdout",
          "output_type": "stream",
          "text": [
            "[vimeo] 644732497: Downloading fastly_skyfire MPD information\n"
          ]
        },
        {
          "name": "stderr",
          "output_type": "stream",
          "text": [
            "WARNING: [vimeo] 644732497: Failed to parse XML: not well-formed (invalid token): line 1, column 0\n"
          ]
        },
        {
          "name": "stdout",
          "output_type": "stream",
          "text": [
            "[info] 644732497: Downloading 1 format(s): hls-fastly_skyfire-audio-high-Original\n",
            "[hlsnative] Downloading m3u8 manifest\n",
            "[hlsnative] Total fragments: 29\n",
            "[download] Destination: /content/drive/MyDrive/Audios_Vimeo/Test - Excel aplicado a Gestión Comercial.mp4\n",
            "[download] 100% of    5.51MiB in 00:00:07 at 768.29KiB/s               \n",
            "[FixupM3u8] Fixing MPEG-TS in MP4 container of \"/content/drive/MyDrive/Audios_Vimeo/Test - Excel aplicado a Gestión Comercial.mp4\"\n",
            "[ExtractAudio] Destination: /content/drive/MyDrive/Audios_Vimeo/Test - Excel aplicado a Gestión Comercial.mp3\n",
            "Deleting original file /content/drive/MyDrive/Audios_Vimeo/Test - Excel aplicado a Gestión Comercial.mp4 (pass -k to keep)\n"
          ]
        },
        {
          "name": "stderr",
          "output_type": "stream",
          "text": [
            "100%|██████████| 94/94 [1:06:14<00:00, 42.29s/it]"
          ]
        },
        {
          "name": "stdout",
          "output_type": "stream",
          "text": [
            "\n",
            "✅ Audio descargado y guardado en: /content/drive/MyDrive/Audios_Vimeo\n",
            "\n",
            "✅ Todos los audios han sido descargados.\n"
          ]
        },
        {
          "name": "stderr",
          "output_type": "stream",
          "text": [
            "\n"
          ]
        }
      ],
      "source": [
        "# Descargar cada audio\n",
        "for url in tqdm(urls):\n",
        "    print(f\"\\n🔽 Descargando audio de: {url}\")\n",
        "    descargar_audio_vimeo(url)\n",
        "\n",
        "print(\"\\n✅ Todos los audios han sido descargados.\")"
      ]
    }
  ],
  "metadata": {
    "colab": {
      "provenance": []
    },
    "kernelspec": {
      "display_name": "main_env",
      "language": "python",
      "name": "python3"
    },
    "language_info": {
      "codemirror_mode": {
        "name": "ipython",
        "version": 3
      },
      "file_extension": ".py",
      "mimetype": "text/x-python",
      "name": "python",
      "nbconvert_exporter": "python",
      "pygments_lexer": "ipython3",
      "version": "3.12.9"
    }
  },
  "nbformat": 4,
  "nbformat_minor": 0
}
