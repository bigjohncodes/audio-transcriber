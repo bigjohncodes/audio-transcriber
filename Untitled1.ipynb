{
  "nbformat": 4,
  "nbformat_minor": 0,
  "metadata": {
    "colab": {
      "provenance": [],
      "gpuType": "T4",
      "authorship_tag": "ABX9TyPEqOWyo+0eRP21O/PW/Bjb",
      "include_colab_link": true
    },
    "kernelspec": {
      "name": "python3",
      "display_name": "Python 3"
    },
    "language_info": {
      "name": "python"
    },
    "accelerator": "GPU"
  },
  "cells": [
    {
      "cell_type": "markdown",
      "metadata": {
        "id": "view-in-github",
        "colab_type": "text"
      },
      "source": [
        "<a href=\"https://colab.research.google.com/github/bigjohncodes/audio-transcriber/blob/main/Untitled1.ipynb\" target=\"_parent\"><img src=\"https://colab.research.google.com/assets/colab-badge.svg\" alt=\"Open In Colab\"/></a>"
      ]
    },
    {
      "cell_type": "code",
      "source": [
        "import os\n",
        "import yt_dlp\n",
        "import whisper\n",
        "from tqdm import tqdm\n",
        "from google.colab import files\n",
        "\n",
        "# Define working folders\n",
        "folder_audio = \"audios\"\n",
        "folder_transcriptions = \"transcriptions\"\n",
        "url_file = \"vimeo.txt\"\n",
        "\n",
        "# Create folders if they don't exist\n",
        "os.makedirs(folder_audio, exist_ok=True)\n",
        "os.makedirs(folder_transcriptions, exist_ok=True)\n",
        "\n",
        "# Load Whisper model\n",
        "model = whisper.load_model(\"base\")\n",
        "\n",
        "# Upload cookies file (run this once)\n",
        "print(\"📤 Please upload your cookies.txt file\")\n",
        "uploaded = files.upload()  # This will prompt you to upload cookies.txt\n",
        "\n",
        "def download_vimeo_audio(url, output_path):\n",
        "    \"\"\"Downloads only the audio from the Vimeo video and saves it to the specified location.\"\"\"\n",
        "    options = {\n",
        "        \"format\": \"bestaudio\",\n",
        "        \"outtmpl\": output_path,\n",
        "        \"cookiefile\": \"vimeo.com_cookies.txt\",  # Use the uploaded cookies file\n",
        "        \"postprocessors\": [\n",
        "            {\n",
        "                \"key\": \"FFmpegExtractAudio\",\n",
        "                \"preferredcodec\": \"mp3\",\n",
        "                \"preferredquality\": \"192\"\n",
        "            }\n",
        "        ],\n",
        "        \"quiet\": False,\n",
        "        \"no_warnings\": False,\n",
        "    }\n",
        "    with yt_dlp.YoutubeDL(options) as ydl:\n",
        "        ydl.download([url])\n",
        "\n",
        "\n",
        "def transcribe_audio(audio_path, output_text_path):\n",
        "    \"\"\"Transcribes the audio and saves the result to a text file.\"\"\"\n",
        "    print(f\"🎤 Transcribing: {audio_path}\")\n",
        "    result = model.transcribe(audio_path)\n",
        "    with open(output_text_path, \"w\", encoding=\"utf-8\") as text_file:\n",
        "        text_file.write(result[\"text\"])\n",
        "\n",
        "\n",
        "def process_urls():\n",
        "    \"\"\"Reads URLs, downloads audio, transcribes it, and deletes the audio afterwards.\"\"\"\n",
        "    with open(url_file, \"r\") as f:\n",
        "        urls = [line.strip() for line in f.readlines() if line.strip()]\n",
        "\n",
        "    for url in tqdm(urls, desc=\"Processing videos\"):\n",
        "        print(f\"\\n🔽 Processing: {url}\")\n",
        "\n",
        "        # Determine output file name\n",
        "        output_audio_path = os.path.join(folder_audio, \"%(title)s.%(ext)s\")\n",
        "\n",
        "        try:\n",
        "            download_vimeo_audio(url, output_audio_path)\n",
        "        except Exception as e:\n",
        "            print(f\"❌ Error downloading {url}: {e}\")\n",
        "            continue\n",
        "\n",
        "        # Find the downloaded file\n",
        "        mp3_files = [f for f in os.listdir(folder_audio) if f.endswith(\".mp3\")]\n",
        "        if not mp3_files:\n",
        "            print(f\"⚠️ Downloaded file not found for {url}\")\n",
        "            continue\n",
        "\n",
        "        audio_file = os.path.join(folder_audio, mp3_files[0])\n",
        "        output_text_path = os.path.join(folder_transcriptions, f\"{os.path.splitext(mp3_files[0])[0]}.txt\")\n",
        "\n",
        "        try:\n",
        "            # Transcribe and delete the audio\n",
        "            transcribe_audio(audio_file, output_text_path)\n",
        "            os.remove(audio_file)\n",
        "            print(f\"✅ Transcription saved and audio deleted: {output_text_path}\")\n",
        "        except Exception as e:\n",
        "            print(f\"❌ Error transcribing {audio_file}: {e}\")\n",
        "\n",
        "\n",
        "if __name__ == \"__main__\":\n",
        "    process_urls()"
      ],
      "metadata": {
        "colab": {
          "base_uri": "https://localhost:8080/",
          "height": 1000
        },
        "id": "HE6RXrFP_ScP",
        "outputId": "a1cc010a-7c5a-4a9e-8679-ad25b36ba82f"
      },
      "execution_count": 10,
      "outputs": [
        {
          "output_type": "stream",
          "name": "stdout",
          "text": [
            "📤 Please upload your cookies.txt file\n"
          ]
        },
        {
          "output_type": "display_data",
          "data": {
            "text/plain": [
              "<IPython.core.display.HTML object>"
            ],
            "text/html": [
              "\n",
              "     <input type=\"file\" id=\"files-c47d3590-95eb-430d-84cb-06a0a93ce20e\" name=\"files[]\" multiple disabled\n",
              "        style=\"border:none\" />\n",
              "     <output id=\"result-c47d3590-95eb-430d-84cb-06a0a93ce20e\">\n",
              "      Upload widget is only available when the cell has been executed in the\n",
              "      current browser session. Please rerun this cell to enable.\n",
              "      </output>\n",
              "      <script>// Copyright 2017 Google LLC\n",
              "//\n",
              "// Licensed under the Apache License, Version 2.0 (the \"License\");\n",
              "// you may not use this file except in compliance with the License.\n",
              "// You may obtain a copy of the License at\n",
              "//\n",
              "//      http://www.apache.org/licenses/LICENSE-2.0\n",
              "//\n",
              "// Unless required by applicable law or agreed to in writing, software\n",
              "// distributed under the License is distributed on an \"AS IS\" BASIS,\n",
              "// WITHOUT WARRANTIES OR CONDITIONS OF ANY KIND, either express or implied.\n",
              "// See the License for the specific language governing permissions and\n",
              "// limitations under the License.\n",
              "\n",
              "/**\n",
              " * @fileoverview Helpers for google.colab Python module.\n",
              " */\n",
              "(function(scope) {\n",
              "function span(text, styleAttributes = {}) {\n",
              "  const element = document.createElement('span');\n",
              "  element.textContent = text;\n",
              "  for (const key of Object.keys(styleAttributes)) {\n",
              "    element.style[key] = styleAttributes[key];\n",
              "  }\n",
              "  return element;\n",
              "}\n",
              "\n",
              "// Max number of bytes which will be uploaded at a time.\n",
              "const MAX_PAYLOAD_SIZE = 100 * 1024;\n",
              "\n",
              "function _uploadFiles(inputId, outputId) {\n",
              "  const steps = uploadFilesStep(inputId, outputId);\n",
              "  const outputElement = document.getElementById(outputId);\n",
              "  // Cache steps on the outputElement to make it available for the next call\n",
              "  // to uploadFilesContinue from Python.\n",
              "  outputElement.steps = steps;\n",
              "\n",
              "  return _uploadFilesContinue(outputId);\n",
              "}\n",
              "\n",
              "// This is roughly an async generator (not supported in the browser yet),\n",
              "// where there are multiple asynchronous steps and the Python side is going\n",
              "// to poll for completion of each step.\n",
              "// This uses a Promise to block the python side on completion of each step,\n",
              "// then passes the result of the previous step as the input to the next step.\n",
              "function _uploadFilesContinue(outputId) {\n",
              "  const outputElement = document.getElementById(outputId);\n",
              "  const steps = outputElement.steps;\n",
              "\n",
              "  const next = steps.next(outputElement.lastPromiseValue);\n",
              "  return Promise.resolve(next.value.promise).then((value) => {\n",
              "    // Cache the last promise value to make it available to the next\n",
              "    // step of the generator.\n",
              "    outputElement.lastPromiseValue = value;\n",
              "    return next.value.response;\n",
              "  });\n",
              "}\n",
              "\n",
              "/**\n",
              " * Generator function which is called between each async step of the upload\n",
              " * process.\n",
              " * @param {string} inputId Element ID of the input file picker element.\n",
              " * @param {string} outputId Element ID of the output display.\n",
              " * @return {!Iterable<!Object>} Iterable of next steps.\n",
              " */\n",
              "function* uploadFilesStep(inputId, outputId) {\n",
              "  const inputElement = document.getElementById(inputId);\n",
              "  inputElement.disabled = false;\n",
              "\n",
              "  const outputElement = document.getElementById(outputId);\n",
              "  outputElement.innerHTML = '';\n",
              "\n",
              "  const pickedPromise = new Promise((resolve) => {\n",
              "    inputElement.addEventListener('change', (e) => {\n",
              "      resolve(e.target.files);\n",
              "    });\n",
              "  });\n",
              "\n",
              "  const cancel = document.createElement('button');\n",
              "  inputElement.parentElement.appendChild(cancel);\n",
              "  cancel.textContent = 'Cancel upload';\n",
              "  const cancelPromise = new Promise((resolve) => {\n",
              "    cancel.onclick = () => {\n",
              "      resolve(null);\n",
              "    };\n",
              "  });\n",
              "\n",
              "  // Wait for the user to pick the files.\n",
              "  const files = yield {\n",
              "    promise: Promise.race([pickedPromise, cancelPromise]),\n",
              "    response: {\n",
              "      action: 'starting',\n",
              "    }\n",
              "  };\n",
              "\n",
              "  cancel.remove();\n",
              "\n",
              "  // Disable the input element since further picks are not allowed.\n",
              "  inputElement.disabled = true;\n",
              "\n",
              "  if (!files) {\n",
              "    return {\n",
              "      response: {\n",
              "        action: 'complete',\n",
              "      }\n",
              "    };\n",
              "  }\n",
              "\n",
              "  for (const file of files) {\n",
              "    const li = document.createElement('li');\n",
              "    li.append(span(file.name, {fontWeight: 'bold'}));\n",
              "    li.append(span(\n",
              "        `(${file.type || 'n/a'}) - ${file.size} bytes, ` +\n",
              "        `last modified: ${\n",
              "            file.lastModifiedDate ? file.lastModifiedDate.toLocaleDateString() :\n",
              "                                    'n/a'} - `));\n",
              "    const percent = span('0% done');\n",
              "    li.appendChild(percent);\n",
              "\n",
              "    outputElement.appendChild(li);\n",
              "\n",
              "    const fileDataPromise = new Promise((resolve) => {\n",
              "      const reader = new FileReader();\n",
              "      reader.onload = (e) => {\n",
              "        resolve(e.target.result);\n",
              "      };\n",
              "      reader.readAsArrayBuffer(file);\n",
              "    });\n",
              "    // Wait for the data to be ready.\n",
              "    let fileData = yield {\n",
              "      promise: fileDataPromise,\n",
              "      response: {\n",
              "        action: 'continue',\n",
              "      }\n",
              "    };\n",
              "\n",
              "    // Use a chunked sending to avoid message size limits. See b/62115660.\n",
              "    let position = 0;\n",
              "    do {\n",
              "      const length = Math.min(fileData.byteLength - position, MAX_PAYLOAD_SIZE);\n",
              "      const chunk = new Uint8Array(fileData, position, length);\n",
              "      position += length;\n",
              "\n",
              "      const base64 = btoa(String.fromCharCode.apply(null, chunk));\n",
              "      yield {\n",
              "        response: {\n",
              "          action: 'append',\n",
              "          file: file.name,\n",
              "          data: base64,\n",
              "        },\n",
              "      };\n",
              "\n",
              "      let percentDone = fileData.byteLength === 0 ?\n",
              "          100 :\n",
              "          Math.round((position / fileData.byteLength) * 100);\n",
              "      percent.textContent = `${percentDone}% done`;\n",
              "\n",
              "    } while (position < fileData.byteLength);\n",
              "  }\n",
              "\n",
              "  // All done.\n",
              "  yield {\n",
              "    response: {\n",
              "      action: 'complete',\n",
              "    }\n",
              "  };\n",
              "}\n",
              "\n",
              "scope.google = scope.google || {};\n",
              "scope.google.colab = scope.google.colab || {};\n",
              "scope.google.colab._files = {\n",
              "  _uploadFiles,\n",
              "  _uploadFilesContinue,\n",
              "};\n",
              "})(self);\n",
              "</script> "
            ]
          },
          "metadata": {}
        },
        {
          "output_type": "stream",
          "name": "stdout",
          "text": [
            "Saving vimeo.com_cookies.txt to vimeo.com_cookies (3).txt\n"
          ]
        },
        {
          "output_type": "stream",
          "name": "stderr",
          "text": [
            "\rProcessing videos:   0%|          | 0/3 [00:00<?, ?it/s]"
          ]
        },
        {
          "output_type": "stream",
          "name": "stdout",
          "text": [
            "\n",
            "🔽 Processing: https://vimeo.com/910802846\n",
            "[vimeo] Extracting URL: https://vimeo.com/910802846\n",
            "[vimeo] 910802846: Downloading webpage\n",
            "[vimeo] Downloading web token info\n",
            "[vimeo] 910802846: Downloading web API JSON\n",
            "[vimeo] 910802846: Downloading JSON metadata\n",
            "[vimeo] 910802846: Downloading akfire_interconnect_quic m3u8 information\n",
            "[vimeo] 910802846: Downloading fastly_skyfire m3u8 information\n",
            "[vimeo] 910802846: Downloading akfire_interconnect_quic MPD information\n"
          ]
        },
        {
          "output_type": "stream",
          "name": "stderr",
          "text": [
            "WARNING: [vimeo] 910802846: Failed to parse XML: not well-formed (invalid token): line 1, column 0\n"
          ]
        },
        {
          "output_type": "stream",
          "name": "stdout",
          "text": [
            "[vimeo] 910802846: Downloading fastly_skyfire MPD information\n"
          ]
        },
        {
          "output_type": "stream",
          "name": "stderr",
          "text": [
            "WARNING: [vimeo] 910802846: Failed to parse XML: not well-formed (invalid token): line 1, column 0\n"
          ]
        },
        {
          "output_type": "stream",
          "name": "stdout",
          "text": [
            "[vimeo] 910802846: Loading download config JSON\n",
            "[vimeo] 910802846: Downloading web API JSON\n",
            "[vimeo] 910802846: Downloading web API JSON\n",
            "[info] 910802846: Downloading 1 format(s): hls-fastly_skyfire-audio-high-Èdè_Yorùbá\n",
            "[hlsnative] Downloading m3u8 manifest\n",
            "[hlsnative] Total fragments: 12\n",
            "[download] Destination: audios/Quadratic Equations-Mathematics-JSS3.mp4\n",
            "[download] 100% of    1.63MiB in 00:00:00 at 3.14MiB/s                   \n",
            "[FixupM3u8] Fixing MPEG-TS in MP4 container of \"audios/Quadratic Equations-Mathematics-JSS3.mp4\"\n",
            "[ExtractAudio] Destination: audios/Quadratic Equations-Mathematics-JSS3.mp3\n",
            "Deleting original file audios/Quadratic Equations-Mathematics-JSS3.mp4 (pass -k to keep)\n",
            "🎤 Transcribing: audios/Quadratic Equations-Mathematics-JSS3.mp3\n"
          ]
        },
        {
          "output_type": "stream",
          "name": "stderr",
          "text": [
            "/usr/local/lib/python3.12/dist-packages/whisper/transcribe.py:132: UserWarning: FP16 is not supported on CPU; using FP32 instead\n",
            "  warnings.warn(\"FP16 is not supported on CPU; using FP32 instead\")\n",
            "Processing videos:  33%|███▎      | 1/3 [00:23<00:47, 23.88s/it]"
          ]
        },
        {
          "output_type": "stream",
          "name": "stdout",
          "text": [
            "✅ Transcription saved and audio deleted: transcriptions/Quadratic Equations-Mathematics-JSS3.txt\n",
            "\n",
            "🔽 Processing: https://vimeo.com/872924274\n",
            "[vimeo] Extracting URL: https://vimeo.com/872924274\n",
            "[vimeo] 872924274: Downloading webpage\n",
            "[vimeo] Downloading web token info\n",
            "[vimeo] 872924274: Downloading web API JSON\n",
            "[vimeo] 872924274: Downloading JSON metadata\n",
            "[vimeo] 872924274: Downloading akfire_interconnect_quic m3u8 information\n",
            "[vimeo] 872924274: Downloading fastly_skyfire m3u8 information\n",
            "[vimeo] 872924274: Downloading akfire_interconnect_quic MPD information\n"
          ]
        },
        {
          "output_type": "stream",
          "name": "stderr",
          "text": [
            "WARNING: [vimeo] 872924274: Failed to parse XML: not well-formed (invalid token): line 1, column 0\n"
          ]
        },
        {
          "output_type": "stream",
          "name": "stdout",
          "text": [
            "[vimeo] 872924274: Downloading fastly_skyfire MPD information\n"
          ]
        },
        {
          "output_type": "stream",
          "name": "stderr",
          "text": [
            "WARNING: [vimeo] 872924274: Failed to parse XML: not well-formed (invalid token): line 1, column 0\n"
          ]
        },
        {
          "output_type": "stream",
          "name": "stdout",
          "text": [
            "[vimeo] 872924274: Loading download config JSON\n",
            "[vimeo] 872924274: Downloading web API JSON\n",
            "[vimeo] 872924274: Downloading web API JSON\n",
            "[info] 872924274: Downloading 1 format(s): hls-fastly_skyfire-audio-high-Èdè_Yorùbá\n",
            "[hlsnative] Downloading m3u8 manifest\n",
            "[hlsnative] Total fragments: 20\n",
            "[download] Destination: audios/Introduction to Chemistry-Chemistry-SS2.mp4\n",
            "[download] 100% of    2.86MiB in 00:00:00 at 3.22MiB/s                   \n",
            "[FixupM3u8] Fixing MPEG-TS in MP4 container of \"audios/Introduction to Chemistry-Chemistry-SS2.mp4\"\n",
            "[ExtractAudio] Destination: audios/Introduction to Chemistry-Chemistry-SS2.mp3\n",
            "Deleting original file audios/Introduction to Chemistry-Chemistry-SS2.mp4 (pass -k to keep)\n",
            "🎤 Transcribing: audios/Introduction to Chemistry-Chemistry-SS2.mp3\n"
          ]
        },
        {
          "output_type": "stream",
          "name": "stderr",
          "text": [
            "/usr/local/lib/python3.12/dist-packages/whisper/transcribe.py:132: UserWarning: FP16 is not supported on CPU; using FP32 instead\n",
            "  warnings.warn(\"FP16 is not supported on CPU; using FP32 instead\")\n",
            "Processing videos:  67%|██████▋   | 2/3 [01:09<00:36, 36.94s/it]"
          ]
        },
        {
          "output_type": "stream",
          "name": "stdout",
          "text": [
            "✅ Transcription saved and audio deleted: transcriptions/Introduction to Chemistry-Chemistry-SS2.txt\n",
            "\n",
            "🔽 Processing: https://vimeo.com/1118250162\n",
            "[vimeo] Extracting URL: https://vimeo.com/1118250162\n",
            "[vimeo] 1118250162: Downloading webpage\n",
            "[vimeo] Downloading web token info\n",
            "[vimeo] 1118250162: Downloading web API JSON\n",
            "[vimeo] 1118250162: Downloading JSON metadata\n",
            "[vimeo] 1118250162: Downloading akfire_interconnect_quic m3u8 information\n",
            "[vimeo] 1118250162: Downloading fastly_skyfire m3u8 information\n",
            "[vimeo] 1118250162: Downloading akfire_interconnect_quic MPD information\n"
          ]
        },
        {
          "output_type": "stream",
          "name": "stderr",
          "text": [
            "WARNING: [vimeo] 1118250162: Failed to parse XML: not well-formed (invalid token): line 1, column 0\n"
          ]
        },
        {
          "output_type": "stream",
          "name": "stdout",
          "text": [
            "[vimeo] 1118250162: Downloading fastly_skyfire MPD information\n"
          ]
        },
        {
          "output_type": "stream",
          "name": "stderr",
          "text": [
            "WARNING: [vimeo] 1118250162: Failed to parse XML: not well-formed (invalid token): line 1, column 0\n"
          ]
        },
        {
          "output_type": "stream",
          "name": "stdout",
          "text": [
            "[vimeo] 1118250162: Loading download config JSON\n",
            "[vimeo] 1118250162: Downloading web API JSON\n",
            "[vimeo] 1118250162: Downloading web API JSON\n",
            "[info] 1118250162: Downloading 1 format(s): hls-fastly_skyfire-audio-high-Original\n",
            "[hlsnative] Downloading m3u8 manifest\n",
            "[hlsnative] Total fragments: 208\n",
            "[download] Destination: audios/Galvanometer Conversion-Physics-SS3.mp4\n",
            "[download] 100% of   29.68MiB in 00:00:09 at 3.07MiB/s                   \n",
            "[FixupM3u8] Fixing MPEG-TS in MP4 container of \"audios/Galvanometer Conversion-Physics-SS3.mp4\"\n",
            "[ExtractAudio] Destination: audios/Galvanometer Conversion-Physics-SS3.mp3\n",
            "Deleting original file audios/Galvanometer Conversion-Physics-SS3.mp4 (pass -k to keep)\n",
            "🎤 Transcribing: audios/Galvanometer Conversion-Physics-SS3.mp3\n"
          ]
        },
        {
          "output_type": "stream",
          "name": "stderr",
          "text": [
            "/usr/local/lib/python3.12/dist-packages/whisper/transcribe.py:132: UserWarning: FP16 is not supported on CPU; using FP32 instead\n",
            "  warnings.warn(\"FP16 is not supported on CPU; using FP32 instead\")\n",
            "Processing videos: 100%|██████████| 3/3 [06:29<00:00, 129.88s/it]"
          ]
        },
        {
          "output_type": "stream",
          "name": "stdout",
          "text": [
            "✅ Transcription saved and audio deleted: transcriptions/Galvanometer Conversion-Physics-SS3.txt\n"
          ]
        },
        {
          "output_type": "stream",
          "name": "stderr",
          "text": [
            "\n"
          ]
        }
      ]
    }
  ]
}